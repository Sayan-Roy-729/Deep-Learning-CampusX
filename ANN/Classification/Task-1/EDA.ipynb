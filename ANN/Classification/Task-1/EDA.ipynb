{
  "nbformat": 4,
  "nbformat_minor": 0,
  "metadata": {
    "colab": {
      "name": "EDA.ipynb",
      "provenance": [],
      "collapsed_sections": []
    },
    "kernelspec": {
      "name": "python3",
      "display_name": "Python 3"
    }
  },
  "cells": [
    {
      "cell_type": "markdown",
      "metadata": {
        "id": "zSqqJB1jzdTA",
        "colab_type": "text"
      },
      "source": [
        "# Part 1 - Importing libriries"
      ]
    },
    {
      "cell_type": "code",
      "metadata": {
        "id": "VVX7RBgAzhYT",
        "colab_type": "code",
        "colab": {
          "base_uri": "https://localhost:8080/",
          "height": 74
        },
        "outputId": "17895eae-1a99-4139-aa43-ce24ae945dab"
      },
      "source": [
        "import numpy as np\n",
        "import pandas as pd\n",
        "import matplotlib.pyplot as plt\n",
        "import seaborn as sns\n",
        "%matplotlib inline"
      ],
      "execution_count": 1,
      "outputs": [
        {
          "output_type": "stream",
          "text": [
            "/usr/local/lib/python3.6/dist-packages/statsmodels/tools/_testing.py:19: FutureWarning: pandas.util.testing is deprecated. Use the functions in the public API at pandas.testing instead.\n",
            "  import pandas.util.testing as tm\n"
          ],
          "name": "stderr"
        }
      ]
    },
    {
      "cell_type": "markdown",
      "metadata": {
        "id": "Zh9v8bDM1Vpq",
        "colab_type": "text"
      },
      "source": [
        "# Part 2 - Importing the dataset"
      ]
    },
    {
      "cell_type": "code",
      "metadata": {
        "id": "mnWVTeVl1SDG",
        "colab_type": "code",
        "colab": {}
      },
      "source": [
        "train = pd.read_csv(\"titanic_train.csv\")"
      ],
      "execution_count": 2,
      "outputs": []
    },
    {
      "cell_type": "code",
      "metadata": {
        "id": "VZeTAnZ_1f_I",
        "colab_type": "code",
        "colab": {
          "base_uri": "https://localhost:8080/",
          "height": 206
        },
        "outputId": "d1b12e94-3758-4665-cf73-9d8fd9757298"
      },
      "source": [
        "train.head()"
      ],
      "execution_count": 3,
      "outputs": [
        {
          "output_type": "execute_result",
          "data": {
            "text/html": [
              "<div>\n",
              "<style scoped>\n",
              "    .dataframe tbody tr th:only-of-type {\n",
              "        vertical-align: middle;\n",
              "    }\n",
              "\n",
              "    .dataframe tbody tr th {\n",
              "        vertical-align: top;\n",
              "    }\n",
              "\n",
              "    .dataframe thead th {\n",
              "        text-align: right;\n",
              "    }\n",
              "</style>\n",
              "<table border=\"1\" class=\"dataframe\">\n",
              "  <thead>\n",
              "    <tr style=\"text-align: right;\">\n",
              "      <th></th>\n",
              "      <th>PassengerId</th>\n",
              "      <th>Survived</th>\n",
              "      <th>Pclass</th>\n",
              "      <th>Name</th>\n",
              "      <th>Sex</th>\n",
              "      <th>Age</th>\n",
              "      <th>SibSp</th>\n",
              "      <th>Parch</th>\n",
              "      <th>Ticket</th>\n",
              "      <th>Fare</th>\n",
              "      <th>Cabin</th>\n",
              "      <th>Embarked</th>\n",
              "    </tr>\n",
              "  </thead>\n",
              "  <tbody>\n",
              "    <tr>\n",
              "      <th>0</th>\n",
              "      <td>1</td>\n",
              "      <td>0</td>\n",
              "      <td>3</td>\n",
              "      <td>Braund, Mr. Owen Harris</td>\n",
              "      <td>male</td>\n",
              "      <td>22.0</td>\n",
              "      <td>1</td>\n",
              "      <td>0</td>\n",
              "      <td>A/5 21171</td>\n",
              "      <td>7.2500</td>\n",
              "      <td>NaN</td>\n",
              "      <td>S</td>\n",
              "    </tr>\n",
              "    <tr>\n",
              "      <th>1</th>\n",
              "      <td>2</td>\n",
              "      <td>1</td>\n",
              "      <td>1</td>\n",
              "      <td>Cumings, Mrs. John Bradley (Florence Briggs Th...</td>\n",
              "      <td>female</td>\n",
              "      <td>38.0</td>\n",
              "      <td>1</td>\n",
              "      <td>0</td>\n",
              "      <td>PC 17599</td>\n",
              "      <td>71.2833</td>\n",
              "      <td>C85</td>\n",
              "      <td>C</td>\n",
              "    </tr>\n",
              "    <tr>\n",
              "      <th>2</th>\n",
              "      <td>3</td>\n",
              "      <td>1</td>\n",
              "      <td>3</td>\n",
              "      <td>Heikkinen, Miss. Laina</td>\n",
              "      <td>female</td>\n",
              "      <td>26.0</td>\n",
              "      <td>0</td>\n",
              "      <td>0</td>\n",
              "      <td>STON/O2. 3101282</td>\n",
              "      <td>7.9250</td>\n",
              "      <td>NaN</td>\n",
              "      <td>S</td>\n",
              "    </tr>\n",
              "    <tr>\n",
              "      <th>3</th>\n",
              "      <td>4</td>\n",
              "      <td>1</td>\n",
              "      <td>1</td>\n",
              "      <td>Futrelle, Mrs. Jacques Heath (Lily May Peel)</td>\n",
              "      <td>female</td>\n",
              "      <td>35.0</td>\n",
              "      <td>1</td>\n",
              "      <td>0</td>\n",
              "      <td>113803</td>\n",
              "      <td>53.1000</td>\n",
              "      <td>C123</td>\n",
              "      <td>S</td>\n",
              "    </tr>\n",
              "    <tr>\n",
              "      <th>4</th>\n",
              "      <td>5</td>\n",
              "      <td>0</td>\n",
              "      <td>3</td>\n",
              "      <td>Allen, Mr. William Henry</td>\n",
              "      <td>male</td>\n",
              "      <td>35.0</td>\n",
              "      <td>0</td>\n",
              "      <td>0</td>\n",
              "      <td>373450</td>\n",
              "      <td>8.0500</td>\n",
              "      <td>NaN</td>\n",
              "      <td>S</td>\n",
              "    </tr>\n",
              "  </tbody>\n",
              "</table>\n",
              "</div>"
            ],
            "text/plain": [
              "   PassengerId  Survived  Pclass  ...     Fare Cabin  Embarked\n",
              "0            1         0       3  ...   7.2500   NaN         S\n",
              "1            2         1       1  ...  71.2833   C85         C\n",
              "2            3         1       3  ...   7.9250   NaN         S\n",
              "3            4         1       1  ...  53.1000  C123         S\n",
              "4            5         0       3  ...   8.0500   NaN         S\n",
              "\n",
              "[5 rows x 12 columns]"
            ]
          },
          "metadata": {
            "tags": []
          },
          "execution_count": 3
        }
      ]
    },
    {
      "cell_type": "markdown",
      "metadata": {
        "id": "YC9q4ToX12oo",
        "colab_type": "text"
      },
      "source": [
        "# Part 3 - Exploratory Data Analysisi"
      ]
    },
    {
      "cell_type": "markdown",
      "metadata": {
        "id": "4oKd5cpa1-fQ",
        "colab_type": "text"
      },
      "source": [
        "## Part 3.1 - Missing Data"
      ]
    },
    {
      "cell_type": "code",
      "metadata": {
        "id": "X9EqLUQk1jgJ",
        "colab_type": "code",
        "colab": {
          "base_uri": "https://localhost:8080/",
          "height": 423
        },
        "outputId": "d7049ccb-80f5-43d6-b5cb-5e699d4e57f6"
      },
      "source": [
        "train.isnull()"
      ],
      "execution_count": 4,
      "outputs": [
        {
          "output_type": "execute_result",
          "data": {
            "text/html": [
              "<div>\n",
              "<style scoped>\n",
              "    .dataframe tbody tr th:only-of-type {\n",
              "        vertical-align: middle;\n",
              "    }\n",
              "\n",
              "    .dataframe tbody tr th {\n",
              "        vertical-align: top;\n",
              "    }\n",
              "\n",
              "    .dataframe thead th {\n",
              "        text-align: right;\n",
              "    }\n",
              "</style>\n",
              "<table border=\"1\" class=\"dataframe\">\n",
              "  <thead>\n",
              "    <tr style=\"text-align: right;\">\n",
              "      <th></th>\n",
              "      <th>PassengerId</th>\n",
              "      <th>Survived</th>\n",
              "      <th>Pclass</th>\n",
              "      <th>Name</th>\n",
              "      <th>Sex</th>\n",
              "      <th>Age</th>\n",
              "      <th>SibSp</th>\n",
              "      <th>Parch</th>\n",
              "      <th>Ticket</th>\n",
              "      <th>Fare</th>\n",
              "      <th>Cabin</th>\n",
              "      <th>Embarked</th>\n",
              "    </tr>\n",
              "  </thead>\n",
              "  <tbody>\n",
              "    <tr>\n",
              "      <th>0</th>\n",
              "      <td>False</td>\n",
              "      <td>False</td>\n",
              "      <td>False</td>\n",
              "      <td>False</td>\n",
              "      <td>False</td>\n",
              "      <td>False</td>\n",
              "      <td>False</td>\n",
              "      <td>False</td>\n",
              "      <td>False</td>\n",
              "      <td>False</td>\n",
              "      <td>True</td>\n",
              "      <td>False</td>\n",
              "    </tr>\n",
              "    <tr>\n",
              "      <th>1</th>\n",
              "      <td>False</td>\n",
              "      <td>False</td>\n",
              "      <td>False</td>\n",
              "      <td>False</td>\n",
              "      <td>False</td>\n",
              "      <td>False</td>\n",
              "      <td>False</td>\n",
              "      <td>False</td>\n",
              "      <td>False</td>\n",
              "      <td>False</td>\n",
              "      <td>False</td>\n",
              "      <td>False</td>\n",
              "    </tr>\n",
              "    <tr>\n",
              "      <th>2</th>\n",
              "      <td>False</td>\n",
              "      <td>False</td>\n",
              "      <td>False</td>\n",
              "      <td>False</td>\n",
              "      <td>False</td>\n",
              "      <td>False</td>\n",
              "      <td>False</td>\n",
              "      <td>False</td>\n",
              "      <td>False</td>\n",
              "      <td>False</td>\n",
              "      <td>True</td>\n",
              "      <td>False</td>\n",
              "    </tr>\n",
              "    <tr>\n",
              "      <th>3</th>\n",
              "      <td>False</td>\n",
              "      <td>False</td>\n",
              "      <td>False</td>\n",
              "      <td>False</td>\n",
              "      <td>False</td>\n",
              "      <td>False</td>\n",
              "      <td>False</td>\n",
              "      <td>False</td>\n",
              "      <td>False</td>\n",
              "      <td>False</td>\n",
              "      <td>False</td>\n",
              "      <td>False</td>\n",
              "    </tr>\n",
              "    <tr>\n",
              "      <th>4</th>\n",
              "      <td>False</td>\n",
              "      <td>False</td>\n",
              "      <td>False</td>\n",
              "      <td>False</td>\n",
              "      <td>False</td>\n",
              "      <td>False</td>\n",
              "      <td>False</td>\n",
              "      <td>False</td>\n",
              "      <td>False</td>\n",
              "      <td>False</td>\n",
              "      <td>True</td>\n",
              "      <td>False</td>\n",
              "    </tr>\n",
              "    <tr>\n",
              "      <th>...</th>\n",
              "      <td>...</td>\n",
              "      <td>...</td>\n",
              "      <td>...</td>\n",
              "      <td>...</td>\n",
              "      <td>...</td>\n",
              "      <td>...</td>\n",
              "      <td>...</td>\n",
              "      <td>...</td>\n",
              "      <td>...</td>\n",
              "      <td>...</td>\n",
              "      <td>...</td>\n",
              "      <td>...</td>\n",
              "    </tr>\n",
              "    <tr>\n",
              "      <th>886</th>\n",
              "      <td>False</td>\n",
              "      <td>False</td>\n",
              "      <td>False</td>\n",
              "      <td>False</td>\n",
              "      <td>False</td>\n",
              "      <td>False</td>\n",
              "      <td>False</td>\n",
              "      <td>False</td>\n",
              "      <td>False</td>\n",
              "      <td>False</td>\n",
              "      <td>True</td>\n",
              "      <td>False</td>\n",
              "    </tr>\n",
              "    <tr>\n",
              "      <th>887</th>\n",
              "      <td>False</td>\n",
              "      <td>False</td>\n",
              "      <td>False</td>\n",
              "      <td>False</td>\n",
              "      <td>False</td>\n",
              "      <td>False</td>\n",
              "      <td>False</td>\n",
              "      <td>False</td>\n",
              "      <td>False</td>\n",
              "      <td>False</td>\n",
              "      <td>False</td>\n",
              "      <td>False</td>\n",
              "    </tr>\n",
              "    <tr>\n",
              "      <th>888</th>\n",
              "      <td>False</td>\n",
              "      <td>False</td>\n",
              "      <td>False</td>\n",
              "      <td>False</td>\n",
              "      <td>False</td>\n",
              "      <td>True</td>\n",
              "      <td>False</td>\n",
              "      <td>False</td>\n",
              "      <td>False</td>\n",
              "      <td>False</td>\n",
              "      <td>True</td>\n",
              "      <td>False</td>\n",
              "    </tr>\n",
              "    <tr>\n",
              "      <th>889</th>\n",
              "      <td>False</td>\n",
              "      <td>False</td>\n",
              "      <td>False</td>\n",
              "      <td>False</td>\n",
              "      <td>False</td>\n",
              "      <td>False</td>\n",
              "      <td>False</td>\n",
              "      <td>False</td>\n",
              "      <td>False</td>\n",
              "      <td>False</td>\n",
              "      <td>False</td>\n",
              "      <td>False</td>\n",
              "    </tr>\n",
              "    <tr>\n",
              "      <th>890</th>\n",
              "      <td>False</td>\n",
              "      <td>False</td>\n",
              "      <td>False</td>\n",
              "      <td>False</td>\n",
              "      <td>False</td>\n",
              "      <td>False</td>\n",
              "      <td>False</td>\n",
              "      <td>False</td>\n",
              "      <td>False</td>\n",
              "      <td>False</td>\n",
              "      <td>True</td>\n",
              "      <td>False</td>\n",
              "    </tr>\n",
              "  </tbody>\n",
              "</table>\n",
              "<p>891 rows × 12 columns</p>\n",
              "</div>"
            ],
            "text/plain": [
              "     PassengerId  Survived  Pclass   Name  ...  Ticket   Fare  Cabin  Embarked\n",
              "0          False     False   False  False  ...   False  False   True     False\n",
              "1          False     False   False  False  ...   False  False  False     False\n",
              "2          False     False   False  False  ...   False  False   True     False\n",
              "3          False     False   False  False  ...   False  False  False     False\n",
              "4          False     False   False  False  ...   False  False   True     False\n",
              "..           ...       ...     ...    ...  ...     ...    ...    ...       ...\n",
              "886        False     False   False  False  ...   False  False   True     False\n",
              "887        False     False   False  False  ...   False  False  False     False\n",
              "888        False     False   False  False  ...   False  False   True     False\n",
              "889        False     False   False  False  ...   False  False  False     False\n",
              "890        False     False   False  False  ...   False  False   True     False\n",
              "\n",
              "[891 rows x 12 columns]"
            ]
          },
          "metadata": {
            "tags": []
          },
          "execution_count": 4
        }
      ]
    },
    {
      "cell_type": "code",
      "metadata": {
        "id": "6ULuGCxW2UW5",
        "colab_type": "code",
        "colab": {
          "base_uri": "https://localhost:8080/",
          "height": 447
        },
        "outputId": "6f71b1bd-8708-4113-e0e8-ae607317b661"
      },
      "source": [
        "plt.figure(figsize = (14, 7))\n",
        "sns.heatmap(train.isnull(), yticklabels = False, cbar = False, cmap = 'viridis')"
      ],
      "execution_count": 5,
      "outputs": [
        {
          "output_type": "execute_result",
          "data": {
            "text/plain": [
              "<matplotlib.axes._subplots.AxesSubplot at 0x7f3c903b7588>"
            ]
          },
          "metadata": {
            "tags": []
          },
          "execution_count": 5
        },
        {
          "output_type": "display_data",
          "data": {
            "image/png": "[encoded data removed]",
            "text/plain": [
              "<Figure size 1008x504 with 1 Axes>"
            ]
          },
          "metadata": {
            "tags": [],
            "needs_background": "light"
          }
        }
      ]
    },
    {
      "cell_type": "code",
      "metadata": {
        "id": "aKhRe1aF2-UK",
        "colab_type": "code",
        "colab": {
          "base_uri": "https://localhost:8080/",
          "height": 461
        },
        "outputId": "e39bfb57-debd-441d-ef01-416f4e5cea0d"
      },
      "source": [
        "plt.figure(figsize = (14, 7))\n",
        "sns.set_style('whitegrid')\n",
        "sns.countplot(x = 'Survived', data = train)"
      ],
      "execution_count": 6,
      "outputs": [
        {
          "output_type": "execute_result",
          "data": {
            "text/plain": [
              "<matplotlib.axes._subplots.AxesSubplot at 0x7f3c8c8a31d0>"
            ]
          },
          "metadata": {
            "tags": []
          },
          "execution_count": 6
        },
        {
          "output_type": "display_data",
          "data": {
            "image/png": "[encoded data removed]",
            "text/plain": [
              "<Figure size 1008x504 with 1 Axes>"
            ]
          },
          "metadata": {
            "tags": [],
            "needs_background": "light"
          }
        }
      ]
    },
    {
      "cell_type": "code",
      "metadata": {
        "id": "BKM3sMzP4YQy",
        "colab_type": "code",
        "colab": {
          "base_uri": "https://localhost:8080/",
          "height": 461
        },
        "outputId": "bbf17297-c16b-4b94-b5cf-d7559f4c06f3"
      },
      "source": [
        "plt.figure(figsize = (14, 7))\n",
        "sns.set_style('whitegrid')\n",
        "sns.countplot(x = 'Survived', hue = 'Sex', data = train, palette = 'RdBu_r')"
      ],
      "execution_count": 7,
      "outputs": [
        {
          "output_type": "execute_result",
          "data": {
            "text/plain": [
              "<matplotlib.axes._subplots.AxesSubplot at 0x7f3c8c40a898>"
            ]
          },
          "metadata": {
            "tags": []
          },
          "execution_count": 7
        },
        {
          "output_type": "display_data",
          "data": {
            "image/png": "[encoded data removed]",
            "text/plain": [
              "<Figure size 1008x504 with 1 Axes>"
            ]
          },
          "metadata": {
            "tags": []
          }
        }
      ]
    },
    {
      "cell_type": "code",
      "metadata": {
        "id": "GIU_6Rkh45Pd",
        "colab_type": "code",
        "colab": {
          "base_uri": "https://localhost:8080/",
          "height": 461
        },
        "outputId": "ce892d04-cbbc-4a18-a0c9-52aa1f9bc999"
      },
      "source": [
        "plt.figure(figsize = (14, 7))\n",
        "sns.set_style('whitegrid')\n",
        "sns.countplot(x = 'Survived', hue = 'Pclass', data = train, palette = 'rainbow', )"
      ],
      "execution_count": 8,
      "outputs": [
        {
          "output_type": "execute_result",
          "data": {
            "text/plain": [
              "<matplotlib.axes._subplots.AxesSubplot at 0x7f3c8c3c5c18>"
            ]
          },
          "metadata": {
            "tags": []
          },
          "execution_count": 8
        },
        {
          "output_type": "display_data",
          "data": {
            "image/png": "[encoded data removed]",
            "text/plain": [
              "<Figure size 1008x504 with 1 Axes>"
            ]
          },
          "metadata": {
            "tags": []
          }
        }
      ]
    },
    {
      "cell_type": "code",
      "metadata": {
        "id": "5sKYhWXy5hIl",
        "colab_type": "code",
        "colab": {
          "base_uri": "https://localhost:8080/",
          "height": 461
        },
        "outputId": "99641d61-ee50-485d-919a-d7e5aff9a95f"
      },
      "source": [
        "plt.figure(figsize = (14, 7))\n",
        "sns.distplot(train['Age'].dropna(), kde = False, color = 'darkred', bins = 40)"
      ],
      "execution_count": 9,
      "outputs": [
        {
          "output_type": "execute_result",
          "data": {
            "text/plain": [
              "<matplotlib.axes._subplots.AxesSubplot at 0x7f3c8c354d30>"
            ]
          },
          "metadata": {
            "tags": []
          },
          "execution_count": 9
        },
        {
          "output_type": "display_data",
          "data": {
            "image/png": "[encoded data removed]",
            "text/plain": [
              "<Figure size 1008x504 with 1 Axes>"
            ]
          },
          "metadata": {
            "tags": []
          }
        }
      ]
    },
    {
      "cell_type": "code",
      "metadata": {
        "id": "3r5zh-h76Vlv",
        "colab_type": "code",
        "colab": {
          "base_uri": "https://localhost:8080/",
          "height": 447
        },
        "outputId": "b7736f64-4a84-47f7-d201-cf29df97ea1f"
      },
      "source": [
        "plt.figure(figsize = (14, 7))\n",
        "train['Age'].hist(bins = 30, color = 'darkred', alpha = 0.3)"
      ],
      "execution_count": 10,
      "outputs": [
        {
          "output_type": "execute_result",
          "data": {
            "text/plain": [
              "<matplotlib.axes._subplots.AxesSubplot at 0x7f3c8c1fae80>"
            ]
          },
          "metadata": {
            "tags": []
          },
          "execution_count": 10
        },
        {
          "output_type": "display_data",
          "data": {
            "image/png": "[encoded data removed]",
            "text/plain": [
              "<Figure size 1008x504 with 1 Axes>"
            ]
          },
          "metadata": {
            "tags": []
          }
        }
      ]
    },
    {
      "cell_type": "code",
      "metadata": {
        "id": "tGj5PKJm7G5r",
        "colab_type": "code",
        "colab": {
          "base_uri": "https://localhost:8080/",
          "height": 461
        },
        "outputId": "699ef748-7c4b-4202-d2ad-0b0daa53b984"
      },
      "source": [
        "plt.figure(figsize = (14, 7))\n",
        "sns.countplot(x = 'SibSp', data = train)"
      ],
      "execution_count": 11,
      "outputs": [
        {
          "output_type": "execute_result",
          "data": {
            "text/plain": [
              "<matplotlib.axes._subplots.AxesSubplot at 0x7f3c8c11c550>"
            ]
          },
          "metadata": {
            "tags": []
          },
          "execution_count": 11
        },
        {
          "output_type": "display_data",
          "data": {
            "image/png": "[encoded data removed]",
            "text/plain": [
              "<Figure size 1008x504 with 1 Axes>"
            ]
          },
          "metadata": {
            "tags": []
          }
        }
      ]
    },
    {
      "cell_type": "code",
      "metadata": {
        "id": "gFZn-YQR7QGk",
        "colab_type": "code",
        "colab": {
          "base_uri": "https://localhost:8080/",
          "height": 286
        },
        "outputId": "3c07cc4d-63de-4bae-ac4c-f8ee8a5dd6be"
      },
      "source": [
        "plt.figure(figsize = (14, 7))\n",
        "train['Fare'].hist(color = 'green', bins = 40, figsize = (8, 4))"
      ],
      "execution_count": 12,
      "outputs": [
        {
          "output_type": "execute_result",
          "data": {
            "text/plain": [
              "<matplotlib.axes._subplots.AxesSubplot at 0x7f3c8c0ce8d0>"
            ]
          },
          "metadata": {
            "tags": []
          },
          "execution_count": 12
        },
        {
          "output_type": "display_data",
          "data": {
            "image/png": "[encoded data removed]",
            "text/plain": [
              "<Figure size 576x288 with 1 Axes>"
            ]
          },
          "metadata": {
            "tags": []
          }
        }
      ]
    },
    {
      "cell_type": "markdown",
      "metadata": {
        "id": "BiVQTvjC7ijb",
        "colab_type": "text"
      },
      "source": [
        "## Part 3.2 - Data Cleaning"
      ]
    },
    {
      "cell_type": "markdown",
      "metadata": {
        "id": "2bh_tDAe-iTW",
        "colab_type": "text"
      },
      "source": [
        "### Part 3.2.1 - Age Column"
      ]
    },
    {
      "cell_type": "code",
      "metadata": {
        "id": "hKTMUNHJ7gy7",
        "colab_type": "code",
        "colab": {
          "base_uri": "https://localhost:8080/",
          "height": 461
        },
        "outputId": "460ad607-e376-4a64-d724-6d72a1ee3642"
      },
      "source": [
        "plt.figure(figsize = (12, 7))\n",
        "sns.boxplot(x = 'Pclass', y = 'Age', data = train, palette = 'winter')"
      ],
      "execution_count": 13,
      "outputs": [
        {
          "output_type": "execute_result",
          "data": {
            "text/plain": [
              "<matplotlib.axes._subplots.AxesSubplot at 0x7f3c8c00c400>"
            ]
          },
          "metadata": {
            "tags": []
          },
          "execution_count": 13
        },
        {
          "output_type": "display_data",
          "data": {
            "image/png": "[encoded data removed]",
            "text/plain": [
              "<Figure size 864x504 with 1 Axes>"
            ]
          },
          "metadata": {
            "tags": []
          }
        }
      ]
    },
    {
      "cell_type": "code",
      "metadata": {
        "id": "vzkhpBCH71JR",
        "colab_type": "code",
        "colab": {}
      },
      "source": [
        "def input_age(cols):\n",
        "    Age = cols[0]\n",
        "    Pclass = cols[1]\n",
        "\n",
        "    if pd.isnull(Age):\n",
        "\n",
        "        if Pclass == 1:\n",
        "            return 37\n",
        "        elif Pclass == 2:\n",
        "            return 29\n",
        "\n",
        "        else:\n",
        "            return 24\n",
        "\n",
        "    else: return Age"
      ],
      "execution_count": 14,
      "outputs": []
    },
    {
      "cell_type": "code",
      "metadata": {
        "id": "_wJ_ogeW8sOT",
        "colab_type": "code",
        "colab": {}
      },
      "source": [
        "train['Age'] = train[['Age', 'Pclass']].apply(input_age, axis = 1)"
      ],
      "execution_count": 15,
      "outputs": []
    },
    {
      "cell_type": "code",
      "metadata": {
        "id": "KEBED3Nn9OsT",
        "colab_type": "code",
        "colab": {
          "base_uri": "https://localhost:8080/",
          "height": 447
        },
        "outputId": "6f6c82a2-5b7b-4f0e-b31b-7bbdc49ed01a"
      },
      "source": [
        "plt.figure(figsize = (14, 7))\n",
        "sns.heatmap(train.isnull(), yticklabels = False, cbar = False, cmap = 'viridis')"
      ],
      "execution_count": 16,
      "outputs": [
        {
          "output_type": "execute_result",
          "data": {
            "text/plain": [
              "<matplotlib.axes._subplots.AxesSubplot at 0x7f3c8bfa1ac8>"
            ]
          },
          "metadata": {
            "tags": []
          },
          "execution_count": 16
        },
        {
          "output_type": "display_data",
          "data": {
            "image/png": "[encoded data removed]",
            "text/plain": [
              "<Figure size 1008x504 with 1 Axes>"
            ]
          },
          "metadata": {
            "tags": []
          }
        }
      ]
    },
    {
      "cell_type": "markdown",
      "metadata": {
        "id": "70bYxjcK-sDK",
        "colab_type": "text"
      },
      "source": [
        "### Part 3.2.2 - Cabin Column"
      ]
    },
    {
      "cell_type": "code",
      "metadata": {
        "id": "JCvpAN9F9eTz",
        "colab_type": "code",
        "colab": {}
      },
      "source": [
        "train.drop('Cabin', axis = 1, inplace = True)"
      ],
      "execution_count": 17,
      "outputs": []
    },
    {
      "cell_type": "code",
      "metadata": {
        "id": "-a5a1ePu98Oj",
        "colab_type": "code",
        "colab": {
          "base_uri": "https://localhost:8080/",
          "height": 206
        },
        "outputId": "73fe869e-c74c-4dc4-d4e5-df3c32331e7d"
      },
      "source": [
        "train.head()"
      ],
      "execution_count": 18,
      "outputs": [
        {
          "output_type": "execute_result",
          "data": {
            "text/html": [
              "<div>\n",
              "<style scoped>\n",
              "    .dataframe tbody tr th:only-of-type {\n",
              "        vertical-align: middle;\n",
              "    }\n",
              "\n",
              "    .dataframe tbody tr th {\n",
              "        vertical-align: top;\n",
              "    }\n",
              "\n",
              "    .dataframe thead th {\n",
              "        text-align: right;\n",
              "    }\n",
              "</style>\n",
              "<table border=\"1\" class=\"dataframe\">\n",
              "  <thead>\n",
              "    <tr style=\"text-align: right;\">\n",
              "      <th></th>\n",
              "      <th>PassengerId</th>\n",
              "      <th>Survived</th>\n",
              "      <th>Pclass</th>\n",
              "      <th>Name</th>\n",
              "      <th>Sex</th>\n",
              "      <th>Age</th>\n",
              "      <th>SibSp</th>\n",
              "      <th>Parch</th>\n",
              "      <th>Ticket</th>\n",
              "      <th>Fare</th>\n",
              "      <th>Embarked</th>\n",
              "    </tr>\n",
              "  </thead>\n",
              "  <tbody>\n",
              "    <tr>\n",
              "      <th>0</th>\n",
              "      <td>1</td>\n",
              "      <td>0</td>\n",
              "      <td>3</td>\n",
              "      <td>Braund, Mr. Owen Harris</td>\n",
              "      <td>male</td>\n",
              "      <td>22.0</td>\n",
              "      <td>1</td>\n",
              "      <td>0</td>\n",
              "      <td>A/5 21171</td>\n",
              "      <td>7.2500</td>\n",
              "      <td>S</td>\n",
              "    </tr>\n",
              "    <tr>\n",
              "      <th>1</th>\n",
              "      <td>2</td>\n",
              "      <td>1</td>\n",
              "      <td>1</td>\n",
              "      <td>Cumings, Mrs. John Bradley (Florence Briggs Th...</td>\n",
              "      <td>female</td>\n",
              "      <td>38.0</td>\n",
              "      <td>1</td>\n",
              "      <td>0</td>\n",
              "      <td>PC 17599</td>\n",
              "      <td>71.2833</td>\n",
              "      <td>C</td>\n",
              "    </tr>\n",
              "    <tr>\n",
              "      <th>2</th>\n",
              "      <td>3</td>\n",
              "      <td>1</td>\n",
              "      <td>3</td>\n",
              "      <td>Heikkinen, Miss. Laina</td>\n",
              "      <td>female</td>\n",
              "      <td>26.0</td>\n",
              "      <td>0</td>\n",
              "      <td>0</td>\n",
              "      <td>STON/O2. 3101282</td>\n",
              "      <td>7.9250</td>\n",
              "      <td>S</td>\n",
              "    </tr>\n",
              "    <tr>\n",
              "      <th>3</th>\n",
              "      <td>4</td>\n",
              "      <td>1</td>\n",
              "      <td>1</td>\n",
              "      <td>Futrelle, Mrs. Jacques Heath (Lily May Peel)</td>\n",
              "      <td>female</td>\n",
              "      <td>35.0</td>\n",
              "      <td>1</td>\n",
              "      <td>0</td>\n",
              "      <td>113803</td>\n",
              "      <td>53.1000</td>\n",
              "      <td>S</td>\n",
              "    </tr>\n",
              "    <tr>\n",
              "      <th>4</th>\n",
              "      <td>5</td>\n",
              "      <td>0</td>\n",
              "      <td>3</td>\n",
              "      <td>Allen, Mr. William Henry</td>\n",
              "      <td>male</td>\n",
              "      <td>35.0</td>\n",
              "      <td>0</td>\n",
              "      <td>0</td>\n",
              "      <td>373450</td>\n",
              "      <td>8.0500</td>\n",
              "      <td>S</td>\n",
              "    </tr>\n",
              "  </tbody>\n",
              "</table>\n",
              "</div>"
            ],
            "text/plain": [
              "   PassengerId  Survived  Pclass  ...            Ticket     Fare  Embarked\n",
              "0            1         0       3  ...         A/5 21171   7.2500         S\n",
              "1            2         1       1  ...          PC 17599  71.2833         C\n",
              "2            3         1       3  ...  STON/O2. 3101282   7.9250         S\n",
              "3            4         1       1  ...            113803  53.1000         S\n",
              "4            5         0       3  ...            373450   8.0500         S\n",
              "\n",
              "[5 rows x 11 columns]"
            ]
          },
          "metadata": {
            "tags": []
          },
          "execution_count": 18
        }
      ]
    },
    {
      "cell_type": "markdown",
      "metadata": {
        "id": "hZQJrX5lOFdi",
        "colab_type": "text"
      },
      "source": [
        "### Part 3.2.3 - Creating *'Family'* column by adding SibSp & Parch Column"
      ]
    },
    {
      "cell_type": "code",
      "metadata": {
        "id": "iiEKOtOXOKSt",
        "colab_type": "code",
        "colab": {}
      },
      "source": [
        "train['Family'] = 0"
      ],
      "execution_count": 19,
      "outputs": []
    },
    {
      "cell_type": "code",
      "metadata": {
        "id": "8DZDWp65ONFx",
        "colab_type": "code",
        "colab": {}
      },
      "source": [
        "train['Family'] = train['SibSp'] + train['Parch']"
      ],
      "execution_count": 20,
      "outputs": []
    },
    {
      "cell_type": "code",
      "metadata": {
        "id": "f7VCpeoPOv66",
        "colab_type": "code",
        "colab": {
          "base_uri": "https://localhost:8080/",
          "height": 241
        },
        "outputId": "567822a0-ecae-4124-b825-1aad3f1f4bb6"
      },
      "source": [
        "train.head()"
      ],
      "execution_count": 21,
      "outputs": [
        {
          "output_type": "execute_result",
          "data": {
            "text/html": [
              "<div>\n",
              "<style scoped>\n",
              "    .dataframe tbody tr th:only-of-type {\n",
              "        vertical-align: middle;\n",
              "    }\n",
              "\n",
              "    .dataframe tbody tr th {\n",
              "        vertical-align: top;\n",
              "    }\n",
              "\n",
              "    .dataframe thead th {\n",
              "        text-align: right;\n",
              "    }\n",
              "</style>\n",
              "<table border=\"1\" class=\"dataframe\">\n",
              "  <thead>\n",
              "    <tr style=\"text-align: right;\">\n",
              "      <th></th>\n",
              "      <th>PassengerId</th>\n",
              "      <th>Survived</th>\n",
              "      <th>Pclass</th>\n",
              "      <th>Name</th>\n",
              "      <th>Sex</th>\n",
              "      <th>Age</th>\n",
              "      <th>SibSp</th>\n",
              "      <th>Parch</th>\n",
              "      <th>Ticket</th>\n",
              "      <th>Fare</th>\n",
              "      <th>Embarked</th>\n",
              "      <th>Family</th>\n",
              "    </tr>\n",
              "  </thead>\n",
              "  <tbody>\n",
              "    <tr>\n",
              "      <th>0</th>\n",
              "      <td>1</td>\n",
              "      <td>0</td>\n",
              "      <td>3</td>\n",
              "      <td>Braund, Mr. Owen Harris</td>\n",
              "      <td>male</td>\n",
              "      <td>22.0</td>\n",
              "      <td>1</td>\n",
              "      <td>0</td>\n",
              "      <td>A/5 21171</td>\n",
              "      <td>7.2500</td>\n",
              "      <td>S</td>\n",
              "      <td>1</td>\n",
              "    </tr>\n",
              "    <tr>\n",
              "      <th>1</th>\n",
              "      <td>2</td>\n",
              "      <td>1</td>\n",
              "      <td>1</td>\n",
              "      <td>Cumings, Mrs. John Bradley (Florence Briggs Th...</td>\n",
              "      <td>female</td>\n",
              "      <td>38.0</td>\n",
              "      <td>1</td>\n",
              "      <td>0</td>\n",
              "      <td>PC 17599</td>\n",
              "      <td>71.2833</td>\n",
              "      <td>C</td>\n",
              "      <td>1</td>\n",
              "    </tr>\n",
              "    <tr>\n",
              "      <th>2</th>\n",
              "      <td>3</td>\n",
              "      <td>1</td>\n",
              "      <td>3</td>\n",
              "      <td>Heikkinen, Miss. Laina</td>\n",
              "      <td>female</td>\n",
              "      <td>26.0</td>\n",
              "      <td>0</td>\n",
              "      <td>0</td>\n",
              "      <td>STON/O2. 3101282</td>\n",
              "      <td>7.9250</td>\n",
              "      <td>S</td>\n",
              "      <td>0</td>\n",
              "    </tr>\n",
              "    <tr>\n",
              "      <th>3</th>\n",
              "      <td>4</td>\n",
              "      <td>1</td>\n",
              "      <td>1</td>\n",
              "      <td>Futrelle, Mrs. Jacques Heath (Lily May Peel)</td>\n",
              "      <td>female</td>\n",
              "      <td>35.0</td>\n",
              "      <td>1</td>\n",
              "      <td>0</td>\n",
              "      <td>113803</td>\n",
              "      <td>53.1000</td>\n",
              "      <td>S</td>\n",
              "      <td>1</td>\n",
              "    </tr>\n",
              "    <tr>\n",
              "      <th>4</th>\n",
              "      <td>5</td>\n",
              "      <td>0</td>\n",
              "      <td>3</td>\n",
              "      <td>Allen, Mr. William Henry</td>\n",
              "      <td>male</td>\n",
              "      <td>35.0</td>\n",
              "      <td>0</td>\n",
              "      <td>0</td>\n",
              "      <td>373450</td>\n",
              "      <td>8.0500</td>\n",
              "      <td>S</td>\n",
              "      <td>0</td>\n",
              "    </tr>\n",
              "  </tbody>\n",
              "</table>\n",
              "</div>"
            ],
            "text/plain": [
              "   PassengerId  Survived  Pclass  ...     Fare Embarked  Family\n",
              "0            1         0       3  ...   7.2500        S       1\n",
              "1            2         1       1  ...  71.2833        C       1\n",
              "2            3         1       3  ...   7.9250        S       0\n",
              "3            4         1       1  ...  53.1000        S       1\n",
              "4            5         0       3  ...   8.0500        S       0\n",
              "\n",
              "[5 rows x 12 columns]"
            ]
          },
          "metadata": {
            "tags": []
          },
          "execution_count": 21
        }
      ]
    },
    {
      "cell_type": "markdown",
      "metadata": {
        "id": "gy4R64vyORMu",
        "colab_type": "text"
      },
      "source": [
        "### Part 3.2.4 - Removing the missing values"
      ]
    },
    {
      "cell_type": "code",
      "metadata": {
        "id": "IhpEOoS69-Ib",
        "colab_type": "code",
        "colab": {}
      },
      "source": [
        "train.dropna(inplace = True)"
      ],
      "execution_count": 22,
      "outputs": []
    },
    {
      "cell_type": "markdown",
      "metadata": {
        "id": "3nm5IVAq-JaW",
        "colab_type": "text"
      },
      "source": [
        "## Part 3.3 - Converting Categorical Features"
      ]
    },
    {
      "cell_type": "code",
      "metadata": {
        "id": "RTdMS2nJWjhH",
        "colab_type": "code",
        "colab": {
          "base_uri": "https://localhost:8080/",
          "height": 372
        },
        "outputId": "21825cb5-5f16-4ed2-99e4-4c762ca2c2d0"
      },
      "source": [
        "train.info()"
      ],
      "execution_count": 23,
      "outputs": [
        {
          "output_type": "stream",
          "text": [
            "<class 'pandas.core.frame.DataFrame'>\n",
            "Int64Index: 889 entries, 0 to 890\n",
            "Data columns (total 12 columns):\n",
            " #   Column       Non-Null Count  Dtype  \n",
            "---  ------       --------------  -----  \n",
            " 0   PassengerId  889 non-null    int64  \n",
            " 1   Survived     889 non-null    int64  \n",
            " 2   Pclass       889 non-null    int64  \n",
            " 3   Name         889 non-null    object \n",
            " 4   Sex          889 non-null    object \n",
            " 5   Age          889 non-null    float64\n",
            " 6   SibSp        889 non-null    int64  \n",
            " 7   Parch        889 non-null    int64  \n",
            " 8   Ticket       889 non-null    object \n",
            " 9   Fare         889 non-null    float64\n",
            " 10  Embarked     889 non-null    object \n",
            " 11  Family       889 non-null    int64  \n",
            "dtypes: float64(2), int64(6), object(4)\n",
            "memory usage: 90.3+ KB\n"
          ],
          "name": "stdout"
        }
      ]
    },
    {
      "cell_type": "markdown",
      "metadata": {
        "id": "3kg-SDB0WWe3",
        "colab_type": "text"
      },
      "source": [
        "### Part 3.3.1 - Embarked Column"
      ]
    },
    {
      "cell_type": "code",
      "metadata": {
        "id": "FlZziGmG-DpM",
        "colab_type": "code",
        "colab": {}
      },
      "source": [
        "embark = pd.get_dummies(train['Embarked'], drop_first = True)"
      ],
      "execution_count": 24,
      "outputs": []
    },
    {
      "cell_type": "markdown",
      "metadata": {
        "id": "2iMtwC8CWycb",
        "colab_type": "text"
      },
      "source": [
        "### Part 3.3.2 - Sex Column"
      ]
    },
    {
      "cell_type": "code",
      "metadata": {
        "id": "SN6KywZtWOol",
        "colab_type": "code",
        "colab": {}
      },
      "source": [
        "sex = pd.get_dummies(train['Sex'], drop_first = True)"
      ],
      "execution_count": 25,
      "outputs": []
    },
    {
      "cell_type": "markdown",
      "metadata": {
        "id": "sZjF0AZxI1ON",
        "colab_type": "text"
      },
      "source": [
        "### Part 3.3.3 - Editing the dataset"
      ]
    },
    {
      "cell_type": "code",
      "metadata": {
        "id": "vsFZj4LrXPTu",
        "colab_type": "code",
        "colab": {}
      },
      "source": [
        "train.drop(['Sex','Embarked','Name','Ticket','PassengerId','SibSp','Parch'], axis = 1, inplace = True)"
      ],
      "execution_count": 26,
      "outputs": []
    },
    {
      "cell_type": "code",
      "metadata": {
        "id": "qm9oZ7F0XcNe",
        "colab_type": "code",
        "colab": {
          "base_uri": "https://localhost:8080/",
          "height": 206
        },
        "outputId": "a748841f-a350-4880-82d3-b3aeaac36519"
      },
      "source": [
        "train.head()"
      ],
      "execution_count": 27,
      "outputs": [
        {
          "output_type": "execute_result",
          "data": {
            "text/html": [
              "<div>\n",
              "<style scoped>\n",
              "    .dataframe tbody tr th:only-of-type {\n",
              "        vertical-align: middle;\n",
              "    }\n",
              "\n",
              "    .dataframe tbody tr th {\n",
              "        vertical-align: top;\n",
              "    }\n",
              "\n",
              "    .dataframe thead th {\n",
              "        text-align: right;\n",
              "    }\n",
              "</style>\n",
              "<table border=\"1\" class=\"dataframe\">\n",
              "  <thead>\n",
              "    <tr style=\"text-align: right;\">\n",
              "      <th></th>\n",
              "      <th>Survived</th>\n",
              "      <th>Pclass</th>\n",
              "      <th>Age</th>\n",
              "      <th>Fare</th>\n",
              "      <th>Family</th>\n",
              "    </tr>\n",
              "  </thead>\n",
              "  <tbody>\n",
              "    <tr>\n",
              "      <th>0</th>\n",
              "      <td>0</td>\n",
              "      <td>3</td>\n",
              "      <td>22.0</td>\n",
              "      <td>7.2500</td>\n",
              "      <td>1</td>\n",
              "    </tr>\n",
              "    <tr>\n",
              "      <th>1</th>\n",
              "      <td>1</td>\n",
              "      <td>1</td>\n",
              "      <td>38.0</td>\n",
              "      <td>71.2833</td>\n",
              "      <td>1</td>\n",
              "    </tr>\n",
              "    <tr>\n",
              "      <th>2</th>\n",
              "      <td>1</td>\n",
              "      <td>3</td>\n",
              "      <td>26.0</td>\n",
              "      <td>7.9250</td>\n",
              "      <td>0</td>\n",
              "    </tr>\n",
              "    <tr>\n",
              "      <th>3</th>\n",
              "      <td>1</td>\n",
              "      <td>1</td>\n",
              "      <td>35.0</td>\n",
              "      <td>53.1000</td>\n",
              "      <td>1</td>\n",
              "    </tr>\n",
              "    <tr>\n",
              "      <th>4</th>\n",
              "      <td>0</td>\n",
              "      <td>3</td>\n",
              "      <td>35.0</td>\n",
              "      <td>8.0500</td>\n",
              "      <td>0</td>\n",
              "    </tr>\n",
              "  </tbody>\n",
              "</table>\n",
              "</div>"
            ],
            "text/plain": [
              "   Survived  Pclass   Age     Fare  Family\n",
              "0         0       3  22.0   7.2500       1\n",
              "1         1       1  38.0  71.2833       1\n",
              "2         1       3  26.0   7.9250       0\n",
              "3         1       1  35.0  53.1000       1\n",
              "4         0       3  35.0   8.0500       0"
            ]
          },
          "metadata": {
            "tags": []
          },
          "execution_count": 27
        }
      ]
    },
    {
      "cell_type": "code",
      "metadata": {
        "id": "X2z9pndIXeVd",
        "colab_type": "code",
        "colab": {}
      },
      "source": [
        "train = pd.concat([train, sex, embark], axis = 1)"
      ],
      "execution_count": 28,
      "outputs": []
    },
    {
      "cell_type": "code",
      "metadata": {
        "id": "LdpWA9s4O8ZM",
        "colab_type": "code",
        "colab": {
          "base_uri": "https://localhost:8080/",
          "height": 206
        },
        "outputId": "f55ee2b8-77ec-4f58-8e51-bc820f2bf282"
      },
      "source": [
        "train.head()"
      ],
      "execution_count": 29,
      "outputs": [
        {
          "output_type": "execute_result",
          "data": {
            "text/html": [
              "<div>\n",
              "<style scoped>\n",
              "    .dataframe tbody tr th:only-of-type {\n",
              "        vertical-align: middle;\n",
              "    }\n",
              "\n",
              "    .dataframe tbody tr th {\n",
              "        vertical-align: top;\n",
              "    }\n",
              "\n",
              "    .dataframe thead th {\n",
              "        text-align: right;\n",
              "    }\n",
              "</style>\n",
              "<table border=\"1\" class=\"dataframe\">\n",
              "  <thead>\n",
              "    <tr style=\"text-align: right;\">\n",
              "      <th></th>\n",
              "      <th>Survived</th>\n",
              "      <th>Pclass</th>\n",
              "      <th>Age</th>\n",
              "      <th>Fare</th>\n",
              "      <th>Family</th>\n",
              "      <th>male</th>\n",
              "      <th>Q</th>\n",
              "      <th>S</th>\n",
              "    </tr>\n",
              "  </thead>\n",
              "  <tbody>\n",
              "    <tr>\n",
              "      <th>0</th>\n",
              "      <td>0</td>\n",
              "      <td>3</td>\n",
              "      <td>22.0</td>\n",
              "      <td>7.2500</td>\n",
              "      <td>1</td>\n",
              "      <td>1</td>\n",
              "      <td>0</td>\n",
              "      <td>1</td>\n",
              "    </tr>\n",
              "    <tr>\n",
              "      <th>1</th>\n",
              "      <td>1</td>\n",
              "      <td>1</td>\n",
              "      <td>38.0</td>\n",
              "      <td>71.2833</td>\n",
              "      <td>1</td>\n",
              "      <td>0</td>\n",
              "      <td>0</td>\n",
              "      <td>0</td>\n",
              "    </tr>\n",
              "    <tr>\n",
              "      <th>2</th>\n",
              "      <td>1</td>\n",
              "      <td>3</td>\n",
              "      <td>26.0</td>\n",
              "      <td>7.9250</td>\n",
              "      <td>0</td>\n",
              "      <td>0</td>\n",
              "      <td>0</td>\n",
              "      <td>1</td>\n",
              "    </tr>\n",
              "    <tr>\n",
              "      <th>3</th>\n",
              "      <td>1</td>\n",
              "      <td>1</td>\n",
              "      <td>35.0</td>\n",
              "      <td>53.1000</td>\n",
              "      <td>1</td>\n",
              "      <td>0</td>\n",
              "      <td>0</td>\n",
              "      <td>1</td>\n",
              "    </tr>\n",
              "    <tr>\n",
              "      <th>4</th>\n",
              "      <td>0</td>\n",
              "      <td>3</td>\n",
              "      <td>35.0</td>\n",
              "      <td>8.0500</td>\n",
              "      <td>0</td>\n",
              "      <td>1</td>\n",
              "      <td>0</td>\n",
              "      <td>1</td>\n",
              "    </tr>\n",
              "  </tbody>\n",
              "</table>\n",
              "</div>"
            ],
            "text/plain": [
              "   Survived  Pclass   Age     Fare  Family  male  Q  S\n",
              "0         0       3  22.0   7.2500       1     1  0  1\n",
              "1         1       1  38.0  71.2833       1     0  0  0\n",
              "2         1       3  26.0   7.9250       0     0  0  1\n",
              "3         1       1  35.0  53.1000       1     0  0  1\n",
              "4         0       3  35.0   8.0500       0     1  0  1"
            ]
          },
          "metadata": {
            "tags": []
          },
          "execution_count": 29
        }
      ]
    },
    {
      "cell_type": "markdown",
      "metadata": {
        "id": "fcegm8elJJ-J",
        "colab_type": "text"
      },
      "source": [
        "## Part 3.4 - Removing Outliers"
      ]
    },
    {
      "cell_type": "code",
      "metadata": {
        "id": "bw9tIfKE_EFc",
        "colab_type": "code",
        "colab": {
          "base_uri": "https://localhost:8080/",
          "height": 300
        },
        "outputId": "dc59ef56-72b4-49ef-f401-5ede8fc42877"
      },
      "source": [
        "train.describe()"
      ],
      "execution_count": 30,
      "outputs": [
        {
          "output_type": "execute_result",
          "data": {
            "text/html": [
              "<div>\n",
              "<style scoped>\n",
              "    .dataframe tbody tr th:only-of-type {\n",
              "        vertical-align: middle;\n",
              "    }\n",
              "\n",
              "    .dataframe tbody tr th {\n",
              "        vertical-align: top;\n",
              "    }\n",
              "\n",
              "    .dataframe thead th {\n",
              "        text-align: right;\n",
              "    }\n",
              "</style>\n",
              "<table border=\"1\" class=\"dataframe\">\n",
              "  <thead>\n",
              "    <tr style=\"text-align: right;\">\n",
              "      <th></th>\n",
              "      <th>Survived</th>\n",
              "      <th>Pclass</th>\n",
              "      <th>Age</th>\n",
              "      <th>Fare</th>\n",
              "      <th>Family</th>\n",
              "      <th>male</th>\n",
              "      <th>Q</th>\n",
              "      <th>S</th>\n",
              "    </tr>\n",
              "  </thead>\n",
              "  <tbody>\n",
              "    <tr>\n",
              "      <th>count</th>\n",
              "      <td>889.000000</td>\n",
              "      <td>889.000000</td>\n",
              "      <td>889.000000</td>\n",
              "      <td>889.000000</td>\n",
              "      <td>889.000000</td>\n",
              "      <td>889.000000</td>\n",
              "      <td>889.000000</td>\n",
              "      <td>889.000000</td>\n",
              "    </tr>\n",
              "    <tr>\n",
              "      <th>mean</th>\n",
              "      <td>0.382452</td>\n",
              "      <td>2.311586</td>\n",
              "      <td>29.019314</td>\n",
              "      <td>32.096681</td>\n",
              "      <td>0.906637</td>\n",
              "      <td>0.649044</td>\n",
              "      <td>0.086614</td>\n",
              "      <td>0.724409</td>\n",
              "    </tr>\n",
              "    <tr>\n",
              "      <th>std</th>\n",
              "      <td>0.486260</td>\n",
              "      <td>0.834700</td>\n",
              "      <td>13.209814</td>\n",
              "      <td>49.697504</td>\n",
              "      <td>1.614703</td>\n",
              "      <td>0.477538</td>\n",
              "      <td>0.281427</td>\n",
              "      <td>0.447063</td>\n",
              "    </tr>\n",
              "    <tr>\n",
              "      <th>min</th>\n",
              "      <td>0.000000</td>\n",
              "      <td>1.000000</td>\n",
              "      <td>0.420000</td>\n",
              "      <td>0.000000</td>\n",
              "      <td>0.000000</td>\n",
              "      <td>0.000000</td>\n",
              "      <td>0.000000</td>\n",
              "      <td>0.000000</td>\n",
              "    </tr>\n",
              "    <tr>\n",
              "      <th>25%</th>\n",
              "      <td>0.000000</td>\n",
              "      <td>2.000000</td>\n",
              "      <td>22.000000</td>\n",
              "      <td>7.895800</td>\n",
              "      <td>0.000000</td>\n",
              "      <td>0.000000</td>\n",
              "      <td>0.000000</td>\n",
              "      <td>0.000000</td>\n",
              "    </tr>\n",
              "    <tr>\n",
              "      <th>50%</th>\n",
              "      <td>0.000000</td>\n",
              "      <td>3.000000</td>\n",
              "      <td>26.000000</td>\n",
              "      <td>14.454200</td>\n",
              "      <td>0.000000</td>\n",
              "      <td>1.000000</td>\n",
              "      <td>0.000000</td>\n",
              "      <td>1.000000</td>\n",
              "    </tr>\n",
              "    <tr>\n",
              "      <th>75%</th>\n",
              "      <td>1.000000</td>\n",
              "      <td>3.000000</td>\n",
              "      <td>36.500000</td>\n",
              "      <td>31.000000</td>\n",
              "      <td>1.000000</td>\n",
              "      <td>1.000000</td>\n",
              "      <td>0.000000</td>\n",
              "      <td>1.000000</td>\n",
              "    </tr>\n",
              "    <tr>\n",
              "      <th>max</th>\n",
              "      <td>1.000000</td>\n",
              "      <td>3.000000</td>\n",
              "      <td>80.000000</td>\n",
              "      <td>512.329200</td>\n",
              "      <td>10.000000</td>\n",
              "      <td>1.000000</td>\n",
              "      <td>1.000000</td>\n",
              "      <td>1.000000</td>\n",
              "    </tr>\n",
              "  </tbody>\n",
              "</table>\n",
              "</div>"
            ],
            "text/plain": [
              "         Survived      Pclass         Age  ...        male           Q           S\n",
              "count  889.000000  889.000000  889.000000  ...  889.000000  889.000000  889.000000\n",
              "mean     0.382452    2.311586   29.019314  ...    0.649044    0.086614    0.724409\n",
              "std      0.486260    0.834700   13.209814  ...    0.477538    0.281427    0.447063\n",
              "min      0.000000    1.000000    0.420000  ...    0.000000    0.000000    0.000000\n",
              "25%      0.000000    2.000000   22.000000  ...    0.000000    0.000000    0.000000\n",
              "50%      0.000000    3.000000   26.000000  ...    1.000000    0.000000    1.000000\n",
              "75%      1.000000    3.000000   36.500000  ...    1.000000    0.000000    1.000000\n",
              "max      1.000000    3.000000   80.000000  ...    1.000000    1.000000    1.000000\n",
              "\n",
              "[8 rows x 8 columns]"
            ]
          },
          "metadata": {
            "tags": []
          },
          "execution_count": 30
        }
      ]
    },
    {
      "cell_type": "markdown",
      "metadata": {
        "id": "zhC2DpvhJgJr",
        "colab_type": "text"
      },
      "source": [
        "### Part 3.4.1 - Removing Outliers from Age column"
      ]
    },
    {
      "cell_type": "code",
      "metadata": {
        "id": "Fs9icZW25nJ_",
        "colab_type": "code",
        "colab": {
          "base_uri": "https://localhost:8080/",
          "height": 461
        },
        "outputId": "ef227412-9d2c-44ca-e67c-ad092759beb4"
      },
      "source": [
        "plt.figure(figsize = (12, 7))\n",
        "sns.boxplot(x = 'Survived', y = 'Age', data = train, palette = 'winter')"
      ],
      "execution_count": 31,
      "outputs": [
        {
          "output_type": "execute_result",
          "data": {
            "text/plain": [
              "<matplotlib.axes._subplots.AxesSubplot at 0x7f3c8be0a048>"
            ]
          },
          "metadata": {
            "tags": []
          },
          "execution_count": 31
        },
        {
          "output_type": "display_data",
          "data": {
            "image/png": "[encoded data removed]",
            "text/plain": [
              "<Figure size 864x504 with 1 Axes>"
            ]
          },
          "metadata": {
            "tags": []
          }
        }
      ]
    },
    {
      "cell_type": "code",
      "metadata": {
        "id": "d7BqRwieJnzd",
        "colab_type": "code",
        "colab": {
          "base_uri": "https://localhost:8080/",
          "height": 36
        },
        "outputId": "beb8fe8d-e77e-4a37-8945-e3df3599e29e"
      },
      "source": [
        "Q1_Age = train.Age.quantile(0.25)\n",
        "Q3_Age = train.Age.quantile(0.75)\n",
        "Q1_Age, Q3_Age"
      ],
      "execution_count": 32,
      "outputs": [
        {
          "output_type": "execute_result",
          "data": {
            "text/plain": [
              "(22.0, 36.5)"
            ]
          },
          "metadata": {
            "tags": []
          },
          "execution_count": 32
        }
      ]
    },
    {
      "cell_type": "code",
      "metadata": {
        "id": "5lDp42N5J3n1",
        "colab_type": "code",
        "colab": {
          "base_uri": "https://localhost:8080/",
          "height": 36
        },
        "outputId": "54593b4b-470f-4136-f21d-37edea0f89d0"
      },
      "source": [
        "IQR_Age = Q3_Age - Q1_Age\n",
        "IQR_Age"
      ],
      "execution_count": 33,
      "outputs": [
        {
          "output_type": "execute_result",
          "data": {
            "text/plain": [
              "14.5"
            ]
          },
          "metadata": {
            "tags": []
          },
          "execution_count": 33
        }
      ]
    },
    {
      "cell_type": "code",
      "metadata": {
        "id": "rGd15yxV8Mmp",
        "colab_type": "code",
        "colab": {
          "base_uri": "https://localhost:8080/",
          "height": 36
        },
        "outputId": "924e94e3-de3a-474f-eda4-8c713f07ce6f"
      },
      "source": [
        "lower_limit_Age = Q1_Age - 1.5 * IQR_Age\n",
        "upper_limit_Age = Q3_Age + 1.5 * IQR_Age\n",
        "lower_limit_Age, upper_limit_Age"
      ],
      "execution_count": 34,
      "outputs": [
        {
          "output_type": "execute_result",
          "data": {
            "text/plain": [
              "(0.25, 58.25)"
            ]
          },
          "metadata": {
            "tags": []
          },
          "execution_count": 34
        }
      ]
    },
    {
      "cell_type": "code",
      "metadata": {
        "id": "Fsv21bW98cwl",
        "colab_type": "code",
        "colab": {
          "base_uri": "https://localhost:8080/",
          "height": 36
        },
        "outputId": "5e6c2dec-5581-442c-8b07-5438dc7e447e"
      },
      "source": [
        "train = train[(train.Age > lower_limit_Age) & (train.Age < upper_limit_Age)]\n",
        "train.shape"
      ],
      "execution_count": 35,
      "outputs": [
        {
          "output_type": "execute_result",
          "data": {
            "text/plain": [
              "(862, 8)"
            ]
          },
          "metadata": {
            "tags": []
          },
          "execution_count": 35
        }
      ]
    },
    {
      "cell_type": "markdown",
      "metadata": {
        "id": "jJVQNJa6PUyP",
        "colab_type": "text"
      },
      "source": [
        "### Part 3.4.2 - Removing outliers from Fare Column"
      ]
    },
    {
      "cell_type": "code",
      "metadata": {
        "id": "XEwB6dfN810l",
        "colab_type": "code",
        "colab": {
          "base_uri": "https://localhost:8080/",
          "height": 461
        },
        "outputId": "9026431c-f6f3-4d4f-8402-0cbbcb1125d0"
      },
      "source": [
        "plt.figure(figsize = (12, 7))\n",
        "sns.boxplot(x = 'Survived', y = 'Fare', data = train, palette = 'winter')"
      ],
      "execution_count": 36,
      "outputs": [
        {
          "output_type": "execute_result",
          "data": {
            "text/plain": [
              "<matplotlib.axes._subplots.AxesSubplot at 0x7f3c8bd98128>"
            ]
          },
          "metadata": {
            "tags": []
          },
          "execution_count": 36
        },
        {
          "output_type": "display_data",
          "data": {
            "image/png": "[encoded data removed]",
            "text/plain": [
              "<Figure size 864x504 with 1 Axes>"
            ]
          },
          "metadata": {
            "tags": []
          }
        }
      ]
    },
    {
      "cell_type": "code",
      "metadata": {
        "id": "V8SbqQnMPewp",
        "colab_type": "code",
        "colab": {
          "base_uri": "https://localhost:8080/",
          "height": 36
        },
        "outputId": "7951541e-6812-468c-dd97-3693b81666e0"
      },
      "source": [
        "max_thresold_Fare = train['Fare'].quantile(0.95)\n",
        "min_thresold_Fare = train['Fare'].quantile(0.05)\n",
        "max_thresold_Fare, min_thresold_Fare"
      ],
      "execution_count": 37,
      "outputs": [
        {
          "output_type": "execute_result",
          "data": {
            "text/plain": [
              "(113.15541499999985, 7.225)"
            ]
          },
          "metadata": {
            "tags": []
          },
          "execution_count": 37
        }
      ]
    },
    {
      "cell_type": "code",
      "metadata": {
        "id": "ej_XY7GyQsWJ",
        "colab_type": "code",
        "colab": {
          "base_uri": "https://localhost:8080/",
          "height": 54
        },
        "outputId": "20723221-86d8-4ed3-b014-9ddb6ed2420c"
      },
      "source": [
        "print(train[train['Fare'] > max_thresold_Fare].shape)\n",
        "print(train[train['Fare'] < min_thresold_Fare].shape)"
      ],
      "execution_count": 39,
      "outputs": [
        {
          "output_type": "stream",
          "text": [
            "(44, 8)\n",
            "(42, 8)\n"
          ],
          "name": "stdout"
        }
      ]
    },
    {
      "cell_type": "code",
      "metadata": {
        "id": "RyJG0KHBR76P",
        "colab_type": "code",
        "colab": {}
      },
      "source": [
        "train = train[(train['Fare'] < max_thresold_Fare) & (train['Fare'] > min_thresold_Fare)]"
      ],
      "execution_count": 40,
      "outputs": []
    },
    {
      "cell_type": "code",
      "metadata": {
        "id": "1V7mCgwsSGag",
        "colab_type": "code",
        "colab": {
          "base_uri": "https://localhost:8080/",
          "height": 36
        },
        "outputId": "73b305b6-e2da-497b-e65b-65a482b11841"
      },
      "source": [
        "train.shape"
      ],
      "execution_count": 41,
      "outputs": [
        {
          "output_type": "execute_result",
          "data": {
            "text/plain": [
              "(764, 8)"
            ]
          },
          "metadata": {
            "tags": []
          },
          "execution_count": 41
        }
      ]
    },
    {
      "cell_type": "markdown",
      "metadata": {
        "id": "J0R143tKX5U1",
        "colab_type": "text"
      },
      "source": [
        "# Part 4 - Building a Logistic Regression Model"
      ]
    },
    {
      "cell_type": "markdown",
      "metadata": {
        "id": "JMJJ6fDnYBpU",
        "colab_type": "text"
      },
      "source": [
        "## Part 4.1 - Spliting the dataset into X and y"
      ]
    },
    {
      "cell_type": "code",
      "metadata": {
        "id": "CcUPQkqUXw5t",
        "colab_type": "code",
        "colab": {}
      },
      "source": [
        "X = train.drop('Survived', axis = 1)\n",
        "y = train['Survived']"
      ],
      "execution_count": 42,
      "outputs": []
    },
    {
      "cell_type": "markdown",
      "metadata": {
        "id": "18L8QJMpar2u",
        "colab_type": "text"
      },
      "source": [
        "## Part 4.2 - Spliting the dataset into training and testing dataset"
      ]
    },
    {
      "cell_type": "code",
      "metadata": {
        "id": "T4kPhM6MYYhP",
        "colab_type": "code",
        "colab": {}
      },
      "source": [
        "from sklearn.model_selection import train_test_split"
      ],
      "execution_count": 43,
      "outputs": []
    },
    {
      "cell_type": "code",
      "metadata": {
        "id": "FwFNW0d7Yr4e",
        "colab_type": "code",
        "colab": {}
      },
      "source": [
        "X_train, X_test, y_train, y_test = train_test_split(X, y, test_size = 0.20, random_state = 0)"
      ],
      "execution_count": 44,
      "outputs": []
    },
    {
      "cell_type": "markdown",
      "metadata": {
        "id": "boV3BjCBZA5F",
        "colab_type": "text"
      },
      "source": [
        "## Part 4.3 - Training Model"
      ]
    },
    {
      "cell_type": "code",
      "metadata": {
        "id": "V4v61k20ZATt",
        "colab_type": "code",
        "colab": {}
      },
      "source": [
        "from sklearn.linear_model import LogisticRegression"
      ],
      "execution_count": 45,
      "outputs": []
    },
    {
      "cell_type": "code",
      "metadata": {
        "id": "p8uO1je5YsNK",
        "colab_type": "code",
        "colab": {}
      },
      "source": [
        "model = LogisticRegression()"
      ],
      "execution_count": 46,
      "outputs": []
    },
    {
      "cell_type": "code",
      "metadata": {
        "id": "KUhfNXVDZSTl",
        "colab_type": "code",
        "colab": {
          "base_uri": "https://localhost:8080/",
          "height": 260
        },
        "outputId": "bf3c2abb-97aa-46c9-db15-83324a090ad3"
      },
      "source": [
        "model.fit(X_train, y_train)"
      ],
      "execution_count": 47,
      "outputs": [
        {
          "output_type": "stream",
          "text": [
            "/usr/local/lib/python3.6/dist-packages/sklearn/linear_model/_logistic.py:940: ConvergenceWarning: lbfgs failed to converge (status=1):\n",
            "STOP: TOTAL NO. of ITERATIONS REACHED LIMIT.\n",
            "\n",
            "Increase the number of iterations (max_iter) or scale the data as shown in:\n",
            "    https://scikit-learn.org/stable/modules/preprocessing.html\n",
            "Please also refer to the documentation for alternative solver options:\n",
            "    https://scikit-learn.org/stable/modules/linear_model.html#logistic-regression\n",
            "  extra_warning_msg=_LOGISTIC_SOLVER_CONVERGENCE_MSG)\n"
          ],
          "name": "stderr"
        },
        {
          "output_type": "execute_result",
          "data": {
            "text/plain": [
              "LogisticRegression(C=1.0, class_weight=None, dual=False, fit_intercept=True,\n",
              "                   intercept_scaling=1, l1_ratio=None, max_iter=100,\n",
              "                   multi_class='auto', n_jobs=None, penalty='l2',\n",
              "                   random_state=None, solver='lbfgs', tol=0.0001, verbose=0,\n",
              "                   warm_start=False)"
            ]
          },
          "metadata": {
            "tags": []
          },
          "execution_count": 47
        }
      ]
    },
    {
      "cell_type": "markdown",
      "metadata": {
        "id": "FeTqrfEua9GQ",
        "colab_type": "text"
      },
      "source": [
        "## Part 4.4 - Predicting the model"
      ]
    },
    {
      "cell_type": "code",
      "metadata": {
        "id": "P4dmYJruZXWY",
        "colab_type": "code",
        "colab": {}
      },
      "source": [
        "y_pred = model.predict(X_test)"
      ],
      "execution_count": 48,
      "outputs": []
    },
    {
      "cell_type": "code",
      "metadata": {
        "id": "i7QK9YLrZs03",
        "colab_type": "code",
        "colab": {}
      },
      "source": [
        "from sklearn.metrics import confusion_matrix"
      ],
      "execution_count": 49,
      "outputs": []
    },
    {
      "cell_type": "code",
      "metadata": {
        "id": "5k6homMLZy3n",
        "colab_type": "code",
        "colab": {}
      },
      "source": [
        "accuracy = confusion_matrix(y_test, y_pred)"
      ],
      "execution_count": 50,
      "outputs": []
    },
    {
      "cell_type": "code",
      "metadata": {
        "id": "ioVetG5gZ4hV",
        "colab_type": "code",
        "colab": {
          "base_uri": "https://localhost:8080/",
          "height": 54
        },
        "outputId": "12533d47-c243-4183-a3aa-6ca5524c8ef1"
      },
      "source": [
        "accuracy"
      ],
      "execution_count": 51,
      "outputs": [
        {
          "output_type": "execute_result",
          "data": {
            "text/plain": [
              "array([[77, 12],\n",
              "       [23, 41]])"
            ]
          },
          "metadata": {
            "tags": []
          },
          "execution_count": 51
        }
      ]
    },
    {
      "cell_type": "markdown",
      "metadata": {
        "id": "3mT4cjvcbJUX",
        "colab_type": "text"
      },
      "source": [
        "## Part 4.5 - Accuracy Score"
      ]
    },
    {
      "cell_type": "code",
      "metadata": {
        "id": "kNtakyd2Z5_W",
        "colab_type": "code",
        "colab": {}
      },
      "source": [
        "from sklearn.metrics import accuracy_score"
      ],
      "execution_count": 52,
      "outputs": []
    },
    {
      "cell_type": "code",
      "metadata": {
        "id": "kyzaaLEsaBe2",
        "colab_type": "code",
        "colab": {
          "base_uri": "https://localhost:8080/",
          "height": 36
        },
        "outputId": "26e00e84-a9e4-4409-ddb7-5c67c236d494"
      },
      "source": [
        "accuracy_score(y_test, y_pred)"
      ],
      "execution_count": 53,
      "outputs": [
        {
          "output_type": "execute_result",
          "data": {
            "text/plain": [
              "0.7712418300653595"
            ]
          },
          "metadata": {
            "tags": []
          },
          "execution_count": 53
        }
      ]
    },
    {
      "cell_type": "markdown",
      "metadata": {
        "id": "-17mDwYvbPrY",
        "colab_type": "text"
      },
      "source": [
        "- So, by using LogisticRegression Model, the accuracy score on the test dataset is around **77.12%** using *random_state* = 0 and *test_size* = 0.2."
      ]
    },
    {
      "cell_type": "markdown",
      "metadata": {
        "id": "TH2Y7SLWbnFe",
        "colab_type": "text"
      },
      "source": [
        "# Part 5 - Building the ANN Model"
      ]
    },
    {
      "cell_type": "markdown",
      "metadata": {
        "id": "U6W49xn7buMJ",
        "colab_type": "text"
      },
      "source": [
        "## Part 5.1 - Feature Scalling"
      ]
    },
    {
      "cell_type": "code",
      "metadata": {
        "id": "-6mk2gq7brRk",
        "colab_type": "code",
        "colab": {}
      },
      "source": [
        "from sklearn.preprocessing import StandardScaler\n",
        "scaler = StandardScaler()"
      ],
      "execution_count": 54,
      "outputs": []
    },
    {
      "cell_type": "code",
      "metadata": {
        "id": "6Yt5g177chjH",
        "colab_type": "code",
        "colab": {}
      },
      "source": [
        "X_train = scaler.fit_transform(X_train)\n",
        "X_test = scaler.fit_transform(X_test)"
      ],
      "execution_count": 55,
      "outputs": []
    },
    {
      "cell_type": "markdown",
      "metadata": {
        "id": "0efNFX5ucuXh",
        "colab_type": "text"
      },
      "source": [
        "## Part 5.2 - Importing libraries for ANN"
      ]
    },
    {
      "cell_type": "code",
      "metadata": {
        "id": "zejZAvOQcqve",
        "colab_type": "code",
        "colab": {}
      },
      "source": [
        "from tensorflow.keras import Sequential\n",
        "from tensorflow.keras.layers import Dense"
      ],
      "execution_count": 56,
      "outputs": []
    },
    {
      "cell_type": "markdown",
      "metadata": {
        "id": "O5SJDimXdOtL",
        "colab_type": "text"
      },
      "source": [
        "## Part 5.3 - Initializing the ANN"
      ]
    },
    {
      "cell_type": "code",
      "metadata": {
        "id": "50EkIeJudJ-2",
        "colab_type": "code",
        "colab": {}
      },
      "source": [
        "model = Sequential()"
      ],
      "execution_count": 100,
      "outputs": []
    },
    {
      "cell_type": "markdown",
      "metadata": {
        "id": "pMh8NsrOdWvr",
        "colab_type": "text"
      },
      "source": [
        "## Part 5.4 - Adding the input layer and the first hidden layer"
      ]
    },
    {
      "cell_type": "code",
      "metadata": {
        "id": "c8_vnJIVdTsz",
        "colab_type": "code",
        "colab": {}
      },
      "source": [
        "model.add(Dense(units = 7, activation = 'relu', input_dim = X_train.shape[1]))"
      ],
      "execution_count": 101,
      "outputs": []
    },
    {
      "cell_type": "markdown",
      "metadata": {
        "id": "0v7_U3_-diTy",
        "colab_type": "text"
      },
      "source": [
        "## Part 5.5 - Adding the second hidden layer"
      ]
    },
    {
      "cell_type": "code",
      "metadata": {
        "id": "JzEB24i0dk_1",
        "colab_type": "code",
        "colab": {}
      },
      "source": [
        "model.add(Dense(units = 10, activation = 'relu'))"
      ],
      "execution_count": 102,
      "outputs": []
    },
    {
      "cell_type": "markdown",
      "metadata": {
        "id": "peV-ELQMj6Jr",
        "colab_type": "text"
      },
      "source": [
        "## Part 5.6 - Adding the third hidden layer(optional)"
      ]
    },
    {
      "cell_type": "code",
      "metadata": {
        "id": "FGBaqP2MkC8p",
        "colab_type": "code",
        "colab": {}
      },
      "source": [
        "model.add(Dense(units = 6, activation = 'relu'))"
      ],
      "execution_count": 103,
      "outputs": []
    },
    {
      "cell_type": "markdown",
      "metadata": {
        "id": "_70LUX8Tdwvx",
        "colab_type": "text"
      },
      "source": [
        "## Part 5.7 - Adding the output layer"
      ]
    },
    {
      "cell_type": "code",
      "metadata": {
        "id": "BKTyJaHbdzl0",
        "colab_type": "code",
        "colab": {}
      },
      "source": [
        "model.add(Dense(units=1, activation = 'sigmoid'))"
      ],
      "execution_count": 104,
      "outputs": []
    },
    {
      "cell_type": "markdown",
      "metadata": {
        "id": "ahnWig3Jd9zJ",
        "colab_type": "text"
      },
      "source": [
        "## Part 5.7 - Training the ANN"
      ]
    },
    {
      "cell_type": "markdown",
      "metadata": {
        "id": "aAaxx8y1eDm2",
        "colab_type": "text"
      },
      "source": [
        "### Part 5.7.1 - Compiling the ANN"
      ]
    },
    {
      "cell_type": "code",
      "metadata": {
        "id": "_Rogwu1pd5ul",
        "colab_type": "code",
        "colab": {}
      },
      "source": [
        "model.compile(optimizer = 'adam', loss = 'binary_crossentropy', metrics = ['accuracy'])"
      ],
      "execution_count": 105,
      "outputs": []
    },
    {
      "cell_type": "markdown",
      "metadata": {
        "id": "Timx2ZE0eLYz",
        "colab_type": "text"
      },
      "source": [
        "### Part 5.7.2 - Training the ANN on the Training set"
      ]
    },
    {
      "cell_type": "code",
      "metadata": {
        "id": "iYw9C5IOeOTU",
        "colab_type": "code",
        "colab": {
          "base_uri": "https://localhost:8080/",
          "height": 1000
        },
        "outputId": "fb587ebc-28ff-451f-a068-b1e2e511e0b5"
      },
      "source": [
        "history = model.fit(X_train, y_train, batch_size = 32, epochs = 1000)"
      ],
      "execution_count": 106,
      "outputs": [
        {
          "output_type": "stream",
          "text": [
            "Epoch 1/1000\n",
            "20/20 [==============================] - 0s 1ms/step - loss: 0.6975 - accuracy: 0.4501\n",
            "Epoch 2/1000\n",
            "20/20 [==============================] - 0s 1ms/step - loss: 0.6763 - accuracy: 0.6579\n",
            "Epoch 3/1000\n",
            "20/20 [==============================] - 0s 2ms/step - loss: 0.6599 - accuracy: 0.7169\n",
            "Epoch 4/1000\n",
            "20/20 [==============================] - 0s 1ms/step - loss: 0.6373 - accuracy: 0.7610\n",
            "Epoch 5/1000\n",
            "20/20 [==============================] - 0s 1ms/step - loss: 0.6121 - accuracy: 0.7610\n",
            "Epoch 6/1000\n",
            "20/20 [==============================] - 0s 1ms/step - loss: 0.5885 - accuracy: 0.7791\n",
            "Epoch 7/1000\n",
            "20/20 [==============================] - 0s 1ms/step - loss: 0.5686 - accuracy: 0.7856\n",
            "Epoch 8/1000\n",
            "20/20 [==============================] - 0s 1ms/step - loss: 0.5503 - accuracy: 0.7872\n",
            "Epoch 9/1000\n",
            "20/20 [==============================] - 0s 1ms/step - loss: 0.5311 - accuracy: 0.8085\n",
            "Epoch 10/1000\n",
            "20/20 [==============================] - 0s 1ms/step - loss: 0.5135 - accuracy: 0.8118\n",
            "Epoch 11/1000\n",
            "20/20 [==============================] - 0s 1ms/step - loss: 0.4986 - accuracy: 0.8134\n",
            "Epoch 12/1000\n",
            "20/20 [==============================] - 0s 1ms/step - loss: 0.4841 - accuracy: 0.8232\n",
            "Epoch 13/1000\n",
            "20/20 [==============================] - 0s 1ms/step - loss: 0.4718 - accuracy: 0.8232\n",
            "Epoch 14/1000\n",
            "20/20 [==============================] - 0s 1ms/step - loss: 0.4615 - accuracy: 0.8216\n",
            "Epoch 15/1000\n",
            "20/20 [==============================] - 0s 1ms/step - loss: 0.4524 - accuracy: 0.8216\n",
            "Epoch 16/1000\n",
            "20/20 [==============================] - 0s 1ms/step - loss: 0.4446 - accuracy: 0.8200\n",
            "Epoch 17/1000\n",
            "20/20 [==============================] - 0s 1ms/step - loss: 0.4382 - accuracy: 0.8216\n",
            "Epoch 18/1000\n",
            "20/20 [==============================] - 0s 1ms/step - loss: 0.4321 - accuracy: 0.8183\n",
            "Epoch 19/1000\n",
            "20/20 [==============================] - 0s 1ms/step - loss: 0.4253 - accuracy: 0.8183\n",
            "Epoch 20/1000\n",
            "20/20 [==============================] - 0s 1ms/step - loss: 0.4179 - accuracy: 0.8249\n",
            "Epoch 21/1000\n",
            "20/20 [==============================] - 0s 1ms/step - loss: 0.4107 - accuracy: 0.8282\n",
            "Epoch 22/1000\n",
            "20/20 [==============================] - 0s 1ms/step - loss: 0.4056 - accuracy: 0.8249\n",
            "Epoch 23/1000\n",
            "20/20 [==============================] - 0s 1ms/step - loss: 0.4053 - accuracy: 0.8331\n",
            "Epoch 24/1000\n",
            "20/20 [==============================] - 0s 2ms/step - loss: 0.3986 - accuracy: 0.8347\n",
            "Epoch 25/1000\n",
            "20/20 [==============================] - 0s 1ms/step - loss: 0.3956 - accuracy: 0.8412\n",
            "Epoch 26/1000\n",
            "20/20 [==============================] - 0s 1ms/step - loss: 0.3941 - accuracy: 0.8347\n",
            "Epoch 27/1000\n",
            "20/20 [==============================] - 0s 1ms/step - loss: 0.3924 - accuracy: 0.8380\n",
            "Epoch 28/1000\n",
            "20/20 [==============================] - 0s 1ms/step - loss: 0.3892 - accuracy: 0.8396\n",
            "Epoch 29/1000\n",
            "20/20 [==============================] - 0s 1ms/step - loss: 0.3885 - accuracy: 0.8363\n",
            "Epoch 30/1000\n",
            "20/20 [==============================] - 0s 1ms/step - loss: 0.3868 - accuracy: 0.8380\n",
            "Epoch 31/1000\n",
            "20/20 [==============================] - 0s 1ms/step - loss: 0.3854 - accuracy: 0.8412\n",
            "Epoch 32/1000\n",
            "20/20 [==============================] - 0s 1ms/step - loss: 0.3845 - accuracy: 0.8380\n",
            "Epoch 33/1000\n",
            "20/20 [==============================] - 0s 1ms/step - loss: 0.3833 - accuracy: 0.8396\n",
            "Epoch 34/1000\n",
            "20/20 [==============================] - 0s 1ms/step - loss: 0.3818 - accuracy: 0.8412\n",
            "Epoch 35/1000\n",
            "20/20 [==============================] - 0s 1ms/step - loss: 0.3809 - accuracy: 0.8462\n",
            "Epoch 36/1000\n",
            "20/20 [==============================] - 0s 1ms/step - loss: 0.3812 - accuracy: 0.8412\n",
            "Epoch 37/1000\n",
            "20/20 [==============================] - 0s 1ms/step - loss: 0.3788 - accuracy: 0.8412\n",
            "Epoch 38/1000\n",
            "20/20 [==============================] - 0s 1ms/step - loss: 0.3783 - accuracy: 0.8478\n",
            "Epoch 39/1000\n",
            "20/20 [==============================] - 0s 1ms/step - loss: 0.3774 - accuracy: 0.8445\n",
            "Epoch 40/1000\n",
            "20/20 [==============================] - 0s 1ms/step - loss: 0.3808 - accuracy: 0.8429\n",
            "Epoch 41/1000\n",
            "20/20 [==============================] - 0s 1ms/step - loss: 0.3765 - accuracy: 0.8429\n",
            "Epoch 42/1000\n",
            "20/20 [==============================] - 0s 1ms/step - loss: 0.3742 - accuracy: 0.8478\n",
            "Epoch 43/1000\n",
            "20/20 [==============================] - 0s 1ms/step - loss: 0.3730 - accuracy: 0.8478\n",
            "Epoch 44/1000\n",
            "20/20 [==============================] - 0s 1ms/step - loss: 0.3737 - accuracy: 0.8478\n",
            "Epoch 45/1000\n",
            "20/20 [==============================] - 0s 1ms/step - loss: 0.3719 - accuracy: 0.8462\n",
            "Epoch 46/1000\n",
            "20/20 [==============================] - 0s 1ms/step - loss: 0.3716 - accuracy: 0.8462\n",
            "Epoch 47/1000\n",
            "20/20 [==============================] - 0s 1ms/step - loss: 0.3714 - accuracy: 0.8445\n",
            "Epoch 48/1000\n",
            "20/20 [==============================] - 0s 1ms/step - loss: 0.3704 - accuracy: 0.8429\n",
            "Epoch 49/1000\n",
            "20/20 [==============================] - 0s 1ms/step - loss: 0.3696 - accuracy: 0.8462\n",
            "Epoch 50/1000\n",
            "20/20 [==============================] - 0s 1ms/step - loss: 0.3700 - accuracy: 0.8462\n",
            "Epoch 51/1000\n",
            "20/20 [==============================] - 0s 1ms/step - loss: 0.3685 - accuracy: 0.8478\n",
            "Epoch 52/1000\n",
            "20/20 [==============================] - 0s 1ms/step - loss: 0.3677 - accuracy: 0.8478\n",
            "Epoch 53/1000\n",
            "20/20 [==============================] - 0s 1ms/step - loss: 0.3670 - accuracy: 0.8445\n",
            "Epoch 54/1000\n",
            "20/20 [==============================] - 0s 1ms/step - loss: 0.3671 - accuracy: 0.8494\n",
            "Epoch 55/1000\n",
            "20/20 [==============================] - 0s 1ms/step - loss: 0.3679 - accuracy: 0.8527\n",
            "Epoch 56/1000\n",
            "20/20 [==============================] - 0s 2ms/step - loss: 0.3694 - accuracy: 0.8494\n",
            "Epoch 57/1000\n",
            "20/20 [==============================] - 0s 2ms/step - loss: 0.3670 - accuracy: 0.8462\n",
            "Epoch 58/1000\n",
            "20/20 [==============================] - 0s 1ms/step - loss: 0.3658 - accuracy: 0.8527\n",
            "Epoch 59/1000\n",
            "20/20 [==============================] - 0s 1ms/step - loss: 0.3656 - accuracy: 0.8527\n",
            "Epoch 60/1000\n",
            "20/20 [==============================] - 0s 1ms/step - loss: 0.3652 - accuracy: 0.8494\n",
            "Epoch 61/1000\n",
            "20/20 [==============================] - 0s 1ms/step - loss: 0.3639 - accuracy: 0.8511\n",
            "Epoch 62/1000\n",
            "20/20 [==============================] - 0s 1ms/step - loss: 0.3636 - accuracy: 0.8576\n",
            "Epoch 63/1000\n",
            "20/20 [==============================] - 0s 2ms/step - loss: 0.3653 - accuracy: 0.8560\n",
            "Epoch 64/1000\n",
            "20/20 [==============================] - 0s 1ms/step - loss: 0.3640 - accuracy: 0.8494\n",
            "Epoch 65/1000\n",
            "20/20 [==============================] - 0s 1ms/step - loss: 0.3633 - accuracy: 0.8576\n",
            "Epoch 66/1000\n",
            "20/20 [==============================] - 0s 1ms/step - loss: 0.3623 - accuracy: 0.8511\n",
            "Epoch 67/1000\n",
            "20/20 [==============================] - 0s 1ms/step - loss: 0.3629 - accuracy: 0.8478\n",
            "Epoch 68/1000\n",
            "20/20 [==============================] - 0s 1ms/step - loss: 0.3625 - accuracy: 0.8543\n",
            "Epoch 69/1000\n",
            "20/20 [==============================] - 0s 1ms/step - loss: 0.3628 - accuracy: 0.8527\n",
            "Epoch 70/1000\n",
            "20/20 [==============================] - 0s 1ms/step - loss: 0.3608 - accuracy: 0.8576\n",
            "Epoch 71/1000\n",
            "20/20 [==============================] - 0s 1ms/step - loss: 0.3606 - accuracy: 0.8560\n",
            "Epoch 72/1000\n",
            "20/20 [==============================] - 0s 1ms/step - loss: 0.3601 - accuracy: 0.8527\n",
            "Epoch 73/1000\n",
            "20/20 [==============================] - 0s 1ms/step - loss: 0.3598 - accuracy: 0.8527\n",
            "Epoch 74/1000\n",
            "20/20 [==============================] - 0s 1ms/step - loss: 0.3619 - accuracy: 0.8511\n",
            "Epoch 75/1000\n",
            "20/20 [==============================] - 0s 1ms/step - loss: 0.3604 - accuracy: 0.8527\n",
            "Epoch 76/1000\n",
            "20/20 [==============================] - 0s 1ms/step - loss: 0.3593 - accuracy: 0.8527\n",
            "Epoch 77/1000\n",
            "20/20 [==============================] - 0s 1ms/step - loss: 0.3590 - accuracy: 0.8527\n",
            "Epoch 78/1000\n",
            "20/20 [==============================] - 0s 1ms/step - loss: 0.3591 - accuracy: 0.8527\n",
            "Epoch 79/1000\n",
            "20/20 [==============================] - 0s 1ms/step - loss: 0.3591 - accuracy: 0.8609\n",
            "Epoch 80/1000\n",
            "20/20 [==============================] - 0s 1ms/step - loss: 0.3589 - accuracy: 0.8560\n",
            "Epoch 81/1000\n",
            "20/20 [==============================] - 0s 1ms/step - loss: 0.3599 - accuracy: 0.8511\n",
            "Epoch 82/1000\n",
            "20/20 [==============================] - 0s 1ms/step - loss: 0.3595 - accuracy: 0.8527\n",
            "Epoch 83/1000\n",
            "20/20 [==============================] - 0s 1ms/step - loss: 0.3583 - accuracy: 0.8527\n",
            "Epoch 84/1000\n",
            "20/20 [==============================] - 0s 1ms/step - loss: 0.3587 - accuracy: 0.8511\n",
            "Epoch 85/1000\n",
            "20/20 [==============================] - 0s 1ms/step - loss: 0.3582 - accuracy: 0.8527\n",
            "Epoch 86/1000\n",
            "20/20 [==============================] - 0s 1ms/step - loss: 0.3573 - accuracy: 0.8543\n",
            "Epoch 87/1000\n",
            "20/20 [==============================] - 0s 1ms/step - loss: 0.3562 - accuracy: 0.8576\n",
            "Epoch 88/1000\n",
            "20/20 [==============================] - 0s 1ms/step - loss: 0.3565 - accuracy: 0.8592\n",
            "Epoch 89/1000\n",
            "20/20 [==============================] - 0s 1ms/step - loss: 0.3564 - accuracy: 0.8592\n",
            "Epoch 90/1000\n",
            "20/20 [==============================] - 0s 1ms/step - loss: 0.3570 - accuracy: 0.8560\n",
            "Epoch 91/1000\n",
            "20/20 [==============================] - 0s 1ms/step - loss: 0.3553 - accuracy: 0.8560\n",
            "Epoch 92/1000\n",
            "20/20 [==============================] - 0s 1ms/step - loss: 0.3552 - accuracy: 0.8625\n",
            "Epoch 93/1000\n",
            "20/20 [==============================] - 0s 1ms/step - loss: 0.3549 - accuracy: 0.8592\n",
            "Epoch 94/1000\n",
            "20/20 [==============================] - 0s 1ms/step - loss: 0.3547 - accuracy: 0.8543\n",
            "Epoch 95/1000\n",
            "20/20 [==============================] - 0s 1ms/step - loss: 0.3554 - accuracy: 0.8560\n",
            "Epoch 96/1000\n",
            "20/20 [==============================] - 0s 1ms/step - loss: 0.3549 - accuracy: 0.8576\n",
            "Epoch 97/1000\n",
            "20/20 [==============================] - 0s 1ms/step - loss: 0.3550 - accuracy: 0.8543\n",
            "Epoch 98/1000\n",
            "20/20 [==============================] - 0s 1ms/step - loss: 0.3539 - accuracy: 0.8543\n",
            "Epoch 99/1000\n",
            "20/20 [==============================] - 0s 1ms/step - loss: 0.3540 - accuracy: 0.8576\n",
            "Epoch 100/1000\n",
            "20/20 [==============================] - 0s 1ms/step - loss: 0.3533 - accuracy: 0.8625\n",
            "Epoch 101/1000\n",
            "20/20 [==============================] - 0s 1ms/step - loss: 0.3528 - accuracy: 0.8560\n",
            "Epoch 102/1000\n",
            "20/20 [==============================] - 0s 2ms/step - loss: 0.3531 - accuracy: 0.8592\n",
            "Epoch 103/1000\n",
            "20/20 [==============================] - 0s 1ms/step - loss: 0.3528 - accuracy: 0.8543\n",
            "Epoch 104/1000\n",
            "20/20 [==============================] - 0s 1ms/step - loss: 0.3536 - accuracy: 0.8543\n",
            "Epoch 105/1000\n",
            "20/20 [==============================] - 0s 1ms/step - loss: 0.3533 - accuracy: 0.8543\n",
            "Epoch 106/1000\n",
            "20/20 [==============================] - 0s 1ms/step - loss: 0.3516 - accuracy: 0.8592\n",
            "Epoch 107/1000\n",
            "20/20 [==============================] - 0s 1ms/step - loss: 0.3513 - accuracy: 0.8527\n",
            "Epoch 108/1000\n",
            "20/20 [==============================] - 0s 1ms/step - loss: 0.3518 - accuracy: 0.8527\n",
            "Epoch 109/1000\n",
            "20/20 [==============================] - 0s 1ms/step - loss: 0.3508 - accuracy: 0.8576\n",
            "Epoch 110/1000\n",
            "20/20 [==============================] - 0s 1ms/step - loss: 0.3540 - accuracy: 0.8494\n",
            "Epoch 111/1000\n",
            "20/20 [==============================] - 0s 1ms/step - loss: 0.3510 - accuracy: 0.8511\n",
            "Epoch 112/1000\n",
            "20/20 [==============================] - 0s 1ms/step - loss: 0.3520 - accuracy: 0.8511\n",
            "Epoch 113/1000\n",
            "20/20 [==============================] - 0s 1ms/step - loss: 0.3510 - accuracy: 0.8609\n",
            "Epoch 114/1000\n",
            "20/20 [==============================] - 0s 1ms/step - loss: 0.3502 - accuracy: 0.8609\n",
            "Epoch 115/1000\n",
            "20/20 [==============================] - 0s 1ms/step - loss: 0.3505 - accuracy: 0.8576\n",
            "Epoch 116/1000\n",
            "20/20 [==============================] - 0s 1ms/step - loss: 0.3523 - accuracy: 0.8560\n",
            "Epoch 117/1000\n",
            "20/20 [==============================] - 0s 1ms/step - loss: 0.3518 - accuracy: 0.8576\n",
            "Epoch 118/1000\n",
            "20/20 [==============================] - 0s 1ms/step - loss: 0.3502 - accuracy: 0.8609\n",
            "Epoch 119/1000\n",
            "20/20 [==============================] - 0s 1ms/step - loss: 0.3492 - accuracy: 0.8609\n",
            "Epoch 120/1000\n",
            "20/20 [==============================] - 0s 1ms/step - loss: 0.3487 - accuracy: 0.8576\n",
            "Epoch 121/1000\n",
            "20/20 [==============================] - 0s 1ms/step - loss: 0.3487 - accuracy: 0.8625\n",
            "Epoch 122/1000\n",
            "20/20 [==============================] - 0s 1ms/step - loss: 0.3484 - accuracy: 0.8543\n",
            "Epoch 123/1000\n",
            "20/20 [==============================] - 0s 1ms/step - loss: 0.3490 - accuracy: 0.8560\n",
            "Epoch 124/1000\n",
            "20/20 [==============================] - 0s 1ms/step - loss: 0.3485 - accuracy: 0.8625\n",
            "Epoch 125/1000\n",
            "20/20 [==============================] - 0s 1ms/step - loss: 0.3476 - accuracy: 0.8642\n",
            "Epoch 126/1000\n",
            "20/20 [==============================] - 0s 1ms/step - loss: 0.3481 - accuracy: 0.8576\n",
            "Epoch 127/1000\n",
            "20/20 [==============================] - 0s 1ms/step - loss: 0.3469 - accuracy: 0.8625\n",
            "Epoch 128/1000\n",
            "20/20 [==============================] - 0s 1ms/step - loss: 0.3474 - accuracy: 0.8609\n",
            "Epoch 129/1000\n",
            "20/20 [==============================] - 0s 1ms/step - loss: 0.3475 - accuracy: 0.8592\n",
            "Epoch 130/1000\n",
            "20/20 [==============================] - 0s 1ms/step - loss: 0.3473 - accuracy: 0.8576\n",
            "Epoch 131/1000\n",
            "20/20 [==============================] - 0s 1ms/step - loss: 0.3470 - accuracy: 0.8543\n",
            "Epoch 132/1000\n",
            "20/20 [==============================] - 0s 1ms/step - loss: 0.3465 - accuracy: 0.8609\n",
            "Epoch 133/1000\n",
            "20/20 [==============================] - 0s 1ms/step - loss: 0.3475 - accuracy: 0.8625\n",
            "Epoch 134/1000\n",
            "20/20 [==============================] - 0s 1ms/step - loss: 0.3473 - accuracy: 0.8625\n",
            "Epoch 135/1000\n",
            "20/20 [==============================] - 0s 2ms/step - loss: 0.3461 - accuracy: 0.8592\n",
            "Epoch 136/1000\n",
            "20/20 [==============================] - 0s 2ms/step - loss: 0.3464 - accuracy: 0.8592\n",
            "Epoch 137/1000\n",
            "20/20 [==============================] - 0s 1ms/step - loss: 0.3456 - accuracy: 0.8642\n",
            "Epoch 138/1000\n",
            "20/20 [==============================] - 0s 1ms/step - loss: 0.3456 - accuracy: 0.8642\n",
            "Epoch 139/1000\n",
            "20/20 [==============================] - 0s 1ms/step - loss: 0.3465 - accuracy: 0.8576\n",
            "Epoch 140/1000\n",
            "20/20 [==============================] - 0s 1ms/step - loss: 0.3450 - accuracy: 0.8592\n",
            "Epoch 141/1000\n",
            "20/20 [==============================] - 0s 1ms/step - loss: 0.3454 - accuracy: 0.8592\n",
            "Epoch 142/1000\n",
            "20/20 [==============================] - 0s 1ms/step - loss: 0.3448 - accuracy: 0.8560\n",
            "Epoch 143/1000\n",
            "20/20 [==============================] - 0s 1ms/step - loss: 0.3451 - accuracy: 0.8658\n",
            "Epoch 144/1000\n",
            "20/20 [==============================] - 0s 1ms/step - loss: 0.3463 - accuracy: 0.8592\n",
            "Epoch 145/1000\n",
            "20/20 [==============================] - 0s 1ms/step - loss: 0.3440 - accuracy: 0.8592\n",
            "Epoch 146/1000\n",
            "20/20 [==============================] - 0s 1ms/step - loss: 0.3442 - accuracy: 0.8576\n",
            "Epoch 147/1000\n",
            "20/20 [==============================] - 0s 1ms/step - loss: 0.3446 - accuracy: 0.8576\n",
            "Epoch 148/1000\n",
            "20/20 [==============================] - 0s 1ms/step - loss: 0.3442 - accuracy: 0.8609\n",
            "Epoch 149/1000\n",
            "20/20 [==============================] - 0s 1ms/step - loss: 0.3445 - accuracy: 0.8625\n",
            "Epoch 150/1000\n",
            "20/20 [==============================] - 0s 1ms/step - loss: 0.3438 - accuracy: 0.8658\n",
            "Epoch 151/1000\n",
            "20/20 [==============================] - 0s 1ms/step - loss: 0.3452 - accuracy: 0.8658\n",
            "Epoch 152/1000\n",
            "20/20 [==============================] - 0s 1ms/step - loss: 0.3439 - accuracy: 0.8691\n",
            "Epoch 153/1000\n",
            "20/20 [==============================] - 0s 1ms/step - loss: 0.3438 - accuracy: 0.8658\n",
            "Epoch 154/1000\n",
            "20/20 [==============================] - 0s 1ms/step - loss: 0.3430 - accuracy: 0.8642\n",
            "Epoch 155/1000\n",
            "20/20 [==============================] - 0s 1ms/step - loss: 0.3440 - accuracy: 0.8609\n",
            "Epoch 156/1000\n",
            "20/20 [==============================] - 0s 1ms/step - loss: 0.3426 - accuracy: 0.8625\n",
            "Epoch 157/1000\n",
            "20/20 [==============================] - 0s 2ms/step - loss: 0.3425 - accuracy: 0.8625\n",
            "Epoch 158/1000\n",
            "20/20 [==============================] - 0s 1ms/step - loss: 0.3424 - accuracy: 0.8592\n",
            "Epoch 159/1000\n",
            "20/20 [==============================] - 0s 1ms/step - loss: 0.3425 - accuracy: 0.8625\n",
            "Epoch 160/1000\n",
            "20/20 [==============================] - 0s 1ms/step - loss: 0.3423 - accuracy: 0.8625\n",
            "Epoch 161/1000\n",
            "20/20 [==============================] - 0s 1ms/step - loss: 0.3419 - accuracy: 0.8625\n",
            "Epoch 162/1000\n",
            "20/20 [==============================] - 0s 1ms/step - loss: 0.3425 - accuracy: 0.8674\n",
            "Epoch 163/1000\n",
            "20/20 [==============================] - 0s 1ms/step - loss: 0.3423 - accuracy: 0.8658\n",
            "Epoch 164/1000\n",
            "20/20 [==============================] - 0s 1ms/step - loss: 0.3425 - accuracy: 0.8658\n",
            "Epoch 165/1000\n",
            "20/20 [==============================] - 0s 1ms/step - loss: 0.3421 - accuracy: 0.8609\n",
            "Epoch 166/1000\n",
            "20/20 [==============================] - 0s 1ms/step - loss: 0.3413 - accuracy: 0.8625\n",
            "Epoch 167/1000\n",
            "20/20 [==============================] - 0s 1ms/step - loss: 0.3419 - accuracy: 0.8642\n",
            "Epoch 168/1000\n",
            "20/20 [==============================] - 0s 1ms/step - loss: 0.3419 - accuracy: 0.8642\n",
            "Epoch 169/1000\n",
            "20/20 [==============================] - 0s 1ms/step - loss: 0.3428 - accuracy: 0.8625\n",
            "Epoch 170/1000\n",
            "20/20 [==============================] - 0s 1ms/step - loss: 0.3418 - accuracy: 0.8625\n",
            "Epoch 171/1000\n",
            "20/20 [==============================] - 0s 1ms/step - loss: 0.3438 - accuracy: 0.8625\n",
            "Epoch 172/1000\n",
            "20/20 [==============================] - 0s 1ms/step - loss: 0.3412 - accuracy: 0.8691\n",
            "Epoch 173/1000\n",
            "20/20 [==============================] - 0s 1ms/step - loss: 0.3409 - accuracy: 0.8658\n",
            "Epoch 174/1000\n",
            "20/20 [==============================] - 0s 1ms/step - loss: 0.3406 - accuracy: 0.8642\n",
            "Epoch 175/1000\n",
            "20/20 [==============================] - 0s 1ms/step - loss: 0.3417 - accuracy: 0.8625\n",
            "Epoch 176/1000\n",
            "20/20 [==============================] - 0s 1ms/step - loss: 0.3409 - accuracy: 0.8674\n",
            "Epoch 177/1000\n",
            "20/20 [==============================] - 0s 1ms/step - loss: 0.3418 - accuracy: 0.8625\n",
            "Epoch 178/1000\n",
            "20/20 [==============================] - 0s 1ms/step - loss: 0.3414 - accuracy: 0.8609\n",
            "Epoch 179/1000\n",
            "20/20 [==============================] - 0s 1ms/step - loss: 0.3413 - accuracy: 0.8625\n",
            "Epoch 180/1000\n",
            "20/20 [==============================] - 0s 1ms/step - loss: 0.3409 - accuracy: 0.8625\n",
            "Epoch 181/1000\n",
            "20/20 [==============================] - 0s 1ms/step - loss: 0.3406 - accuracy: 0.8658\n",
            "Epoch 182/1000\n",
            "20/20 [==============================] - 0s 1ms/step - loss: 0.3403 - accuracy: 0.8674\n",
            "Epoch 183/1000\n",
            "20/20 [==============================] - 0s 1ms/step - loss: 0.3402 - accuracy: 0.8658\n",
            "Epoch 184/1000\n",
            "20/20 [==============================] - 0s 1ms/step - loss: 0.3403 - accuracy: 0.8658\n",
            "Epoch 185/1000\n",
            "20/20 [==============================] - 0s 1ms/step - loss: 0.3399 - accuracy: 0.8642\n",
            "Epoch 186/1000\n",
            "20/20 [==============================] - 0s 1ms/step - loss: 0.3424 - accuracy: 0.8642\n",
            "Epoch 187/1000\n",
            "20/20 [==============================] - 0s 1ms/step - loss: 0.3406 - accuracy: 0.8658\n",
            "Epoch 188/1000\n",
            "20/20 [==============================] - 0s 2ms/step - loss: 0.3401 - accuracy: 0.8625\n",
            "Epoch 189/1000\n",
            "20/20 [==============================] - 0s 1ms/step - loss: 0.3395 - accuracy: 0.8642\n",
            "Epoch 190/1000\n",
            "20/20 [==============================] - 0s 1ms/step - loss: 0.3404 - accuracy: 0.8642\n",
            "Epoch 191/1000\n",
            "20/20 [==============================] - 0s 1ms/step - loss: 0.3402 - accuracy: 0.8625\n",
            "Epoch 192/1000\n",
            "20/20 [==============================] - 0s 1ms/step - loss: 0.3395 - accuracy: 0.8642\n",
            "Epoch 193/1000\n",
            "20/20 [==============================] - 0s 1ms/step - loss: 0.3395 - accuracy: 0.8642\n",
            "Epoch 194/1000\n",
            "20/20 [==============================] - 0s 1ms/step - loss: 0.3395 - accuracy: 0.8625\n",
            "Epoch 195/1000\n",
            "20/20 [==============================] - 0s 1ms/step - loss: 0.3396 - accuracy: 0.8658\n",
            "Epoch 196/1000\n",
            "20/20 [==============================] - 0s 1ms/step - loss: 0.3392 - accuracy: 0.8674\n",
            "Epoch 197/1000\n",
            "20/20 [==============================] - 0s 1ms/step - loss: 0.3388 - accuracy: 0.8658\n",
            "Epoch 198/1000\n",
            "20/20 [==============================] - 0s 1ms/step - loss: 0.3400 - accuracy: 0.8642\n",
            "Epoch 199/1000\n",
            "20/20 [==============================] - 0s 1ms/step - loss: 0.3386 - accuracy: 0.8658\n",
            "Epoch 200/1000\n",
            "20/20 [==============================] - 0s 1ms/step - loss: 0.3388 - accuracy: 0.8674\n",
            "Epoch 201/1000\n",
            "20/20 [==============================] - 0s 1ms/step - loss: 0.3385 - accuracy: 0.8674\n",
            "Epoch 202/1000\n",
            "20/20 [==============================] - 0s 1ms/step - loss: 0.3393 - accuracy: 0.8674\n",
            "Epoch 203/1000\n",
            "20/20 [==============================] - 0s 1ms/step - loss: 0.3433 - accuracy: 0.8592\n",
            "Epoch 204/1000\n",
            "20/20 [==============================] - 0s 1ms/step - loss: 0.3413 - accuracy: 0.8576\n",
            "Epoch 205/1000\n",
            "20/20 [==============================] - 0s 1ms/step - loss: 0.3386 - accuracy: 0.8707\n",
            "Epoch 206/1000\n",
            "20/20 [==============================] - 0s 1ms/step - loss: 0.3391 - accuracy: 0.8642\n",
            "Epoch 207/1000\n",
            "20/20 [==============================] - 0s 1ms/step - loss: 0.3379 - accuracy: 0.8658\n",
            "Epoch 208/1000\n",
            "20/20 [==============================] - 0s 1ms/step - loss: 0.3383 - accuracy: 0.8691\n",
            "Epoch 209/1000\n",
            "20/20 [==============================] - 0s 1ms/step - loss: 0.3387 - accuracy: 0.8674\n",
            "Epoch 210/1000\n",
            "20/20 [==============================] - 0s 1ms/step - loss: 0.3379 - accuracy: 0.8658\n",
            "Epoch 211/1000\n",
            "20/20 [==============================] - 0s 1ms/step - loss: 0.3379 - accuracy: 0.8707\n",
            "Epoch 212/1000\n",
            "20/20 [==============================] - 0s 2ms/step - loss: 0.3375 - accuracy: 0.8658\n",
            "Epoch 213/1000\n",
            "20/20 [==============================] - 0s 1ms/step - loss: 0.3385 - accuracy: 0.8658\n",
            "Epoch 214/1000\n",
            "20/20 [==============================] - 0s 1ms/step - loss: 0.3378 - accuracy: 0.8674\n",
            "Epoch 215/1000\n",
            "20/20 [==============================] - 0s 1ms/step - loss: 0.3372 - accuracy: 0.8674\n",
            "Epoch 216/1000\n",
            "20/20 [==============================] - 0s 1ms/step - loss: 0.3377 - accuracy: 0.8674\n",
            "Epoch 217/1000\n",
            "20/20 [==============================] - 0s 1ms/step - loss: 0.3386 - accuracy: 0.8658\n",
            "Epoch 218/1000\n",
            "20/20 [==============================] - 0s 1ms/step - loss: 0.3379 - accuracy: 0.8658\n",
            "Epoch 219/1000\n",
            "20/20 [==============================] - 0s 1ms/step - loss: 0.3377 - accuracy: 0.8691\n",
            "Epoch 220/1000\n",
            "20/20 [==============================] - 0s 2ms/step - loss: 0.3390 - accuracy: 0.8658\n",
            "Epoch 221/1000\n",
            "20/20 [==============================] - 0s 1ms/step - loss: 0.3413 - accuracy: 0.8625\n",
            "Epoch 222/1000\n",
            "20/20 [==============================] - 0s 1ms/step - loss: 0.3374 - accuracy: 0.8625\n",
            "Epoch 223/1000\n",
            "20/20 [==============================] - 0s 1ms/step - loss: 0.3375 - accuracy: 0.8674\n",
            "Epoch 224/1000\n",
            "20/20 [==============================] - 0s 1ms/step - loss: 0.3378 - accuracy: 0.8707\n",
            "Epoch 225/1000\n",
            "20/20 [==============================] - 0s 1ms/step - loss: 0.3372 - accuracy: 0.8642\n",
            "Epoch 226/1000\n",
            "20/20 [==============================] - 0s 1ms/step - loss: 0.3387 - accuracy: 0.8691\n",
            "Epoch 227/1000\n",
            "20/20 [==============================] - 0s 1ms/step - loss: 0.3359 - accuracy: 0.8642\n",
            "Epoch 228/1000\n",
            "20/20 [==============================] - 0s 1ms/step - loss: 0.3369 - accuracy: 0.8707\n",
            "Epoch 229/1000\n",
            "20/20 [==============================] - 0s 1ms/step - loss: 0.3359 - accuracy: 0.8691\n",
            "Epoch 230/1000\n",
            "20/20 [==============================] - 0s 1ms/step - loss: 0.3367 - accuracy: 0.8642\n",
            "Epoch 231/1000\n",
            "20/20 [==============================] - 0s 1ms/step - loss: 0.3363 - accuracy: 0.8658\n",
            "Epoch 232/1000\n",
            "20/20 [==============================] - 0s 1ms/step - loss: 0.3367 - accuracy: 0.8674\n",
            "Epoch 233/1000\n",
            "20/20 [==============================] - 0s 1ms/step - loss: 0.3359 - accuracy: 0.8674\n",
            "Epoch 234/1000\n",
            "20/20 [==============================] - 0s 1ms/step - loss: 0.3377 - accuracy: 0.8674\n",
            "Epoch 235/1000\n",
            "20/20 [==============================] - 0s 1ms/step - loss: 0.3374 - accuracy: 0.8691\n",
            "Epoch 236/1000\n",
            "20/20 [==============================] - 0s 1ms/step - loss: 0.3359 - accuracy: 0.8691\n",
            "Epoch 237/1000\n",
            "20/20 [==============================] - 0s 1ms/step - loss: 0.3359 - accuracy: 0.8674\n",
            "Epoch 238/1000\n",
            "20/20 [==============================] - 0s 1ms/step - loss: 0.3375 - accuracy: 0.8674\n",
            "Epoch 239/1000\n",
            "20/20 [==============================] - 0s 1ms/step - loss: 0.3365 - accuracy: 0.8658\n",
            "Epoch 240/1000\n",
            "20/20 [==============================] - 0s 1ms/step - loss: 0.3358 - accuracy: 0.8691\n",
            "Epoch 241/1000\n",
            "20/20 [==============================] - 0s 1ms/step - loss: 0.3366 - accuracy: 0.8625\n",
            "Epoch 242/1000\n",
            "20/20 [==============================] - 0s 1ms/step - loss: 0.3363 - accuracy: 0.8609\n",
            "Epoch 243/1000\n",
            "20/20 [==============================] - 0s 1ms/step - loss: 0.3357 - accuracy: 0.8609\n",
            "Epoch 244/1000\n",
            "20/20 [==============================] - 0s 1ms/step - loss: 0.3366 - accuracy: 0.8592\n",
            "Epoch 245/1000\n",
            "20/20 [==============================] - 0s 1ms/step - loss: 0.3352 - accuracy: 0.8658\n",
            "Epoch 246/1000\n",
            "20/20 [==============================] - 0s 1ms/step - loss: 0.3369 - accuracy: 0.8592\n",
            "Epoch 247/1000\n",
            "20/20 [==============================] - 0s 1ms/step - loss: 0.3366 - accuracy: 0.8674\n",
            "Epoch 248/1000\n",
            "20/20 [==============================] - 0s 1ms/step - loss: 0.3375 - accuracy: 0.8691\n",
            "Epoch 249/1000\n",
            "20/20 [==============================] - 0s 1ms/step - loss: 0.3354 - accuracy: 0.8609\n",
            "Epoch 250/1000\n",
            "20/20 [==============================] - 0s 1ms/step - loss: 0.3354 - accuracy: 0.8642\n",
            "Epoch 251/1000\n",
            "20/20 [==============================] - 0s 1ms/step - loss: 0.3347 - accuracy: 0.8707\n",
            "Epoch 252/1000\n",
            "20/20 [==============================] - 0s 1ms/step - loss: 0.3346 - accuracy: 0.8658\n",
            "Epoch 253/1000\n",
            "20/20 [==============================] - 0s 1ms/step - loss: 0.3364 - accuracy: 0.8625\n",
            "Epoch 254/1000\n",
            "20/20 [==============================] - 0s 1ms/step - loss: 0.3347 - accuracy: 0.8625\n",
            "Epoch 255/1000\n",
            "20/20 [==============================] - 0s 1ms/step - loss: 0.3347 - accuracy: 0.8642\n",
            "Epoch 256/1000\n",
            "20/20 [==============================] - 0s 1ms/step - loss: 0.3349 - accuracy: 0.8658\n",
            "Epoch 257/1000\n",
            "20/20 [==============================] - 0s 1ms/step - loss: 0.3361 - accuracy: 0.8658\n",
            "Epoch 258/1000\n",
            "20/20 [==============================] - 0s 1ms/step - loss: 0.3369 - accuracy: 0.8674\n",
            "Epoch 259/1000\n",
            "20/20 [==============================] - 0s 1ms/step - loss: 0.3355 - accuracy: 0.8691\n",
            "Epoch 260/1000\n",
            "20/20 [==============================] - 0s 1ms/step - loss: 0.3349 - accuracy: 0.8674\n",
            "Epoch 261/1000\n",
            "20/20 [==============================] - 0s 1ms/step - loss: 0.3355 - accuracy: 0.8691\n",
            "Epoch 262/1000\n",
            "20/20 [==============================] - 0s 1ms/step - loss: 0.3345 - accuracy: 0.8691\n",
            "Epoch 263/1000\n",
            "20/20 [==============================] - 0s 1ms/step - loss: 0.3341 - accuracy: 0.8691\n",
            "Epoch 264/1000\n",
            "20/20 [==============================] - 0s 1ms/step - loss: 0.3362 - accuracy: 0.8691\n",
            "Epoch 265/1000\n",
            "20/20 [==============================] - 0s 1ms/step - loss: 0.3357 - accuracy: 0.8691\n",
            "Epoch 266/1000\n",
            "20/20 [==============================] - 0s 1ms/step - loss: 0.3339 - accuracy: 0.8642\n",
            "Epoch 267/1000\n",
            "20/20 [==============================] - 0s 1ms/step - loss: 0.3330 - accuracy: 0.8691\n",
            "Epoch 268/1000\n",
            "20/20 [==============================] - 0s 1ms/step - loss: 0.3337 - accuracy: 0.8642\n",
            "Epoch 269/1000\n",
            "20/20 [==============================] - 0s 1ms/step - loss: 0.3345 - accuracy: 0.8674\n",
            "Epoch 270/1000\n",
            "20/20 [==============================] - 0s 1ms/step - loss: 0.3349 - accuracy: 0.8642\n",
            "Epoch 271/1000\n",
            "20/20 [==============================] - 0s 1ms/step - loss: 0.3340 - accuracy: 0.8625\n",
            "Epoch 272/1000\n",
            "20/20 [==============================] - 0s 1ms/step - loss: 0.3331 - accuracy: 0.8642\n",
            "Epoch 273/1000\n",
            "20/20 [==============================] - 0s 1ms/step - loss: 0.3341 - accuracy: 0.8674\n",
            "Epoch 274/1000\n",
            "20/20 [==============================] - 0s 1ms/step - loss: 0.3343 - accuracy: 0.8642\n",
            "Epoch 275/1000\n",
            "20/20 [==============================] - 0s 1ms/step - loss: 0.3331 - accuracy: 0.8674\n",
            "Epoch 276/1000\n",
            "20/20 [==============================] - 0s 1ms/step - loss: 0.3334 - accuracy: 0.8642\n",
            "Epoch 277/1000\n",
            "20/20 [==============================] - 0s 1ms/step - loss: 0.3327 - accuracy: 0.8674\n",
            "Epoch 278/1000\n",
            "20/20 [==============================] - 0s 1ms/step - loss: 0.3331 - accuracy: 0.8674\n",
            "Epoch 279/1000\n",
            "20/20 [==============================] - 0s 1ms/step - loss: 0.3329 - accuracy: 0.8658\n",
            "Epoch 280/1000\n",
            "20/20 [==============================] - 0s 1ms/step - loss: 0.3332 - accuracy: 0.8691\n",
            "Epoch 281/1000\n",
            "20/20 [==============================] - 0s 1ms/step - loss: 0.3320 - accuracy: 0.8723\n",
            "Epoch 282/1000\n",
            "20/20 [==============================] - 0s 1ms/step - loss: 0.3331 - accuracy: 0.8707\n",
            "Epoch 283/1000\n",
            "20/20 [==============================] - 0s 1ms/step - loss: 0.3343 - accuracy: 0.8642\n",
            "Epoch 284/1000\n",
            "20/20 [==============================] - 0s 1ms/step - loss: 0.3323 - accuracy: 0.8674\n",
            "Epoch 285/1000\n",
            "20/20 [==============================] - 0s 1ms/step - loss: 0.3335 - accuracy: 0.8642\n",
            "Epoch 286/1000\n",
            "20/20 [==============================] - 0s 1ms/step - loss: 0.3337 - accuracy: 0.8576\n",
            "Epoch 287/1000\n",
            "20/20 [==============================] - 0s 1ms/step - loss: 0.3356 - accuracy: 0.8560\n",
            "Epoch 288/1000\n",
            "20/20 [==============================] - 0s 1ms/step - loss: 0.3358 - accuracy: 0.8658\n",
            "Epoch 289/1000\n",
            "20/20 [==============================] - 0s 1ms/step - loss: 0.3343 - accuracy: 0.8625\n",
            "Epoch 290/1000\n",
            "20/20 [==============================] - 0s 1ms/step - loss: 0.3330 - accuracy: 0.8691\n",
            "Epoch 291/1000\n",
            "20/20 [==============================] - 0s 1ms/step - loss: 0.3346 - accuracy: 0.8658\n",
            "Epoch 292/1000\n",
            "20/20 [==============================] - 0s 1ms/step - loss: 0.3348 - accuracy: 0.8658\n",
            "Epoch 293/1000\n",
            "20/20 [==============================] - 0s 1ms/step - loss: 0.3330 - accuracy: 0.8691\n",
            "Epoch 294/1000\n",
            "20/20 [==============================] - 0s 1ms/step - loss: 0.3320 - accuracy: 0.8674\n",
            "Epoch 295/1000\n",
            "20/20 [==============================] - 0s 1ms/step - loss: 0.3320 - accuracy: 0.8658\n",
            "Epoch 296/1000\n",
            "20/20 [==============================] - 0s 1ms/step - loss: 0.3319 - accuracy: 0.8658\n",
            "Epoch 297/1000\n",
            "20/20 [==============================] - 0s 1ms/step - loss: 0.3316 - accuracy: 0.8691\n",
            "Epoch 298/1000\n",
            "20/20 [==============================] - 0s 1ms/step - loss: 0.3321 - accuracy: 0.8691\n",
            "Epoch 299/1000\n",
            "20/20 [==============================] - 0s 1ms/step - loss: 0.3308 - accuracy: 0.8691\n",
            "Epoch 300/1000\n",
            "20/20 [==============================] - 0s 1ms/step - loss: 0.3311 - accuracy: 0.8691\n",
            "Epoch 301/1000\n",
            "20/20 [==============================] - 0s 1ms/step - loss: 0.3311 - accuracy: 0.8674\n",
            "Epoch 302/1000\n",
            "20/20 [==============================] - 0s 1ms/step - loss: 0.3322 - accuracy: 0.8642\n",
            "Epoch 303/1000\n",
            "20/20 [==============================] - 0s 1ms/step - loss: 0.3317 - accuracy: 0.8658\n",
            "Epoch 304/1000\n",
            "20/20 [==============================] - 0s 1ms/step - loss: 0.3314 - accuracy: 0.8674\n",
            "Epoch 305/1000\n",
            "20/20 [==============================] - 0s 1ms/step - loss: 0.3329 - accuracy: 0.8642\n",
            "Epoch 306/1000\n",
            "20/20 [==============================] - 0s 2ms/step - loss: 0.3313 - accuracy: 0.8691\n",
            "Epoch 307/1000\n",
            "20/20 [==============================] - 0s 1ms/step - loss: 0.3312 - accuracy: 0.8707\n",
            "Epoch 308/1000\n",
            "20/20 [==============================] - 0s 1ms/step - loss: 0.3311 - accuracy: 0.8691\n",
            "Epoch 309/1000\n",
            "20/20 [==============================] - 0s 1ms/step - loss: 0.3311 - accuracy: 0.8707\n",
            "Epoch 310/1000\n",
            "20/20 [==============================] - 0s 1ms/step - loss: 0.3307 - accuracy: 0.8707\n",
            "Epoch 311/1000\n",
            "20/20 [==============================] - 0s 1ms/step - loss: 0.3309 - accuracy: 0.8691\n",
            "Epoch 312/1000\n",
            "20/20 [==============================] - 0s 1ms/step - loss: 0.3313 - accuracy: 0.8691\n",
            "Epoch 313/1000\n",
            "20/20 [==============================] - 0s 1ms/step - loss: 0.3298 - accuracy: 0.8674\n",
            "Epoch 314/1000\n",
            "20/20 [==============================] - 0s 1ms/step - loss: 0.3306 - accuracy: 0.8658\n",
            "Epoch 315/1000\n",
            "20/20 [==============================] - 0s 1ms/step - loss: 0.3301 - accuracy: 0.8658\n",
            "Epoch 316/1000\n",
            "20/20 [==============================] - 0s 1ms/step - loss: 0.3311 - accuracy: 0.8658\n",
            "Epoch 317/1000\n",
            "20/20 [==============================] - 0s 1ms/step - loss: 0.3301 - accuracy: 0.8674\n",
            "Epoch 318/1000\n",
            "20/20 [==============================] - 0s 1ms/step - loss: 0.3301 - accuracy: 0.8691\n",
            "Epoch 319/1000\n",
            "20/20 [==============================] - 0s 1ms/step - loss: 0.3306 - accuracy: 0.8691\n",
            "Epoch 320/1000\n",
            "20/20 [==============================] - 0s 1ms/step - loss: 0.3298 - accuracy: 0.8691\n",
            "Epoch 321/1000\n",
            "20/20 [==============================] - 0s 1ms/step - loss: 0.3303 - accuracy: 0.8691\n",
            "Epoch 322/1000\n",
            "20/20 [==============================] - 0s 1ms/step - loss: 0.3295 - accuracy: 0.8707\n",
            "Epoch 323/1000\n",
            "20/20 [==============================] - 0s 1ms/step - loss: 0.3307 - accuracy: 0.8674\n",
            "Epoch 324/1000\n",
            "20/20 [==============================] - 0s 1ms/step - loss: 0.3300 - accuracy: 0.8674\n",
            "Epoch 325/1000\n",
            "20/20 [==============================] - 0s 1ms/step - loss: 0.3298 - accuracy: 0.8674\n",
            "Epoch 326/1000\n",
            "20/20 [==============================] - 0s 1ms/step - loss: 0.3300 - accuracy: 0.8625\n",
            "Epoch 327/1000\n",
            "20/20 [==============================] - 0s 1ms/step - loss: 0.3296 - accuracy: 0.8625\n",
            "Epoch 328/1000\n",
            "20/20 [==============================] - 0s 1ms/step - loss: 0.3305 - accuracy: 0.8642\n",
            "Epoch 329/1000\n",
            "20/20 [==============================] - 0s 1ms/step - loss: 0.3300 - accuracy: 0.8658\n",
            "Epoch 330/1000\n",
            "20/20 [==============================] - 0s 1ms/step - loss: 0.3313 - accuracy: 0.8642\n",
            "Epoch 331/1000\n",
            "20/20 [==============================] - 0s 1ms/step - loss: 0.3292 - accuracy: 0.8707\n",
            "Epoch 332/1000\n",
            "20/20 [==============================] - 0s 1ms/step - loss: 0.3315 - accuracy: 0.8658\n",
            "Epoch 333/1000\n",
            "20/20 [==============================] - 0s 1ms/step - loss: 0.3301 - accuracy: 0.8658\n",
            "Epoch 334/1000\n",
            "20/20 [==============================] - 0s 1ms/step - loss: 0.3320 - accuracy: 0.8658\n",
            "Epoch 335/1000\n",
            "20/20 [==============================] - 0s 1ms/step - loss: 0.3294 - accuracy: 0.8691\n",
            "Epoch 336/1000\n",
            "20/20 [==============================] - 0s 2ms/step - loss: 0.3299 - accuracy: 0.8674\n",
            "Epoch 337/1000\n",
            "20/20 [==============================] - 0s 1ms/step - loss: 0.3297 - accuracy: 0.8625\n",
            "Epoch 338/1000\n",
            "20/20 [==============================] - 0s 1ms/step - loss: 0.3300 - accuracy: 0.8674\n",
            "Epoch 339/1000\n",
            "20/20 [==============================] - 0s 1ms/step - loss: 0.3301 - accuracy: 0.8691\n",
            "Epoch 340/1000\n",
            "20/20 [==============================] - 0s 1ms/step - loss: 0.3291 - accuracy: 0.8707\n",
            "Epoch 341/1000\n",
            "20/20 [==============================] - 0s 1ms/step - loss: 0.3297 - accuracy: 0.8707\n",
            "Epoch 342/1000\n",
            "20/20 [==============================] - 0s 1ms/step - loss: 0.3285 - accuracy: 0.8707\n",
            "Epoch 343/1000\n",
            "20/20 [==============================] - 0s 1ms/step - loss: 0.3296 - accuracy: 0.8707\n",
            "Epoch 344/1000\n",
            "20/20 [==============================] - 0s 1ms/step - loss: 0.3287 - accuracy: 0.8674\n",
            "Epoch 345/1000\n",
            "20/20 [==============================] - 0s 1ms/step - loss: 0.3293 - accuracy: 0.8691\n",
            "Epoch 346/1000\n",
            "20/20 [==============================] - 0s 1ms/step - loss: 0.3304 - accuracy: 0.8642\n",
            "Epoch 347/1000\n",
            "20/20 [==============================] - 0s 1ms/step - loss: 0.3289 - accuracy: 0.8691\n",
            "Epoch 348/1000\n",
            "20/20 [==============================] - 0s 1ms/step - loss: 0.3289 - accuracy: 0.8674\n",
            "Epoch 349/1000\n",
            "20/20 [==============================] - 0s 1ms/step - loss: 0.3284 - accuracy: 0.8691\n",
            "Epoch 350/1000\n",
            "20/20 [==============================] - 0s 1ms/step - loss: 0.3284 - accuracy: 0.8658\n",
            "Epoch 351/1000\n",
            "20/20 [==============================] - 0s 1ms/step - loss: 0.3282 - accuracy: 0.8658\n",
            "Epoch 352/1000\n",
            "20/20 [==============================] - 0s 2ms/step - loss: 0.3288 - accuracy: 0.8674\n",
            "Epoch 353/1000\n",
            "20/20 [==============================] - 0s 1ms/step - loss: 0.3279 - accuracy: 0.8658\n",
            "Epoch 354/1000\n",
            "20/20 [==============================] - 0s 1ms/step - loss: 0.3294 - accuracy: 0.8756\n",
            "Epoch 355/1000\n",
            "20/20 [==============================] - 0s 1ms/step - loss: 0.3286 - accuracy: 0.8691\n",
            "Epoch 356/1000\n",
            "20/20 [==============================] - 0s 1ms/step - loss: 0.3283 - accuracy: 0.8658\n",
            "Epoch 357/1000\n",
            "20/20 [==============================] - 0s 1ms/step - loss: 0.3278 - accuracy: 0.8642\n",
            "Epoch 358/1000\n",
            "20/20 [==============================] - 0s 1ms/step - loss: 0.3289 - accuracy: 0.8674\n",
            "Epoch 359/1000\n",
            "20/20 [==============================] - 0s 1ms/step - loss: 0.3296 - accuracy: 0.8625\n",
            "Epoch 360/1000\n",
            "20/20 [==============================] - 0s 1ms/step - loss: 0.3286 - accuracy: 0.8674\n",
            "Epoch 361/1000\n",
            "20/20 [==============================] - 0s 1ms/step - loss: 0.3297 - accuracy: 0.8674\n",
            "Epoch 362/1000\n",
            "20/20 [==============================] - 0s 1ms/step - loss: 0.3278 - accuracy: 0.8691\n",
            "Epoch 363/1000\n",
            "20/20 [==============================] - 0s 1ms/step - loss: 0.3277 - accuracy: 0.8674\n",
            "Epoch 364/1000\n",
            "20/20 [==============================] - 0s 1ms/step - loss: 0.3282 - accuracy: 0.8674\n",
            "Epoch 365/1000\n",
            "20/20 [==============================] - 0s 1ms/step - loss: 0.3272 - accuracy: 0.8674\n",
            "Epoch 366/1000\n",
            "20/20 [==============================] - 0s 1ms/step - loss: 0.3287 - accuracy: 0.8691\n",
            "Epoch 367/1000\n",
            "20/20 [==============================] - 0s 1ms/step - loss: 0.3269 - accuracy: 0.8674\n",
            "Epoch 368/1000\n",
            "20/20 [==============================] - 0s 1ms/step - loss: 0.3284 - accuracy: 0.8674\n",
            "Epoch 369/1000\n",
            "20/20 [==============================] - 0s 2ms/step - loss: 0.3273 - accuracy: 0.8707\n",
            "Epoch 370/1000\n",
            "20/20 [==============================] - 0s 1ms/step - loss: 0.3301 - accuracy: 0.8707\n",
            "Epoch 371/1000\n",
            "20/20 [==============================] - 0s 1ms/step - loss: 0.3275 - accuracy: 0.8707\n",
            "Epoch 372/1000\n",
            "20/20 [==============================] - 0s 1ms/step - loss: 0.3276 - accuracy: 0.8625\n",
            "Epoch 373/1000\n",
            "20/20 [==============================] - 0s 1ms/step - loss: 0.3286 - accuracy: 0.8625\n",
            "Epoch 374/1000\n",
            "20/20 [==============================] - 0s 1ms/step - loss: 0.3283 - accuracy: 0.8658\n",
            "Epoch 375/1000\n",
            "20/20 [==============================] - 0s 1ms/step - loss: 0.3274 - accuracy: 0.8691\n",
            "Epoch 376/1000\n",
            "20/20 [==============================] - 0s 1ms/step - loss: 0.3284 - accuracy: 0.8707\n",
            "Epoch 377/1000\n",
            "20/20 [==============================] - 0s 1ms/step - loss: 0.3268 - accuracy: 0.8691\n",
            "Epoch 378/1000\n",
            "20/20 [==============================] - 0s 1ms/step - loss: 0.3268 - accuracy: 0.8691\n",
            "Epoch 379/1000\n",
            "20/20 [==============================] - 0s 1ms/step - loss: 0.3269 - accuracy: 0.8691\n",
            "Epoch 380/1000\n",
            "20/20 [==============================] - 0s 1ms/step - loss: 0.3279 - accuracy: 0.8674\n",
            "Epoch 381/1000\n",
            "20/20 [==============================] - 0s 1ms/step - loss: 0.3266 - accuracy: 0.8691\n",
            "Epoch 382/1000\n",
            "20/20 [==============================] - 0s 1ms/step - loss: 0.3263 - accuracy: 0.8674\n",
            "Epoch 383/1000\n",
            "20/20 [==============================] - 0s 1ms/step - loss: 0.3272 - accuracy: 0.8674\n",
            "Epoch 384/1000\n",
            "20/20 [==============================] - 0s 2ms/step - loss: 0.3269 - accuracy: 0.8674\n",
            "Epoch 385/1000\n",
            "20/20 [==============================] - 0s 2ms/step - loss: 0.3263 - accuracy: 0.8691\n",
            "Epoch 386/1000\n",
            "20/20 [==============================] - 0s 1ms/step - loss: 0.3269 - accuracy: 0.8658\n",
            "Epoch 387/1000\n",
            "20/20 [==============================] - 0s 1ms/step - loss: 0.3273 - accuracy: 0.8691\n",
            "Epoch 388/1000\n",
            "20/20 [==============================] - 0s 1ms/step - loss: 0.3263 - accuracy: 0.8723\n",
            "Epoch 389/1000\n",
            "20/20 [==============================] - 0s 1ms/step - loss: 0.3277 - accuracy: 0.8707\n",
            "Epoch 390/1000\n",
            "20/20 [==============================] - 0s 1ms/step - loss: 0.3278 - accuracy: 0.8658\n",
            "Epoch 391/1000\n",
            "20/20 [==============================] - 0s 1ms/step - loss: 0.3262 - accuracy: 0.8707\n",
            "Epoch 392/1000\n",
            "20/20 [==============================] - 0s 1ms/step - loss: 0.3278 - accuracy: 0.8691\n",
            "Epoch 393/1000\n",
            "20/20 [==============================] - 0s 1ms/step - loss: 0.3274 - accuracy: 0.8658\n",
            "Epoch 394/1000\n",
            "20/20 [==============================] - 0s 1ms/step - loss: 0.3273 - accuracy: 0.8707\n",
            "Epoch 395/1000\n",
            "20/20 [==============================] - 0s 1ms/step - loss: 0.3261 - accuracy: 0.8691\n",
            "Epoch 396/1000\n",
            "20/20 [==============================] - 0s 1ms/step - loss: 0.3261 - accuracy: 0.8642\n",
            "Epoch 397/1000\n",
            "20/20 [==============================] - 0s 1ms/step - loss: 0.3271 - accuracy: 0.8691\n",
            "Epoch 398/1000\n",
            "20/20 [==============================] - 0s 1ms/step - loss: 0.3298 - accuracy: 0.8658\n",
            "Epoch 399/1000\n",
            "20/20 [==============================] - 0s 1ms/step - loss: 0.3287 - accuracy: 0.8642\n",
            "Epoch 400/1000\n",
            "20/20 [==============================] - 0s 1ms/step - loss: 0.3256 - accuracy: 0.8691\n",
            "Epoch 401/1000\n",
            "20/20 [==============================] - 0s 1ms/step - loss: 0.3256 - accuracy: 0.8707\n",
            "Epoch 402/1000\n",
            "20/20 [==============================] - 0s 1ms/step - loss: 0.3258 - accuracy: 0.8691\n",
            "Epoch 403/1000\n",
            "20/20 [==============================] - 0s 1ms/step - loss: 0.3271 - accuracy: 0.8642\n",
            "Epoch 404/1000\n",
            "20/20 [==============================] - 0s 1ms/step - loss: 0.3269 - accuracy: 0.8723\n",
            "Epoch 405/1000\n",
            "20/20 [==============================] - 0s 1ms/step - loss: 0.3262 - accuracy: 0.8642\n",
            "Epoch 406/1000\n",
            "20/20 [==============================] - 0s 1ms/step - loss: 0.3262 - accuracy: 0.8674\n",
            "Epoch 407/1000\n",
            "20/20 [==============================] - 0s 1ms/step - loss: 0.3254 - accuracy: 0.8642\n",
            "Epoch 408/1000\n",
            "20/20 [==============================] - 0s 1ms/step - loss: 0.3267 - accuracy: 0.8658\n",
            "Epoch 409/1000\n",
            "20/20 [==============================] - 0s 1ms/step - loss: 0.3263 - accuracy: 0.8609\n",
            "Epoch 410/1000\n",
            "20/20 [==============================] - 0s 1ms/step - loss: 0.3255 - accuracy: 0.8674\n",
            "Epoch 411/1000\n",
            "20/20 [==============================] - 0s 1ms/step - loss: 0.3266 - accuracy: 0.8707\n",
            "Epoch 412/1000\n",
            "20/20 [==============================] - 0s 1ms/step - loss: 0.3271 - accuracy: 0.8674\n",
            "Epoch 413/1000\n",
            "20/20 [==============================] - 0s 1ms/step - loss: 0.3262 - accuracy: 0.8707\n",
            "Epoch 414/1000\n",
            "20/20 [==============================] - 0s 1ms/step - loss: 0.3256 - accuracy: 0.8691\n",
            "Epoch 415/1000\n",
            "20/20 [==============================] - 0s 1ms/step - loss: 0.3268 - accuracy: 0.8707\n",
            "Epoch 416/1000\n",
            "20/20 [==============================] - 0s 1ms/step - loss: 0.3260 - accuracy: 0.8658\n",
            "Epoch 417/1000\n",
            "20/20 [==============================] - 0s 1ms/step - loss: 0.3256 - accuracy: 0.8707\n",
            "Epoch 418/1000\n",
            "20/20 [==============================] - 0s 1ms/step - loss: 0.3259 - accuracy: 0.8691\n",
            "Epoch 419/1000\n",
            "20/20 [==============================] - 0s 1ms/step - loss: 0.3257 - accuracy: 0.8723\n",
            "Epoch 420/1000\n",
            "20/20 [==============================] - 0s 1ms/step - loss: 0.3341 - accuracy: 0.8658\n",
            "Epoch 421/1000\n",
            "20/20 [==============================] - 0s 1ms/step - loss: 0.3293 - accuracy: 0.8691\n",
            "Epoch 422/1000\n",
            "20/20 [==============================] - 0s 1ms/step - loss: 0.3261 - accuracy: 0.8674\n",
            "Epoch 423/1000\n",
            "20/20 [==============================] - 0s 1ms/step - loss: 0.3287 - accuracy: 0.8642\n",
            "Epoch 424/1000\n",
            "20/20 [==============================] - 0s 1ms/step - loss: 0.3290 - accuracy: 0.8674\n",
            "Epoch 425/1000\n",
            "20/20 [==============================] - 0s 1ms/step - loss: 0.3243 - accuracy: 0.8674\n",
            "Epoch 426/1000\n",
            "20/20 [==============================] - 0s 1ms/step - loss: 0.3251 - accuracy: 0.8707\n",
            "Epoch 427/1000\n",
            "20/20 [==============================] - 0s 1ms/step - loss: 0.3250 - accuracy: 0.8723\n",
            "Epoch 428/1000\n",
            "20/20 [==============================] - 0s 1ms/step - loss: 0.3244 - accuracy: 0.8691\n",
            "Epoch 429/1000\n",
            "20/20 [==============================] - 0s 1ms/step - loss: 0.3308 - accuracy: 0.8691\n",
            "Epoch 430/1000\n",
            "20/20 [==============================] - 0s 1ms/step - loss: 0.3277 - accuracy: 0.8674\n",
            "Epoch 431/1000\n",
            "20/20 [==============================] - 0s 1ms/step - loss: 0.3245 - accuracy: 0.8723\n",
            "Epoch 432/1000\n",
            "20/20 [==============================] - 0s 2ms/step - loss: 0.3242 - accuracy: 0.8707\n",
            "Epoch 433/1000\n",
            "20/20 [==============================] - 0s 1ms/step - loss: 0.3238 - accuracy: 0.8707\n",
            "Epoch 434/1000\n",
            "20/20 [==============================] - 0s 1ms/step - loss: 0.3252 - accuracy: 0.8691\n",
            "Epoch 435/1000\n",
            "20/20 [==============================] - 0s 1ms/step - loss: 0.3249 - accuracy: 0.8642\n",
            "Epoch 436/1000\n",
            "20/20 [==============================] - 0s 1ms/step - loss: 0.3275 - accuracy: 0.8691\n",
            "Epoch 437/1000\n",
            "20/20 [==============================] - 0s 1ms/step - loss: 0.3251 - accuracy: 0.8691\n",
            "Epoch 438/1000\n",
            "20/20 [==============================] - 0s 1ms/step - loss: 0.3254 - accuracy: 0.8707\n",
            "Epoch 439/1000\n",
            "20/20 [==============================] - 0s 1ms/step - loss: 0.3246 - accuracy: 0.8723\n",
            "Epoch 440/1000\n",
            "20/20 [==============================] - 0s 1ms/step - loss: 0.3241 - accuracy: 0.8691\n",
            "Epoch 441/1000\n",
            "20/20 [==============================] - 0s 1ms/step - loss: 0.3268 - accuracy: 0.8592\n",
            "Epoch 442/1000\n",
            "20/20 [==============================] - 0s 1ms/step - loss: 0.3251 - accuracy: 0.8674\n",
            "Epoch 443/1000\n",
            "20/20 [==============================] - 0s 1ms/step - loss: 0.3234 - accuracy: 0.8691\n",
            "Epoch 444/1000\n",
            "20/20 [==============================] - 0s 1ms/step - loss: 0.3239 - accuracy: 0.8707\n",
            "Epoch 445/1000\n",
            "20/20 [==============================] - 0s 1ms/step - loss: 0.3240 - accuracy: 0.8691\n",
            "Epoch 446/1000\n",
            "20/20 [==============================] - 0s 1ms/step - loss: 0.3236 - accuracy: 0.8691\n",
            "Epoch 447/1000\n",
            "20/20 [==============================] - 0s 2ms/step - loss: 0.3242 - accuracy: 0.8707\n",
            "Epoch 448/1000\n",
            "20/20 [==============================] - 0s 1ms/step - loss: 0.3228 - accuracy: 0.8723\n",
            "Epoch 449/1000\n",
            "20/20 [==============================] - 0s 1ms/step - loss: 0.3252 - accuracy: 0.8707\n",
            "Epoch 450/1000\n",
            "20/20 [==============================] - 0s 1ms/step - loss: 0.3256 - accuracy: 0.8707\n",
            "Epoch 451/1000\n",
            "20/20 [==============================] - 0s 1ms/step - loss: 0.3243 - accuracy: 0.8691\n",
            "Epoch 452/1000\n",
            "20/20 [==============================] - 0s 1ms/step - loss: 0.3251 - accuracy: 0.8674\n",
            "Epoch 453/1000\n",
            "20/20 [==============================] - 0s 1ms/step - loss: 0.3247 - accuracy: 0.8707\n",
            "Epoch 454/1000\n",
            "20/20 [==============================] - 0s 1ms/step - loss: 0.3227 - accuracy: 0.8691\n",
            "Epoch 455/1000\n",
            "20/20 [==============================] - 0s 1ms/step - loss: 0.3254 - accuracy: 0.8658\n",
            "Epoch 456/1000\n",
            "20/20 [==============================] - 0s 1ms/step - loss: 0.3238 - accuracy: 0.8691\n",
            "Epoch 457/1000\n",
            "20/20 [==============================] - 0s 1ms/step - loss: 0.3238 - accuracy: 0.8674\n",
            "Epoch 458/1000\n",
            "20/20 [==============================] - 0s 1ms/step - loss: 0.3234 - accuracy: 0.8674\n",
            "Epoch 459/1000\n",
            "20/20 [==============================] - 0s 1ms/step - loss: 0.3238 - accuracy: 0.8674\n",
            "Epoch 460/1000\n",
            "20/20 [==============================] - 0s 1ms/step - loss: 0.3236 - accuracy: 0.8658\n",
            "Epoch 461/1000\n",
            "20/20 [==============================] - 0s 1ms/step - loss: 0.3239 - accuracy: 0.8691\n",
            "Epoch 462/1000\n",
            "20/20 [==============================] - 0s 1ms/step - loss: 0.3250 - accuracy: 0.8674\n",
            "Epoch 463/1000\n",
            "20/20 [==============================] - 0s 1ms/step - loss: 0.3229 - accuracy: 0.8723\n",
            "Epoch 464/1000\n",
            "20/20 [==============================] - 0s 1ms/step - loss: 0.3225 - accuracy: 0.8707\n",
            "Epoch 465/1000\n",
            "20/20 [==============================] - 0s 2ms/step - loss: 0.3231 - accuracy: 0.8674\n",
            "Epoch 466/1000\n",
            "20/20 [==============================] - 0s 1ms/step - loss: 0.3223 - accuracy: 0.8691\n",
            "Epoch 467/1000\n",
            "20/20 [==============================] - 0s 1ms/step - loss: 0.3231 - accuracy: 0.8707\n",
            "Epoch 468/1000\n",
            "20/20 [==============================] - 0s 1ms/step - loss: 0.3234 - accuracy: 0.8707\n",
            "Epoch 469/1000\n",
            "20/20 [==============================] - 0s 1ms/step - loss: 0.3236 - accuracy: 0.8707\n",
            "Epoch 470/1000\n",
            "20/20 [==============================] - 0s 1ms/step - loss: 0.3223 - accuracy: 0.8707\n",
            "Epoch 471/1000\n",
            "20/20 [==============================] - 0s 1ms/step - loss: 0.3233 - accuracy: 0.8658\n",
            "Epoch 472/1000\n",
            "20/20 [==============================] - 0s 1ms/step - loss: 0.3235 - accuracy: 0.8691\n",
            "Epoch 473/1000\n",
            "20/20 [==============================] - 0s 1ms/step - loss: 0.3225 - accuracy: 0.8740\n",
            "Epoch 474/1000\n",
            "20/20 [==============================] - 0s 1ms/step - loss: 0.3225 - accuracy: 0.8707\n",
            "Epoch 475/1000\n",
            "20/20 [==============================] - 0s 1ms/step - loss: 0.3226 - accuracy: 0.8707\n",
            "Epoch 476/1000\n",
            "20/20 [==============================] - 0s 1ms/step - loss: 0.3225 - accuracy: 0.8707\n",
            "Epoch 477/1000\n",
            "20/20 [==============================] - 0s 1ms/step - loss: 0.3240 - accuracy: 0.8691\n",
            "Epoch 478/1000\n",
            "20/20 [==============================] - 0s 1ms/step - loss: 0.3245 - accuracy: 0.8642\n",
            "Epoch 479/1000\n",
            "20/20 [==============================] - 0s 1ms/step - loss: 0.3229 - accuracy: 0.8707\n",
            "Epoch 480/1000\n",
            "20/20 [==============================] - 0s 1ms/step - loss: 0.3224 - accuracy: 0.8723\n",
            "Epoch 481/1000\n",
            "20/20 [==============================] - 0s 1ms/step - loss: 0.3250 - accuracy: 0.8674\n",
            "Epoch 482/1000\n",
            "20/20 [==============================] - 0s 1ms/step - loss: 0.3233 - accuracy: 0.8691\n",
            "Epoch 483/1000\n",
            "20/20 [==============================] - 0s 2ms/step - loss: 0.3225 - accuracy: 0.8707\n",
            "Epoch 484/1000\n",
            "20/20 [==============================] - 0s 1ms/step - loss: 0.3232 - accuracy: 0.8691\n",
            "Epoch 485/1000\n",
            "20/20 [==============================] - 0s 1ms/step - loss: 0.3218 - accuracy: 0.8691\n",
            "Epoch 486/1000\n",
            "20/20 [==============================] - 0s 1ms/step - loss: 0.3224 - accuracy: 0.8674\n",
            "Epoch 487/1000\n",
            "20/20 [==============================] - 0s 1ms/step - loss: 0.3224 - accuracy: 0.8691\n",
            "Epoch 488/1000\n",
            "20/20 [==============================] - 0s 1ms/step - loss: 0.3220 - accuracy: 0.8707\n",
            "Epoch 489/1000\n",
            "20/20 [==============================] - 0s 1ms/step - loss: 0.3216 - accuracy: 0.8707\n",
            "Epoch 490/1000\n",
            "20/20 [==============================] - 0s 1ms/step - loss: 0.3211 - accuracy: 0.8723\n",
            "Epoch 491/1000\n",
            "20/20 [==============================] - 0s 1ms/step - loss: 0.3223 - accuracy: 0.8707\n",
            "Epoch 492/1000\n",
            "20/20 [==============================] - 0s 2ms/step - loss: 0.3228 - accuracy: 0.8674\n",
            "Epoch 493/1000\n",
            "20/20 [==============================] - 0s 1ms/step - loss: 0.3221 - accuracy: 0.8707\n",
            "Epoch 494/1000\n",
            "20/20 [==============================] - 0s 1ms/step - loss: 0.3234 - accuracy: 0.8674\n",
            "Epoch 495/1000\n",
            "20/20 [==============================] - 0s 1ms/step - loss: 0.3214 - accuracy: 0.8674\n",
            "Epoch 496/1000\n",
            "20/20 [==============================] - 0s 1ms/step - loss: 0.3227 - accuracy: 0.8674\n",
            "Epoch 497/1000\n",
            "20/20 [==============================] - 0s 2ms/step - loss: 0.3234 - accuracy: 0.8707\n",
            "Epoch 498/1000\n",
            "20/20 [==============================] - 0s 1ms/step - loss: 0.3204 - accuracy: 0.8723\n",
            "Epoch 499/1000\n",
            "20/20 [==============================] - 0s 2ms/step - loss: 0.3214 - accuracy: 0.8723\n",
            "Epoch 500/1000\n",
            "20/20 [==============================] - 0s 2ms/step - loss: 0.3212 - accuracy: 0.8691\n",
            "Epoch 501/1000\n",
            "20/20 [==============================] - 0s 1ms/step - loss: 0.3200 - accuracy: 0.8707\n",
            "Epoch 502/1000\n",
            "20/20 [==============================] - 0s 2ms/step - loss: 0.3211 - accuracy: 0.8723\n",
            "Epoch 503/1000\n",
            "20/20 [==============================] - 0s 1ms/step - loss: 0.3208 - accuracy: 0.8723\n",
            "Epoch 504/1000\n",
            "20/20 [==============================] - 0s 1ms/step - loss: 0.3212 - accuracy: 0.8723\n",
            "Epoch 505/1000\n",
            "20/20 [==============================] - 0s 1ms/step - loss: 0.3215 - accuracy: 0.8691\n",
            "Epoch 506/1000\n",
            "20/20 [==============================] - 0s 1ms/step - loss: 0.3204 - accuracy: 0.8723\n",
            "Epoch 507/1000\n",
            "20/20 [==============================] - 0s 1ms/step - loss: 0.3219 - accuracy: 0.8723\n",
            "Epoch 508/1000\n",
            "20/20 [==============================] - 0s 1ms/step - loss: 0.3208 - accuracy: 0.8674\n",
            "Epoch 509/1000\n",
            "20/20 [==============================] - 0s 2ms/step - loss: 0.3222 - accuracy: 0.8723\n",
            "Epoch 510/1000\n",
            "20/20 [==============================] - 0s 1ms/step - loss: 0.3205 - accuracy: 0.8723\n",
            "Epoch 511/1000\n",
            "20/20 [==============================] - 0s 1ms/step - loss: 0.3202 - accuracy: 0.8691\n",
            "Epoch 512/1000\n",
            "20/20 [==============================] - 0s 1ms/step - loss: 0.3206 - accuracy: 0.8707\n",
            "Epoch 513/1000\n",
            "20/20 [==============================] - 0s 1ms/step - loss: 0.3203 - accuracy: 0.8723\n",
            "Epoch 514/1000\n",
            "20/20 [==============================] - 0s 2ms/step - loss: 0.3260 - accuracy: 0.8674\n",
            "Epoch 515/1000\n",
            "20/20 [==============================] - 0s 1ms/step - loss: 0.3231 - accuracy: 0.8691\n",
            "Epoch 516/1000\n",
            "20/20 [==============================] - 0s 1ms/step - loss: 0.3211 - accuracy: 0.8691\n",
            "Epoch 517/1000\n",
            "20/20 [==============================] - 0s 1ms/step - loss: 0.3211 - accuracy: 0.8691\n",
            "Epoch 518/1000\n",
            "20/20 [==============================] - 0s 1ms/step - loss: 0.3214 - accuracy: 0.8707\n",
            "Epoch 519/1000\n",
            "20/20 [==============================] - 0s 1ms/step - loss: 0.3206 - accuracy: 0.8707\n",
            "Epoch 520/1000\n",
            "20/20 [==============================] - 0s 1ms/step - loss: 0.3216 - accuracy: 0.8674\n",
            "Epoch 521/1000\n",
            "20/20 [==============================] - 0s 1ms/step - loss: 0.3216 - accuracy: 0.8691\n",
            "Epoch 522/1000\n",
            "20/20 [==============================] - 0s 1ms/step - loss: 0.3209 - accuracy: 0.8723\n",
            "Epoch 523/1000\n",
            "20/20 [==============================] - 0s 2ms/step - loss: 0.3198 - accuracy: 0.8691\n",
            "Epoch 524/1000\n",
            "20/20 [==============================] - 0s 1ms/step - loss: 0.3190 - accuracy: 0.8707\n",
            "Epoch 525/1000\n",
            "20/20 [==============================] - 0s 1ms/step - loss: 0.3210 - accuracy: 0.8691\n",
            "Epoch 526/1000\n",
            "20/20 [==============================] - 0s 1ms/step - loss: 0.3207 - accuracy: 0.8707\n",
            "Epoch 527/1000\n",
            "20/20 [==============================] - 0s 2ms/step - loss: 0.3201 - accuracy: 0.8723\n",
            "Epoch 528/1000\n",
            "20/20 [==============================] - 0s 1ms/step - loss: 0.3211 - accuracy: 0.8691\n",
            "Epoch 529/1000\n",
            "20/20 [==============================] - 0s 1ms/step - loss: 0.3206 - accuracy: 0.8674\n",
            "Epoch 530/1000\n",
            "20/20 [==============================] - 0s 1ms/step - loss: 0.3199 - accuracy: 0.8691\n",
            "Epoch 531/1000\n",
            "20/20 [==============================] - 0s 1ms/step - loss: 0.3200 - accuracy: 0.8707\n",
            "Epoch 532/1000\n",
            "20/20 [==============================] - 0s 1ms/step - loss: 0.3223 - accuracy: 0.8691\n",
            "Epoch 533/1000\n",
            "20/20 [==============================] - 0s 1ms/step - loss: 0.3193 - accuracy: 0.8707\n",
            "Epoch 534/1000\n",
            "20/20 [==============================] - 0s 1ms/step - loss: 0.3197 - accuracy: 0.8723\n",
            "Epoch 535/1000\n",
            "20/20 [==============================] - 0s 1ms/step - loss: 0.3193 - accuracy: 0.8707\n",
            "Epoch 536/1000\n",
            "20/20 [==============================] - 0s 1ms/step - loss: 0.3198 - accuracy: 0.8691\n",
            "Epoch 537/1000\n",
            "20/20 [==============================] - 0s 1ms/step - loss: 0.3213 - accuracy: 0.8707\n",
            "Epoch 538/1000\n",
            "20/20 [==============================] - 0s 1ms/step - loss: 0.3191 - accuracy: 0.8723\n",
            "Epoch 539/1000\n",
            "20/20 [==============================] - 0s 1ms/step - loss: 0.3184 - accuracy: 0.8691\n",
            "Epoch 540/1000\n",
            "20/20 [==============================] - 0s 1ms/step - loss: 0.3192 - accuracy: 0.8658\n",
            "Epoch 541/1000\n",
            "20/20 [==============================] - 0s 1ms/step - loss: 0.3192 - accuracy: 0.8691\n",
            "Epoch 542/1000\n",
            "20/20 [==============================] - 0s 1ms/step - loss: 0.3184 - accuracy: 0.8707\n",
            "Epoch 543/1000\n",
            "20/20 [==============================] - 0s 1ms/step - loss: 0.3187 - accuracy: 0.8691\n",
            "Epoch 544/1000\n",
            "20/20 [==============================] - 0s 1ms/step - loss: 0.3207 - accuracy: 0.8707\n",
            "Epoch 545/1000\n",
            "20/20 [==============================] - 0s 1ms/step - loss: 0.3199 - accuracy: 0.8691\n",
            "Epoch 546/1000\n",
            "20/20 [==============================] - 0s 1ms/step - loss: 0.3202 - accuracy: 0.8723\n",
            "Epoch 547/1000\n",
            "20/20 [==============================] - 0s 1ms/step - loss: 0.3220 - accuracy: 0.8707\n",
            "Epoch 548/1000\n",
            "20/20 [==============================] - 0s 1ms/step - loss: 0.3206 - accuracy: 0.8707\n",
            "Epoch 549/1000\n",
            "20/20 [==============================] - 0s 1ms/step - loss: 0.3185 - accuracy: 0.8756\n",
            "Epoch 550/1000\n",
            "20/20 [==============================] - 0s 1ms/step - loss: 0.3184 - accuracy: 0.8723\n",
            "Epoch 551/1000\n",
            "20/20 [==============================] - 0s 1ms/step - loss: 0.3184 - accuracy: 0.8740\n",
            "Epoch 552/1000\n",
            "20/20 [==============================] - 0s 1ms/step - loss: 0.3181 - accuracy: 0.8691\n",
            "Epoch 553/1000\n",
            "20/20 [==============================] - 0s 1ms/step - loss: 0.3185 - accuracy: 0.8740\n",
            "Epoch 554/1000\n",
            "20/20 [==============================] - 0s 1ms/step - loss: 0.3195 - accuracy: 0.8723\n",
            "Epoch 555/1000\n",
            "20/20 [==============================] - 0s 1ms/step - loss: 0.3216 - accuracy: 0.8658\n",
            "Epoch 556/1000\n",
            "20/20 [==============================] - 0s 1ms/step - loss: 0.3291 - accuracy: 0.8560\n",
            "Epoch 557/1000\n",
            "20/20 [==============================] - 0s 1ms/step - loss: 0.3220 - accuracy: 0.8674\n",
            "Epoch 558/1000\n",
            "20/20 [==============================] - 0s 1ms/step - loss: 0.3193 - accuracy: 0.8723\n",
            "Epoch 559/1000\n",
            "20/20 [==============================] - 0s 2ms/step - loss: 0.3190 - accuracy: 0.8674\n",
            "Epoch 560/1000\n",
            "20/20 [==============================] - 0s 1ms/step - loss: 0.3188 - accuracy: 0.8723\n",
            "Epoch 561/1000\n",
            "20/20 [==============================] - 0s 1ms/step - loss: 0.3189 - accuracy: 0.8707\n",
            "Epoch 562/1000\n",
            "20/20 [==============================] - 0s 2ms/step - loss: 0.3193 - accuracy: 0.8691\n",
            "Epoch 563/1000\n",
            "20/20 [==============================] - 0s 1ms/step - loss: 0.3176 - accuracy: 0.8691\n",
            "Epoch 564/1000\n",
            "20/20 [==============================] - 0s 1ms/step - loss: 0.3186 - accuracy: 0.8723\n",
            "Epoch 565/1000\n",
            "20/20 [==============================] - 0s 1ms/step - loss: 0.3192 - accuracy: 0.8658\n",
            "Epoch 566/1000\n",
            "20/20 [==============================] - 0s 1ms/step - loss: 0.3193 - accuracy: 0.8658\n",
            "Epoch 567/1000\n",
            "20/20 [==============================] - 0s 1ms/step - loss: 0.3191 - accuracy: 0.8691\n",
            "Epoch 568/1000\n",
            "20/20 [==============================] - 0s 1ms/step - loss: 0.3177 - accuracy: 0.8723\n",
            "Epoch 569/1000\n",
            "20/20 [==============================] - 0s 1ms/step - loss: 0.3176 - accuracy: 0.8707\n",
            "Epoch 570/1000\n",
            "20/20 [==============================] - 0s 1ms/step - loss: 0.3176 - accuracy: 0.8740\n",
            "Epoch 571/1000\n",
            "20/20 [==============================] - 0s 1ms/step - loss: 0.3179 - accuracy: 0.8723\n",
            "Epoch 572/1000\n",
            "20/20 [==============================] - 0s 1ms/step - loss: 0.3187 - accuracy: 0.8674\n",
            "Epoch 573/1000\n",
            "20/20 [==============================] - 0s 2ms/step - loss: 0.3168 - accuracy: 0.8691\n",
            "Epoch 574/1000\n",
            "20/20 [==============================] - 0s 1ms/step - loss: 0.3176 - accuracy: 0.8674\n",
            "Epoch 575/1000\n",
            "20/20 [==============================] - 0s 1ms/step - loss: 0.3172 - accuracy: 0.8674\n",
            "Epoch 576/1000\n",
            "20/20 [==============================] - 0s 1ms/step - loss: 0.3175 - accuracy: 0.8691\n",
            "Epoch 577/1000\n",
            "20/20 [==============================] - 0s 1ms/step - loss: 0.3181 - accuracy: 0.8674\n",
            "Epoch 578/1000\n",
            "20/20 [==============================] - 0s 1ms/step - loss: 0.3182 - accuracy: 0.8707\n",
            "Epoch 579/1000\n",
            "20/20 [==============================] - 0s 1ms/step - loss: 0.3173 - accuracy: 0.8674\n",
            "Epoch 580/1000\n",
            "20/20 [==============================] - 0s 1ms/step - loss: 0.3198 - accuracy: 0.8707\n",
            "Epoch 581/1000\n",
            "20/20 [==============================] - 0s 1ms/step - loss: 0.3171 - accuracy: 0.8756\n",
            "Epoch 582/1000\n",
            "20/20 [==============================] - 0s 1ms/step - loss: 0.3209 - accuracy: 0.8642\n",
            "Epoch 583/1000\n",
            "20/20 [==============================] - 0s 1ms/step - loss: 0.3211 - accuracy: 0.8691\n",
            "Epoch 584/1000\n",
            "20/20 [==============================] - 0s 2ms/step - loss: 0.3203 - accuracy: 0.8723\n",
            "Epoch 585/1000\n",
            "20/20 [==============================] - 0s 1ms/step - loss: 0.3182 - accuracy: 0.8723\n",
            "Epoch 586/1000\n",
            "20/20 [==============================] - 0s 1ms/step - loss: 0.3176 - accuracy: 0.8723\n",
            "Epoch 587/1000\n",
            "20/20 [==============================] - 0s 1ms/step - loss: 0.3163 - accuracy: 0.8723\n",
            "Epoch 588/1000\n",
            "20/20 [==============================] - 0s 1ms/step - loss: 0.3179 - accuracy: 0.8707\n",
            "Epoch 589/1000\n",
            "20/20 [==============================] - 0s 1ms/step - loss: 0.3167 - accuracy: 0.8723\n",
            "Epoch 590/1000\n",
            "20/20 [==============================] - 0s 1ms/step - loss: 0.3166 - accuracy: 0.8674\n",
            "Epoch 591/1000\n",
            "20/20 [==============================] - 0s 1ms/step - loss: 0.3162 - accuracy: 0.8674\n",
            "Epoch 592/1000\n",
            "20/20 [==============================] - 0s 1ms/step - loss: 0.3158 - accuracy: 0.8707\n",
            "Epoch 593/1000\n",
            "20/20 [==============================] - 0s 1ms/step - loss: 0.3162 - accuracy: 0.8723\n",
            "Epoch 594/1000\n",
            "20/20 [==============================] - 0s 1ms/step - loss: 0.3170 - accuracy: 0.8707\n",
            "Epoch 595/1000\n",
            "20/20 [==============================] - 0s 1ms/step - loss: 0.3171 - accuracy: 0.8723\n",
            "Epoch 596/1000\n",
            "20/20 [==============================] - 0s 1ms/step - loss: 0.3166 - accuracy: 0.8723\n",
            "Epoch 597/1000\n",
            "20/20 [==============================] - 0s 1ms/step - loss: 0.3165 - accuracy: 0.8756\n",
            "Epoch 598/1000\n",
            "20/20 [==============================] - 0s 1ms/step - loss: 0.3198 - accuracy: 0.8723\n",
            "Epoch 599/1000\n",
            "20/20 [==============================] - 0s 1ms/step - loss: 0.3180 - accuracy: 0.8723\n",
            "Epoch 600/1000\n",
            "20/20 [==============================] - 0s 1ms/step - loss: 0.3165 - accuracy: 0.8723\n",
            "Epoch 601/1000\n",
            "20/20 [==============================] - 0s 2ms/step - loss: 0.3155 - accuracy: 0.8756\n",
            "Epoch 602/1000\n",
            "20/20 [==============================] - 0s 1ms/step - loss: 0.3154 - accuracy: 0.8740\n",
            "Epoch 603/1000\n",
            "20/20 [==============================] - 0s 1ms/step - loss: 0.3155 - accuracy: 0.8658\n",
            "Epoch 604/1000\n",
            "20/20 [==============================] - 0s 1ms/step - loss: 0.3157 - accuracy: 0.8674\n",
            "Epoch 605/1000\n",
            "20/20 [==============================] - 0s 1ms/step - loss: 0.3215 - accuracy: 0.8674\n",
            "Epoch 606/1000\n",
            "20/20 [==============================] - 0s 1ms/step - loss: 0.3213 - accuracy: 0.8642\n",
            "Epoch 607/1000\n",
            "20/20 [==============================] - 0s 1ms/step - loss: 0.3217 - accuracy: 0.8658\n",
            "Epoch 608/1000\n",
            "20/20 [==============================] - 0s 1ms/step - loss: 0.3201 - accuracy: 0.8707\n",
            "Epoch 609/1000\n",
            "20/20 [==============================] - 0s 1ms/step - loss: 0.3203 - accuracy: 0.8707\n",
            "Epoch 610/1000\n",
            "20/20 [==============================] - 0s 1ms/step - loss: 0.3196 - accuracy: 0.8691\n",
            "Epoch 611/1000\n",
            "20/20 [==============================] - 0s 1ms/step - loss: 0.3192 - accuracy: 0.8723\n",
            "Epoch 612/1000\n",
            "20/20 [==============================] - 0s 1ms/step - loss: 0.3193 - accuracy: 0.8674\n",
            "Epoch 613/1000\n",
            "20/20 [==============================] - 0s 1ms/step - loss: 0.3200 - accuracy: 0.8674\n",
            "Epoch 614/1000\n",
            "20/20 [==============================] - 0s 1ms/step - loss: 0.3202 - accuracy: 0.8691\n",
            "Epoch 615/1000\n",
            "20/20 [==============================] - 0s 1ms/step - loss: 0.3225 - accuracy: 0.8674\n",
            "Epoch 616/1000\n",
            "20/20 [==============================] - 0s 1ms/step - loss: 0.3165 - accuracy: 0.8707\n",
            "Epoch 617/1000\n",
            "20/20 [==============================] - 0s 1ms/step - loss: 0.3173 - accuracy: 0.8723\n",
            "Epoch 618/1000\n",
            "20/20 [==============================] - 0s 1ms/step - loss: 0.3160 - accuracy: 0.8740\n",
            "Epoch 619/1000\n",
            "20/20 [==============================] - 0s 1ms/step - loss: 0.3155 - accuracy: 0.8723\n",
            "Epoch 620/1000\n",
            "20/20 [==============================] - 0s 1ms/step - loss: 0.3155 - accuracy: 0.8707\n",
            "Epoch 621/1000\n",
            "20/20 [==============================] - 0s 1ms/step - loss: 0.3159 - accuracy: 0.8740\n",
            "Epoch 622/1000\n",
            "20/20 [==============================] - 0s 2ms/step - loss: 0.3283 - accuracy: 0.8642\n",
            "Epoch 623/1000\n",
            "20/20 [==============================] - 0s 1ms/step - loss: 0.3200 - accuracy: 0.8691\n",
            "Epoch 624/1000\n",
            "20/20 [==============================] - 0s 1ms/step - loss: 0.3161 - accuracy: 0.8723\n",
            "Epoch 625/1000\n",
            "20/20 [==============================] - 0s 1ms/step - loss: 0.3155 - accuracy: 0.8707\n",
            "Epoch 626/1000\n",
            "20/20 [==============================] - 0s 1ms/step - loss: 0.3155 - accuracy: 0.8723\n",
            "Epoch 627/1000\n",
            "20/20 [==============================] - 0s 1ms/step - loss: 0.3161 - accuracy: 0.8691\n",
            "Epoch 628/1000\n",
            "20/20 [==============================] - 0s 1ms/step - loss: 0.3158 - accuracy: 0.8723\n",
            "Epoch 629/1000\n",
            "20/20 [==============================] - 0s 1ms/step - loss: 0.3147 - accuracy: 0.8691\n",
            "Epoch 630/1000\n",
            "20/20 [==============================] - 0s 1ms/step - loss: 0.3167 - accuracy: 0.8707\n",
            "Epoch 631/1000\n",
            "20/20 [==============================] - 0s 1ms/step - loss: 0.3150 - accuracy: 0.8707\n",
            "Epoch 632/1000\n",
            "20/20 [==============================] - 0s 1ms/step - loss: 0.3188 - accuracy: 0.8642\n",
            "Epoch 633/1000\n",
            "20/20 [==============================] - 0s 2ms/step - loss: 0.3181 - accuracy: 0.8625\n",
            "Epoch 634/1000\n",
            "20/20 [==============================] - 0s 1ms/step - loss: 0.3157 - accuracy: 0.8707\n",
            "Epoch 635/1000\n",
            "20/20 [==============================] - 0s 1ms/step - loss: 0.3151 - accuracy: 0.8674\n",
            "Epoch 636/1000\n",
            "20/20 [==============================] - 0s 1ms/step - loss: 0.3145 - accuracy: 0.8691\n",
            "Epoch 637/1000\n",
            "20/20 [==============================] - 0s 1ms/step - loss: 0.3144 - accuracy: 0.8658\n",
            "Epoch 638/1000\n",
            "20/20 [==============================] - 0s 1ms/step - loss: 0.3149 - accuracy: 0.8691\n",
            "Epoch 639/1000\n",
            "20/20 [==============================] - 0s 1ms/step - loss: 0.3163 - accuracy: 0.8691\n",
            "Epoch 640/1000\n",
            "20/20 [==============================] - 0s 1ms/step - loss: 0.3142 - accuracy: 0.8707\n",
            "Epoch 641/1000\n",
            "20/20 [==============================] - 0s 1ms/step - loss: 0.3142 - accuracy: 0.8691\n",
            "Epoch 642/1000\n",
            "20/20 [==============================] - 0s 1ms/step - loss: 0.3140 - accuracy: 0.8707\n",
            "Epoch 643/1000\n",
            "20/20 [==============================] - 0s 2ms/step - loss: 0.3140 - accuracy: 0.8707\n",
            "Epoch 644/1000\n",
            "20/20 [==============================] - 0s 1ms/step - loss: 0.3134 - accuracy: 0.8674\n",
            "Epoch 645/1000\n",
            "20/20 [==============================] - 0s 1ms/step - loss: 0.3144 - accuracy: 0.8691\n",
            "Epoch 646/1000\n",
            "20/20 [==============================] - 0s 1ms/step - loss: 0.3143 - accuracy: 0.8707\n",
            "Epoch 647/1000\n",
            "20/20 [==============================] - 0s 1ms/step - loss: 0.3135 - accuracy: 0.8691\n",
            "Epoch 648/1000\n",
            "20/20 [==============================] - 0s 1ms/step - loss: 0.3134 - accuracy: 0.8740\n",
            "Epoch 649/1000\n",
            "20/20 [==============================] - 0s 1ms/step - loss: 0.3163 - accuracy: 0.8691\n",
            "Epoch 650/1000\n",
            "20/20 [==============================] - 0s 1ms/step - loss: 0.3179 - accuracy: 0.8707\n",
            "Epoch 651/1000\n",
            "20/20 [==============================] - 0s 1ms/step - loss: 0.3160 - accuracy: 0.8707\n",
            "Epoch 652/1000\n",
            "20/20 [==============================] - 0s 1ms/step - loss: 0.3153 - accuracy: 0.8674\n",
            "Epoch 653/1000\n",
            "20/20 [==============================] - 0s 1ms/step - loss: 0.3142 - accuracy: 0.8625\n",
            "Epoch 654/1000\n",
            "20/20 [==============================] - 0s 1ms/step - loss: 0.3144 - accuracy: 0.8723\n",
            "Epoch 655/1000\n",
            "20/20 [==============================] - 0s 1ms/step - loss: 0.3142 - accuracy: 0.8707\n",
            "Epoch 656/1000\n",
            "20/20 [==============================] - 0s 1ms/step - loss: 0.3138 - accuracy: 0.8707\n",
            "Epoch 657/1000\n",
            "20/20 [==============================] - 0s 1ms/step - loss: 0.3135 - accuracy: 0.8723\n",
            "Epoch 658/1000\n",
            "20/20 [==============================] - 0s 1ms/step - loss: 0.3146 - accuracy: 0.8707\n",
            "Epoch 659/1000\n",
            "20/20 [==============================] - 0s 1ms/step - loss: 0.3153 - accuracy: 0.8658\n",
            "Epoch 660/1000\n",
            "20/20 [==============================] - 0s 1ms/step - loss: 0.3173 - accuracy: 0.8691\n",
            "Epoch 661/1000\n",
            "20/20 [==============================] - 0s 1ms/step - loss: 0.3147 - accuracy: 0.8707\n",
            "Epoch 662/1000\n",
            "20/20 [==============================] - 0s 1ms/step - loss: 0.3142 - accuracy: 0.8658\n",
            "Epoch 663/1000\n",
            "20/20 [==============================] - 0s 1ms/step - loss: 0.3148 - accuracy: 0.8707\n",
            "Epoch 664/1000\n",
            "20/20 [==============================] - 0s 2ms/step - loss: 0.3144 - accuracy: 0.8691\n",
            "Epoch 665/1000\n",
            "20/20 [==============================] - 0s 1ms/step - loss: 0.3131 - accuracy: 0.8707\n",
            "Epoch 666/1000\n",
            "20/20 [==============================] - 0s 1ms/step - loss: 0.3141 - accuracy: 0.8707\n",
            "Epoch 667/1000\n",
            "20/20 [==============================] - 0s 1ms/step - loss: 0.3137 - accuracy: 0.8707\n",
            "Epoch 668/1000\n",
            "20/20 [==============================] - 0s 1ms/step - loss: 0.3142 - accuracy: 0.8674\n",
            "Epoch 669/1000\n",
            "20/20 [==============================] - 0s 1ms/step - loss: 0.3125 - accuracy: 0.8674\n",
            "Epoch 670/1000\n",
            "20/20 [==============================] - 0s 1ms/step - loss: 0.3126 - accuracy: 0.8707\n",
            "Epoch 671/1000\n",
            "20/20 [==============================] - 0s 1ms/step - loss: 0.3137 - accuracy: 0.8674\n",
            "Epoch 672/1000\n",
            "20/20 [==============================] - 0s 1ms/step - loss: 0.3124 - accuracy: 0.8691\n",
            "Epoch 673/1000\n",
            "20/20 [==============================] - 0s 1ms/step - loss: 0.3125 - accuracy: 0.8723\n",
            "Epoch 674/1000\n",
            "20/20 [==============================] - 0s 1ms/step - loss: 0.3131 - accuracy: 0.8707\n",
            "Epoch 675/1000\n",
            "20/20 [==============================] - 0s 1ms/step - loss: 0.3125 - accuracy: 0.8674\n",
            "Epoch 676/1000\n",
            "20/20 [==============================] - 0s 2ms/step - loss: 0.3132 - accuracy: 0.8707\n",
            "Epoch 677/1000\n",
            "20/20 [==============================] - 0s 1ms/step - loss: 0.3130 - accuracy: 0.8723\n",
            "Epoch 678/1000\n",
            "20/20 [==============================] - 0s 1ms/step - loss: 0.3125 - accuracy: 0.8723\n",
            "Epoch 679/1000\n",
            "20/20 [==============================] - 0s 1ms/step - loss: 0.3136 - accuracy: 0.8658\n",
            "Epoch 680/1000\n",
            "20/20 [==============================] - 0s 1ms/step - loss: 0.3168 - accuracy: 0.8674\n",
            "Epoch 681/1000\n",
            "20/20 [==============================] - 0s 1ms/step - loss: 0.3175 - accuracy: 0.8642\n",
            "Epoch 682/1000\n",
            "20/20 [==============================] - 0s 1ms/step - loss: 0.3162 - accuracy: 0.8658\n",
            "Epoch 683/1000\n",
            "20/20 [==============================] - 0s 1ms/step - loss: 0.3163 - accuracy: 0.8691\n",
            "Epoch 684/1000\n",
            "20/20 [==============================] - 0s 2ms/step - loss: 0.3137 - accuracy: 0.8691\n",
            "Epoch 685/1000\n",
            "20/20 [==============================] - 0s 1ms/step - loss: 0.3138 - accuracy: 0.8723\n",
            "Epoch 686/1000\n",
            "20/20 [==============================] - 0s 1ms/step - loss: 0.3146 - accuracy: 0.8658\n",
            "Epoch 687/1000\n",
            "20/20 [==============================] - 0s 1ms/step - loss: 0.3136 - accuracy: 0.8707\n",
            "Epoch 688/1000\n",
            "20/20 [==============================] - 0s 1ms/step - loss: 0.3136 - accuracy: 0.8691\n",
            "Epoch 689/1000\n",
            "20/20 [==============================] - 0s 1ms/step - loss: 0.3135 - accuracy: 0.8707\n",
            "Epoch 690/1000\n",
            "20/20 [==============================] - 0s 1ms/step - loss: 0.3116 - accuracy: 0.8707\n",
            "Epoch 691/1000\n",
            "20/20 [==============================] - 0s 1ms/step - loss: 0.3130 - accuracy: 0.8740\n",
            "Epoch 692/1000\n",
            "20/20 [==============================] - 0s 1ms/step - loss: 0.3120 - accuracy: 0.8740\n",
            "Epoch 693/1000\n",
            "20/20 [==============================] - 0s 1ms/step - loss: 0.3186 - accuracy: 0.8691\n",
            "Epoch 694/1000\n",
            "20/20 [==============================] - 0s 1ms/step - loss: 0.3153 - accuracy: 0.8707\n",
            "Epoch 695/1000\n",
            "20/20 [==============================] - 0s 1ms/step - loss: 0.3121 - accuracy: 0.8723\n",
            "Epoch 696/1000\n",
            "20/20 [==============================] - 0s 1ms/step - loss: 0.3137 - accuracy: 0.8740\n",
            "Epoch 697/1000\n",
            "20/20 [==============================] - 0s 1ms/step - loss: 0.3122 - accuracy: 0.8723\n",
            "Epoch 698/1000\n",
            "20/20 [==============================] - 0s 1ms/step - loss: 0.3118 - accuracy: 0.8740\n",
            "Epoch 699/1000\n",
            "20/20 [==============================] - 0s 1ms/step - loss: 0.3121 - accuracy: 0.8723\n",
            "Epoch 700/1000\n",
            "20/20 [==============================] - 0s 1ms/step - loss: 0.3114 - accuracy: 0.8723\n",
            "Epoch 701/1000\n",
            "20/20 [==============================] - 0s 1ms/step - loss: 0.3119 - accuracy: 0.8707\n",
            "Epoch 702/1000\n",
            "20/20 [==============================] - 0s 1ms/step - loss: 0.3112 - accuracy: 0.8723\n",
            "Epoch 703/1000\n",
            "20/20 [==============================] - 0s 1ms/step - loss: 0.3122 - accuracy: 0.8723\n",
            "Epoch 704/1000\n",
            "20/20 [==============================] - 0s 1ms/step - loss: 0.3137 - accuracy: 0.8723\n",
            "Epoch 705/1000\n",
            "20/20 [==============================] - 0s 1ms/step - loss: 0.3125 - accuracy: 0.8707\n",
            "Epoch 706/1000\n",
            "20/20 [==============================] - 0s 1ms/step - loss: 0.3126 - accuracy: 0.8723\n",
            "Epoch 707/1000\n",
            "20/20 [==============================] - 0s 1ms/step - loss: 0.3117 - accuracy: 0.8691\n",
            "Epoch 708/1000\n",
            "20/20 [==============================] - 0s 1ms/step - loss: 0.3131 - accuracy: 0.8707\n",
            "Epoch 709/1000\n",
            "20/20 [==============================] - 0s 1ms/step - loss: 0.3155 - accuracy: 0.8625\n",
            "Epoch 710/1000\n",
            "20/20 [==============================] - 0s 1ms/step - loss: 0.3116 - accuracy: 0.8723\n",
            "Epoch 711/1000\n",
            "20/20 [==============================] - 0s 1ms/step - loss: 0.3115 - accuracy: 0.8707\n",
            "Epoch 712/1000\n",
            "20/20 [==============================] - 0s 1ms/step - loss: 0.3124 - accuracy: 0.8691\n",
            "Epoch 713/1000\n",
            "20/20 [==============================] - 0s 1ms/step - loss: 0.3110 - accuracy: 0.8691\n",
            "Epoch 714/1000\n",
            "20/20 [==============================] - 0s 1ms/step - loss: 0.3161 - accuracy: 0.8674\n",
            "Epoch 715/1000\n",
            "20/20 [==============================] - 0s 1ms/step - loss: 0.3142 - accuracy: 0.8707\n",
            "Epoch 716/1000\n",
            "20/20 [==============================] - 0s 1ms/step - loss: 0.3124 - accuracy: 0.8723\n",
            "Epoch 717/1000\n",
            "20/20 [==============================] - 0s 1ms/step - loss: 0.3100 - accuracy: 0.8691\n",
            "Epoch 718/1000\n",
            "20/20 [==============================] - 0s 2ms/step - loss: 0.3116 - accuracy: 0.8707\n",
            "Epoch 719/1000\n",
            "20/20 [==============================] - 0s 1ms/step - loss: 0.3102 - accuracy: 0.8740\n",
            "Epoch 720/1000\n",
            "20/20 [==============================] - 0s 1ms/step - loss: 0.3103 - accuracy: 0.8740\n",
            "Epoch 721/1000\n",
            "20/20 [==============================] - 0s 1ms/step - loss: 0.3132 - accuracy: 0.8723\n",
            "Epoch 722/1000\n",
            "20/20 [==============================] - 0s 1ms/step - loss: 0.3113 - accuracy: 0.8691\n",
            "Epoch 723/1000\n",
            "20/20 [==============================] - 0s 1ms/step - loss: 0.3106 - accuracy: 0.8707\n",
            "Epoch 724/1000\n",
            "20/20 [==============================] - 0s 1ms/step - loss: 0.3102 - accuracy: 0.8674\n",
            "Epoch 725/1000\n",
            "20/20 [==============================] - 0s 1ms/step - loss: 0.3100 - accuracy: 0.8691\n",
            "Epoch 726/1000\n",
            "20/20 [==============================] - 0s 1ms/step - loss: 0.3113 - accuracy: 0.8723\n",
            "Epoch 727/1000\n",
            "20/20 [==============================] - 0s 1ms/step - loss: 0.3106 - accuracy: 0.8707\n",
            "Epoch 728/1000\n",
            "20/20 [==============================] - 0s 1ms/step - loss: 0.3114 - accuracy: 0.8691\n",
            "Epoch 729/1000\n",
            "20/20 [==============================] - 0s 1ms/step - loss: 0.3122 - accuracy: 0.8723\n",
            "Epoch 730/1000\n",
            "20/20 [==============================] - 0s 1ms/step - loss: 0.3108 - accuracy: 0.8723\n",
            "Epoch 731/1000\n",
            "20/20 [==============================] - 0s 1ms/step - loss: 0.3128 - accuracy: 0.8707\n",
            "Epoch 732/1000\n",
            "20/20 [==============================] - 0s 1ms/step - loss: 0.3110 - accuracy: 0.8740\n",
            "Epoch 733/1000\n",
            "20/20 [==============================] - 0s 1ms/step - loss: 0.3121 - accuracy: 0.8674\n",
            "Epoch 734/1000\n",
            "20/20 [==============================] - 0s 1ms/step - loss: 0.3098 - accuracy: 0.8707\n",
            "Epoch 735/1000\n",
            "20/20 [==============================] - 0s 1ms/step - loss: 0.3113 - accuracy: 0.8723\n",
            "Epoch 736/1000\n",
            "20/20 [==============================] - 0s 1ms/step - loss: 0.3103 - accuracy: 0.8707\n",
            "Epoch 737/1000\n",
            "20/20 [==============================] - 0s 1ms/step - loss: 0.3086 - accuracy: 0.8674\n",
            "Epoch 738/1000\n",
            "20/20 [==============================] - 0s 1ms/step - loss: 0.3098 - accuracy: 0.8723\n",
            "Epoch 739/1000\n",
            "20/20 [==============================] - 0s 1ms/step - loss: 0.3103 - accuracy: 0.8723\n",
            "Epoch 740/1000\n",
            "20/20 [==============================] - 0s 1ms/step - loss: 0.3115 - accuracy: 0.8691\n",
            "Epoch 741/1000\n",
            "20/20 [==============================] - 0s 1ms/step - loss: 0.3112 - accuracy: 0.8691\n",
            "Epoch 742/1000\n",
            "20/20 [==============================] - 0s 1ms/step - loss: 0.3131 - accuracy: 0.8740\n",
            "Epoch 743/1000\n",
            "20/20 [==============================] - 0s 1ms/step - loss: 0.3132 - accuracy: 0.8723\n",
            "Epoch 744/1000\n",
            "20/20 [==============================] - 0s 1ms/step - loss: 0.3109 - accuracy: 0.8740\n",
            "Epoch 745/1000\n",
            "20/20 [==============================] - 0s 1ms/step - loss: 0.3091 - accuracy: 0.8723\n",
            "Epoch 746/1000\n",
            "20/20 [==============================] - 0s 1ms/step - loss: 0.3098 - accuracy: 0.8723\n",
            "Epoch 747/1000\n",
            "20/20 [==============================] - 0s 1ms/step - loss: 0.3105 - accuracy: 0.8723\n",
            "Epoch 748/1000\n",
            "20/20 [==============================] - 0s 1ms/step - loss: 0.3094 - accuracy: 0.8723\n",
            "Epoch 749/1000\n",
            "20/20 [==============================] - 0s 1ms/step - loss: 0.3089 - accuracy: 0.8707\n",
            "Epoch 750/1000\n",
            "20/20 [==============================] - 0s 1ms/step - loss: 0.3097 - accuracy: 0.8723\n",
            "Epoch 751/1000\n",
            "20/20 [==============================] - 0s 1ms/step - loss: 0.3086 - accuracy: 0.8740\n",
            "Epoch 752/1000\n",
            "20/20 [==============================] - 0s 2ms/step - loss: 0.3084 - accuracy: 0.8756\n",
            "Epoch 753/1000\n",
            "20/20 [==============================] - 0s 1ms/step - loss: 0.3089 - accuracy: 0.8723\n",
            "Epoch 754/1000\n",
            "20/20 [==============================] - 0s 1ms/step - loss: 0.3084 - accuracy: 0.8723\n",
            "Epoch 755/1000\n",
            "20/20 [==============================] - 0s 1ms/step - loss: 0.3082 - accuracy: 0.8756\n",
            "Epoch 756/1000\n",
            "20/20 [==============================] - 0s 1ms/step - loss: 0.3077 - accuracy: 0.8723\n",
            "Epoch 757/1000\n",
            "20/20 [==============================] - 0s 1ms/step - loss: 0.3083 - accuracy: 0.8740\n",
            "Epoch 758/1000\n",
            "20/20 [==============================] - 0s 2ms/step - loss: 0.3106 - accuracy: 0.8756\n",
            "Epoch 759/1000\n",
            "20/20 [==============================] - 0s 1ms/step - loss: 0.3100 - accuracy: 0.8723\n",
            "Epoch 760/1000\n",
            "20/20 [==============================] - 0s 2ms/step - loss: 0.3098 - accuracy: 0.8773\n",
            "Epoch 761/1000\n",
            "20/20 [==============================] - 0s 1ms/step - loss: 0.3130 - accuracy: 0.8642\n",
            "Epoch 762/1000\n",
            "20/20 [==============================] - 0s 1ms/step - loss: 0.3118 - accuracy: 0.8691\n",
            "Epoch 763/1000\n",
            "20/20 [==============================] - 0s 1ms/step - loss: 0.3098 - accuracy: 0.8707\n",
            "Epoch 764/1000\n",
            "20/20 [==============================] - 0s 1ms/step - loss: 0.3097 - accuracy: 0.8740\n",
            "Epoch 765/1000\n",
            "20/20 [==============================] - 0s 1ms/step - loss: 0.3134 - accuracy: 0.8691\n",
            "Epoch 766/1000\n",
            "20/20 [==============================] - 0s 1ms/step - loss: 0.3135 - accuracy: 0.8674\n",
            "Epoch 767/1000\n",
            "20/20 [==============================] - 0s 1ms/step - loss: 0.3093 - accuracy: 0.8707\n",
            "Epoch 768/1000\n",
            "20/20 [==============================] - 0s 1ms/step - loss: 0.3091 - accuracy: 0.8723\n",
            "Epoch 769/1000\n",
            "20/20 [==============================] - 0s 1ms/step - loss: 0.3090 - accuracy: 0.8723\n",
            "Epoch 770/1000\n",
            "20/20 [==============================] - 0s 1ms/step - loss: 0.3102 - accuracy: 0.8740\n",
            "Epoch 771/1000\n",
            "20/20 [==============================] - 0s 1ms/step - loss: 0.3090 - accuracy: 0.8740\n",
            "Epoch 772/1000\n",
            "20/20 [==============================] - 0s 1ms/step - loss: 0.3092 - accuracy: 0.8740\n",
            "Epoch 773/1000\n",
            "20/20 [==============================] - 0s 1ms/step - loss: 0.3085 - accuracy: 0.8756\n",
            "Epoch 774/1000\n",
            "20/20 [==============================] - 0s 1ms/step - loss: 0.3111 - accuracy: 0.8723\n",
            "Epoch 775/1000\n",
            "20/20 [==============================] - 0s 1ms/step - loss: 0.3092 - accuracy: 0.8723\n",
            "Epoch 776/1000\n",
            "20/20 [==============================] - 0s 1ms/step - loss: 0.3103 - accuracy: 0.8740\n",
            "Epoch 777/1000\n",
            "20/20 [==============================] - 0s 1ms/step - loss: 0.3089 - accuracy: 0.8674\n",
            "Epoch 778/1000\n",
            "20/20 [==============================] - 0s 1ms/step - loss: 0.3100 - accuracy: 0.8691\n",
            "Epoch 779/1000\n",
            "20/20 [==============================] - 0s 1ms/step - loss: 0.3088 - accuracy: 0.8691\n",
            "Epoch 780/1000\n",
            "20/20 [==============================] - 0s 1ms/step - loss: 0.3099 - accuracy: 0.8740\n",
            "Epoch 781/1000\n",
            "20/20 [==============================] - 0s 1ms/step - loss: 0.3100 - accuracy: 0.8674\n",
            "Epoch 782/1000\n",
            "20/20 [==============================] - 0s 1ms/step - loss: 0.3123 - accuracy: 0.8723\n",
            "Epoch 783/1000\n",
            "20/20 [==============================] - 0s 1ms/step - loss: 0.3111 - accuracy: 0.8707\n",
            "Epoch 784/1000\n",
            "20/20 [==============================] - 0s 2ms/step - loss: 0.3087 - accuracy: 0.8740\n",
            "Epoch 785/1000\n",
            "20/20 [==============================] - 0s 2ms/step - loss: 0.3090 - accuracy: 0.8723\n",
            "Epoch 786/1000\n",
            "20/20 [==============================] - 0s 1ms/step - loss: 0.3110 - accuracy: 0.8707\n",
            "Epoch 787/1000\n",
            "20/20 [==============================] - 0s 1ms/step - loss: 0.3074 - accuracy: 0.8707\n",
            "Epoch 788/1000\n",
            "20/20 [==============================] - 0s 1ms/step - loss: 0.3080 - accuracy: 0.8707\n",
            "Epoch 789/1000\n",
            "20/20 [==============================] - 0s 1ms/step - loss: 0.3076 - accuracy: 0.8756\n",
            "Epoch 790/1000\n",
            "20/20 [==============================] - 0s 1ms/step - loss: 0.3095 - accuracy: 0.8691\n",
            "Epoch 791/1000\n",
            "20/20 [==============================] - 0s 1ms/step - loss: 0.3086 - accuracy: 0.8707\n",
            "Epoch 792/1000\n",
            "20/20 [==============================] - 0s 1ms/step - loss: 0.3082 - accuracy: 0.8707\n",
            "Epoch 793/1000\n",
            "20/20 [==============================] - 0s 1ms/step - loss: 0.3159 - accuracy: 0.8642\n",
            "Epoch 794/1000\n",
            "20/20 [==============================] - 0s 1ms/step - loss: 0.3133 - accuracy: 0.8642\n",
            "Epoch 795/1000\n",
            "20/20 [==============================] - 0s 1ms/step - loss: 0.3155 - accuracy: 0.8674\n",
            "Epoch 796/1000\n",
            "20/20 [==============================] - 0s 1ms/step - loss: 0.3110 - accuracy: 0.8674\n",
            "Epoch 797/1000\n",
            "20/20 [==============================] - 0s 1ms/step - loss: 0.3122 - accuracy: 0.8625\n",
            "Epoch 798/1000\n",
            "20/20 [==============================] - 0s 1ms/step - loss: 0.3110 - accuracy: 0.8658\n",
            "Epoch 799/1000\n",
            "20/20 [==============================] - 0s 1ms/step - loss: 0.3111 - accuracy: 0.8691\n",
            "Epoch 800/1000\n",
            "20/20 [==============================] - 0s 1ms/step - loss: 0.3129 - accuracy: 0.8674\n",
            "Epoch 801/1000\n",
            "20/20 [==============================] - 0s 1ms/step - loss: 0.3110 - accuracy: 0.8723\n",
            "Epoch 802/1000\n",
            "20/20 [==============================] - 0s 1ms/step - loss: 0.3107 - accuracy: 0.8691\n",
            "Epoch 803/1000\n",
            "20/20 [==============================] - 0s 1ms/step - loss: 0.3088 - accuracy: 0.8723\n",
            "Epoch 804/1000\n",
            "20/20 [==============================] - 0s 1ms/step - loss: 0.3068 - accuracy: 0.8723\n",
            "Epoch 805/1000\n",
            "20/20 [==============================] - 0s 1ms/step - loss: 0.3086 - accuracy: 0.8707\n",
            "Epoch 806/1000\n",
            "20/20 [==============================] - 0s 1ms/step - loss: 0.3116 - accuracy: 0.8707\n",
            "Epoch 807/1000\n",
            "20/20 [==============================] - 0s 1ms/step - loss: 0.3097 - accuracy: 0.8691\n",
            "Epoch 808/1000\n",
            "20/20 [==============================] - 0s 1ms/step - loss: 0.3097 - accuracy: 0.8691\n",
            "Epoch 809/1000\n",
            "20/20 [==============================] - 0s 1ms/step - loss: 0.3071 - accuracy: 0.8674\n",
            "Epoch 810/1000\n",
            "20/20 [==============================] - 0s 1ms/step - loss: 0.3092 - accuracy: 0.8658\n",
            "Epoch 811/1000\n",
            "20/20 [==============================] - 0s 1ms/step - loss: 0.3109 - accuracy: 0.8674\n",
            "Epoch 812/1000\n",
            "20/20 [==============================] - 0s 1ms/step - loss: 0.3074 - accuracy: 0.8691\n",
            "Epoch 813/1000\n",
            "20/20 [==============================] - 0s 2ms/step - loss: 0.3083 - accuracy: 0.8723\n",
            "Epoch 814/1000\n",
            "20/20 [==============================] - 0s 2ms/step - loss: 0.3062 - accuracy: 0.8707\n",
            "Epoch 815/1000\n",
            "20/20 [==============================] - 0s 1ms/step - loss: 0.3094 - accuracy: 0.8707\n",
            "Epoch 816/1000\n",
            "20/20 [==============================] - 0s 1ms/step - loss: 0.3062 - accuracy: 0.8723\n",
            "Epoch 817/1000\n",
            "20/20 [==============================] - 0s 1ms/step - loss: 0.3062 - accuracy: 0.8740\n",
            "Epoch 818/1000\n",
            "20/20 [==============================] - 0s 1ms/step - loss: 0.3063 - accuracy: 0.8723\n",
            "Epoch 819/1000\n",
            "20/20 [==============================] - 0s 1ms/step - loss: 0.3067 - accuracy: 0.8723\n",
            "Epoch 820/1000\n",
            "20/20 [==============================] - 0s 1ms/step - loss: 0.3077 - accuracy: 0.8707\n",
            "Epoch 821/1000\n",
            "20/20 [==============================] - 0s 1ms/step - loss: 0.3076 - accuracy: 0.8707\n",
            "Epoch 822/1000\n",
            "20/20 [==============================] - 0s 1ms/step - loss: 0.3078 - accuracy: 0.8707\n",
            "Epoch 823/1000\n",
            "20/20 [==============================] - 0s 1ms/step - loss: 0.3072 - accuracy: 0.8691\n",
            "Epoch 824/1000\n",
            "20/20 [==============================] - 0s 1ms/step - loss: 0.3076 - accuracy: 0.8642\n",
            "Epoch 825/1000\n",
            "20/20 [==============================] - 0s 1ms/step - loss: 0.3088 - accuracy: 0.8658\n",
            "Epoch 826/1000\n",
            "20/20 [==============================] - 0s 1ms/step - loss: 0.3109 - accuracy: 0.8658\n",
            "Epoch 827/1000\n",
            "20/20 [==============================] - 0s 1ms/step - loss: 0.3061 - accuracy: 0.8723\n",
            "Epoch 828/1000\n",
            "20/20 [==============================] - 0s 1ms/step - loss: 0.3071 - accuracy: 0.8658\n",
            "Epoch 829/1000\n",
            "20/20 [==============================] - 0s 1ms/step - loss: 0.3071 - accuracy: 0.8691\n",
            "Epoch 830/1000\n",
            "20/20 [==============================] - 0s 1ms/step - loss: 0.3095 - accuracy: 0.8707\n",
            "Epoch 831/1000\n",
            "20/20 [==============================] - 0s 1ms/step - loss: 0.3110 - accuracy: 0.8723\n",
            "Epoch 832/1000\n",
            "20/20 [==============================] - 0s 1ms/step - loss: 0.3070 - accuracy: 0.8707\n",
            "Epoch 833/1000\n",
            "20/20 [==============================] - 0s 1ms/step - loss: 0.3080 - accuracy: 0.8658\n",
            "Epoch 834/1000\n",
            "20/20 [==============================] - 0s 1ms/step - loss: 0.3057 - accuracy: 0.8691\n",
            "Epoch 835/1000\n",
            "20/20 [==============================] - 0s 1ms/step - loss: 0.3055 - accuracy: 0.8707\n",
            "Epoch 836/1000\n",
            "20/20 [==============================] - 0s 1ms/step - loss: 0.3071 - accuracy: 0.8674\n",
            "Epoch 837/1000\n",
            "20/20 [==============================] - 0s 1ms/step - loss: 0.3067 - accuracy: 0.8707\n",
            "Epoch 838/1000\n",
            "20/20 [==============================] - 0s 1ms/step - loss: 0.3055 - accuracy: 0.8707\n",
            "Epoch 839/1000\n",
            "20/20 [==============================] - 0s 1ms/step - loss: 0.3075 - accuracy: 0.8658\n",
            "Epoch 840/1000\n",
            "20/20 [==============================] - 0s 1ms/step - loss: 0.3117 - accuracy: 0.8642\n",
            "Epoch 841/1000\n",
            "20/20 [==============================] - 0s 1ms/step - loss: 0.3089 - accuracy: 0.8674\n",
            "Epoch 842/1000\n",
            "20/20 [==============================] - 0s 1ms/step - loss: 0.3085 - accuracy: 0.8658\n",
            "Epoch 843/1000\n",
            "20/20 [==============================] - 0s 1ms/step - loss: 0.3064 - accuracy: 0.8707\n",
            "Epoch 844/1000\n",
            "20/20 [==============================] - 0s 1ms/step - loss: 0.3071 - accuracy: 0.8691\n",
            "Epoch 845/1000\n",
            "20/20 [==============================] - 0s 1ms/step - loss: 0.3117 - accuracy: 0.8707\n",
            "Epoch 846/1000\n",
            "20/20 [==============================] - 0s 1ms/step - loss: 0.3097 - accuracy: 0.8674\n",
            "Epoch 847/1000\n",
            "20/20 [==============================] - 0s 1ms/step - loss: 0.3096 - accuracy: 0.8707\n",
            "Epoch 848/1000\n",
            "20/20 [==============================] - 0s 1ms/step - loss: 0.3061 - accuracy: 0.8707\n",
            "Epoch 849/1000\n",
            "20/20 [==============================] - 0s 2ms/step - loss: 0.3057 - accuracy: 0.8674\n",
            "Epoch 850/1000\n",
            "20/20 [==============================] - 0s 1ms/step - loss: 0.3073 - accuracy: 0.8674\n",
            "Epoch 851/1000\n",
            "20/20 [==============================] - 0s 1ms/step - loss: 0.3078 - accuracy: 0.8642\n",
            "Epoch 852/1000\n",
            "20/20 [==============================] - 0s 1ms/step - loss: 0.3049 - accuracy: 0.8658\n",
            "Epoch 853/1000\n",
            "20/20 [==============================] - 0s 1ms/step - loss: 0.3051 - accuracy: 0.8658\n",
            "Epoch 854/1000\n",
            "20/20 [==============================] - 0s 1ms/step - loss: 0.3055 - accuracy: 0.8691\n",
            "Epoch 855/1000\n",
            "20/20 [==============================] - 0s 1ms/step - loss: 0.3050 - accuracy: 0.8723\n",
            "Epoch 856/1000\n",
            "20/20 [==============================] - 0s 1ms/step - loss: 0.3049 - accuracy: 0.8707\n",
            "Epoch 857/1000\n",
            "20/20 [==============================] - 0s 1ms/step - loss: 0.3046 - accuracy: 0.8723\n",
            "Epoch 858/1000\n",
            "20/20 [==============================] - 0s 1ms/step - loss: 0.3042 - accuracy: 0.8723\n",
            "Epoch 859/1000\n",
            "20/20 [==============================] - 0s 2ms/step - loss: 0.3040 - accuracy: 0.8723\n",
            "Epoch 860/1000\n",
            "20/20 [==============================] - 0s 1ms/step - loss: 0.3100 - accuracy: 0.8723\n",
            "Epoch 861/1000\n",
            "20/20 [==============================] - 0s 1ms/step - loss: 0.3037 - accuracy: 0.8658\n",
            "Epoch 862/1000\n",
            "20/20 [==============================] - 0s 1ms/step - loss: 0.3036 - accuracy: 0.8723\n",
            "Epoch 863/1000\n",
            "20/20 [==============================] - 0s 1ms/step - loss: 0.3041 - accuracy: 0.8707\n",
            "Epoch 864/1000\n",
            "20/20 [==============================] - 0s 1ms/step - loss: 0.3039 - accuracy: 0.8740\n",
            "Epoch 865/1000\n",
            "20/20 [==============================] - 0s 1ms/step - loss: 0.3046 - accuracy: 0.8723\n",
            "Epoch 866/1000\n",
            "20/20 [==============================] - 0s 1ms/step - loss: 0.3039 - accuracy: 0.8707\n",
            "Epoch 867/1000\n",
            "20/20 [==============================] - 0s 1ms/step - loss: 0.3056 - accuracy: 0.8658\n",
            "Epoch 868/1000\n",
            "20/20 [==============================] - 0s 1ms/step - loss: 0.3065 - accuracy: 0.8707\n",
            "Epoch 869/1000\n",
            "20/20 [==============================] - 0s 1ms/step - loss: 0.3062 - accuracy: 0.8691\n",
            "Epoch 870/1000\n",
            "20/20 [==============================] - 0s 1ms/step - loss: 0.3033 - accuracy: 0.8707\n",
            "Epoch 871/1000\n",
            "20/20 [==============================] - 0s 1ms/step - loss: 0.3035 - accuracy: 0.8674\n",
            "Epoch 872/1000\n",
            "20/20 [==============================] - 0s 1ms/step - loss: 0.3062 - accuracy: 0.8658\n",
            "Epoch 873/1000\n",
            "20/20 [==============================] - 0s 1ms/step - loss: 0.3051 - accuracy: 0.8691\n",
            "Epoch 874/1000\n",
            "20/20 [==============================] - 0s 1ms/step - loss: 0.3078 - accuracy: 0.8723\n",
            "Epoch 875/1000\n",
            "20/20 [==============================] - 0s 1ms/step - loss: 0.3075 - accuracy: 0.8674\n",
            "Epoch 876/1000\n",
            "20/20 [==============================] - 0s 1ms/step - loss: 0.3042 - accuracy: 0.8723\n",
            "Epoch 877/1000\n",
            "20/20 [==============================] - 0s 1ms/step - loss: 0.3030 - accuracy: 0.8723\n",
            "Epoch 878/1000\n",
            "20/20 [==============================] - 0s 1ms/step - loss: 0.3031 - accuracy: 0.8723\n",
            "Epoch 879/1000\n",
            "20/20 [==============================] - 0s 1ms/step - loss: 0.3043 - accuracy: 0.8740\n",
            "Epoch 880/1000\n",
            "20/20 [==============================] - 0s 1ms/step - loss: 0.3028 - accuracy: 0.8723\n",
            "Epoch 881/1000\n",
            "20/20 [==============================] - 0s 1ms/step - loss: 0.3043 - accuracy: 0.8674\n",
            "Epoch 882/1000\n",
            "20/20 [==============================] - 0s 1ms/step - loss: 0.3037 - accuracy: 0.8707\n",
            "Epoch 883/1000\n",
            "20/20 [==============================] - 0s 1ms/step - loss: 0.3029 - accuracy: 0.8707\n",
            "Epoch 884/1000\n",
            "20/20 [==============================] - 0s 1ms/step - loss: 0.3076 - accuracy: 0.8642\n",
            "Epoch 885/1000\n",
            "20/20 [==============================] - 0s 1ms/step - loss: 0.3043 - accuracy: 0.8723\n",
            "Epoch 886/1000\n",
            "20/20 [==============================] - 0s 1ms/step - loss: 0.3034 - accuracy: 0.8723\n",
            "Epoch 887/1000\n",
            "20/20 [==============================] - 0s 1ms/step - loss: 0.3040 - accuracy: 0.8674\n",
            "Epoch 888/1000\n",
            "20/20 [==============================] - 0s 1ms/step - loss: 0.3025 - accuracy: 0.8658\n",
            "Epoch 889/1000\n",
            "20/20 [==============================] - 0s 1ms/step - loss: 0.3059 - accuracy: 0.8674\n",
            "Epoch 890/1000\n",
            "20/20 [==============================] - 0s 1ms/step - loss: 0.3047 - accuracy: 0.8674\n",
            "Epoch 891/1000\n",
            "20/20 [==============================] - 0s 1ms/step - loss: 0.3024 - accuracy: 0.8723\n",
            "Epoch 892/1000\n",
            "20/20 [==============================] - 0s 1ms/step - loss: 0.3040 - accuracy: 0.8707\n",
            "Epoch 893/1000\n",
            "20/20 [==============================] - 0s 1ms/step - loss: 0.3024 - accuracy: 0.8707\n",
            "Epoch 894/1000\n",
            "20/20 [==============================] - 0s 1ms/step - loss: 0.3021 - accuracy: 0.8691\n",
            "Epoch 895/1000\n",
            "20/20 [==============================] - 0s 1ms/step - loss: 0.3025 - accuracy: 0.8691\n",
            "Epoch 896/1000\n",
            "20/20 [==============================] - 0s 1ms/step - loss: 0.3063 - accuracy: 0.8642\n",
            "Epoch 897/1000\n",
            "20/20 [==============================] - 0s 1ms/step - loss: 0.3039 - accuracy: 0.8723\n",
            "Epoch 898/1000\n",
            "20/20 [==============================] - 0s 1ms/step - loss: 0.3089 - accuracy: 0.8658\n",
            "Epoch 899/1000\n",
            "20/20 [==============================] - 0s 1ms/step - loss: 0.3072 - accuracy: 0.8674\n",
            "Epoch 900/1000\n",
            "20/20 [==============================] - 0s 1ms/step - loss: 0.3082 - accuracy: 0.8642\n",
            "Epoch 901/1000\n",
            "20/20 [==============================] - 0s 1ms/step - loss: 0.3061 - accuracy: 0.8723\n",
            "Epoch 902/1000\n",
            "20/20 [==============================] - 0s 1ms/step - loss: 0.3051 - accuracy: 0.8674\n",
            "Epoch 903/1000\n",
            "20/20 [==============================] - 0s 1ms/step - loss: 0.3026 - accuracy: 0.8691\n",
            "Epoch 904/1000\n",
            "20/20 [==============================] - 0s 1ms/step - loss: 0.3027 - accuracy: 0.8707\n",
            "Epoch 905/1000\n",
            "20/20 [==============================] - 0s 1ms/step - loss: 0.3038 - accuracy: 0.8723\n",
            "Epoch 906/1000\n",
            "20/20 [==============================] - 0s 1ms/step - loss: 0.3023 - accuracy: 0.8691\n",
            "Epoch 907/1000\n",
            "20/20 [==============================] - 0s 1ms/step - loss: 0.3028 - accuracy: 0.8658\n",
            "Epoch 908/1000\n",
            "20/20 [==============================] - 0s 1ms/step - loss: 0.3058 - accuracy: 0.8625\n",
            "Epoch 909/1000\n",
            "20/20 [==============================] - 0s 1ms/step - loss: 0.3035 - accuracy: 0.8642\n",
            "Epoch 910/1000\n",
            "20/20 [==============================] - 0s 1ms/step - loss: 0.3029 - accuracy: 0.8674\n",
            "Epoch 911/1000\n",
            "20/20 [==============================] - 0s 1ms/step - loss: 0.3057 - accuracy: 0.8674\n",
            "Epoch 912/1000\n",
            "20/20 [==============================] - 0s 1ms/step - loss: 0.3039 - accuracy: 0.8625\n",
            "Epoch 913/1000\n",
            "20/20 [==============================] - 0s 1ms/step - loss: 0.3033 - accuracy: 0.8658\n",
            "Epoch 914/1000\n",
            "20/20 [==============================] - 0s 1ms/step - loss: 0.3018 - accuracy: 0.8658\n",
            "Epoch 915/1000\n",
            "20/20 [==============================] - 0s 2ms/step - loss: 0.3028 - accuracy: 0.8691\n",
            "Epoch 916/1000\n",
            "20/20 [==============================] - 0s 1ms/step - loss: 0.3019 - accuracy: 0.8658\n",
            "Epoch 917/1000\n",
            "20/20 [==============================] - 0s 1ms/step - loss: 0.3020 - accuracy: 0.8691\n",
            "Epoch 918/1000\n",
            "20/20 [==============================] - 0s 1ms/step - loss: 0.3012 - accuracy: 0.8674\n",
            "Epoch 919/1000\n",
            "20/20 [==============================] - 0s 1ms/step - loss: 0.3018 - accuracy: 0.8658\n",
            "Epoch 920/1000\n",
            "20/20 [==============================] - 0s 1ms/step - loss: 0.3047 - accuracy: 0.8658\n",
            "Epoch 921/1000\n",
            "20/20 [==============================] - 0s 1ms/step - loss: 0.3056 - accuracy: 0.8642\n",
            "Epoch 922/1000\n",
            "20/20 [==============================] - 0s 2ms/step - loss: 0.3027 - accuracy: 0.8691\n",
            "Epoch 923/1000\n",
            "20/20 [==============================] - 0s 1ms/step - loss: 0.3021 - accuracy: 0.8691\n",
            "Epoch 924/1000\n",
            "20/20 [==============================] - 0s 1ms/step - loss: 0.3015 - accuracy: 0.8691\n",
            "Epoch 925/1000\n",
            "20/20 [==============================] - 0s 1ms/step - loss: 0.3019 - accuracy: 0.8674\n",
            "Epoch 926/1000\n",
            "20/20 [==============================] - 0s 1ms/step - loss: 0.3044 - accuracy: 0.8642\n",
            "Epoch 927/1000\n",
            "20/20 [==============================] - 0s 1ms/step - loss: 0.3042 - accuracy: 0.8642\n",
            "Epoch 928/1000\n",
            "20/20 [==============================] - 0s 1ms/step - loss: 0.3038 - accuracy: 0.8691\n",
            "Epoch 929/1000\n",
            "20/20 [==============================] - 0s 1ms/step - loss: 0.3018 - accuracy: 0.8674\n",
            "Epoch 930/1000\n",
            "20/20 [==============================] - 0s 1ms/step - loss: 0.3022 - accuracy: 0.8691\n",
            "Epoch 931/1000\n",
            "20/20 [==============================] - 0s 1ms/step - loss: 0.3062 - accuracy: 0.8609\n",
            "Epoch 932/1000\n",
            "20/20 [==============================] - 0s 1ms/step - loss: 0.3016 - accuracy: 0.8674\n",
            "Epoch 933/1000\n",
            "20/20 [==============================] - 0s 1ms/step - loss: 0.3017 - accuracy: 0.8658\n",
            "Epoch 934/1000\n",
            "20/20 [==============================] - 0s 1ms/step - loss: 0.3021 - accuracy: 0.8674\n",
            "Epoch 935/1000\n",
            "20/20 [==============================] - 0s 1ms/step - loss: 0.3026 - accuracy: 0.8674\n",
            "Epoch 936/1000\n",
            "20/20 [==============================] - 0s 1ms/step - loss: 0.3022 - accuracy: 0.8674\n",
            "Epoch 937/1000\n",
            "20/20 [==============================] - 0s 1ms/step - loss: 0.3028 - accuracy: 0.8658\n",
            "Epoch 938/1000\n",
            "20/20 [==============================] - 0s 1ms/step - loss: 0.3042 - accuracy: 0.8707\n",
            "Epoch 939/1000\n",
            "20/20 [==============================] - 0s 2ms/step - loss: 0.3051 - accuracy: 0.8674\n",
            "Epoch 940/1000\n",
            "20/20 [==============================] - 0s 1ms/step - loss: 0.3049 - accuracy: 0.8642\n",
            "Epoch 941/1000\n",
            "20/20 [==============================] - 0s 1ms/step - loss: 0.3015 - accuracy: 0.8658\n",
            "Epoch 942/1000\n",
            "20/20 [==============================] - 0s 1ms/step - loss: 0.3016 - accuracy: 0.8707\n",
            "Epoch 943/1000\n",
            "20/20 [==============================] - 0s 1ms/step - loss: 0.3013 - accuracy: 0.8674\n",
            "Epoch 944/1000\n",
            "20/20 [==============================] - 0s 1ms/step - loss: 0.3009 - accuracy: 0.8674\n",
            "Epoch 945/1000\n",
            "20/20 [==============================] - 0s 1ms/step - loss: 0.3012 - accuracy: 0.8674\n",
            "Epoch 946/1000\n",
            "20/20 [==============================] - 0s 1ms/step - loss: 0.3019 - accuracy: 0.8658\n",
            "Epoch 947/1000\n",
            "20/20 [==============================] - 0s 1ms/step - loss: 0.3067 - accuracy: 0.8658\n",
            "Epoch 948/1000\n",
            "20/20 [==============================] - 0s 2ms/step - loss: 0.3019 - accuracy: 0.8642\n",
            "Epoch 949/1000\n",
            "20/20 [==============================] - 0s 1ms/step - loss: 0.3015 - accuracy: 0.8674\n",
            "Epoch 950/1000\n",
            "20/20 [==============================] - 0s 1ms/step - loss: 0.3041 - accuracy: 0.8691\n",
            "Epoch 951/1000\n",
            "20/20 [==============================] - 0s 1ms/step - loss: 0.3030 - accuracy: 0.8658\n",
            "Epoch 952/1000\n",
            "20/20 [==============================] - 0s 1ms/step - loss: 0.3016 - accuracy: 0.8723\n",
            "Epoch 953/1000\n",
            "20/20 [==============================] - 0s 1ms/step - loss: 0.3036 - accuracy: 0.8658\n",
            "Epoch 954/1000\n",
            "20/20 [==============================] - 0s 2ms/step - loss: 0.3027 - accuracy: 0.8756\n",
            "Epoch 955/1000\n",
            "20/20 [==============================] - 0s 1ms/step - loss: 0.3028 - accuracy: 0.8707\n",
            "Epoch 956/1000\n",
            "20/20 [==============================] - 0s 1ms/step - loss: 0.3023 - accuracy: 0.8674\n",
            "Epoch 957/1000\n",
            "20/20 [==============================] - 0s 1ms/step - loss: 0.3023 - accuracy: 0.8658\n",
            "Epoch 958/1000\n",
            "20/20 [==============================] - 0s 1ms/step - loss: 0.3017 - accuracy: 0.8674\n",
            "Epoch 959/1000\n",
            "20/20 [==============================] - 0s 1ms/step - loss: 0.3013 - accuracy: 0.8674\n",
            "Epoch 960/1000\n",
            "20/20 [==============================] - 0s 1ms/step - loss: 0.3064 - accuracy: 0.8674\n",
            "Epoch 961/1000\n",
            "20/20 [==============================] - 0s 1ms/step - loss: 0.3064 - accuracy: 0.8658\n",
            "Epoch 962/1000\n",
            "20/20 [==============================] - 0s 1ms/step - loss: 0.3066 - accuracy: 0.8658\n",
            "Epoch 963/1000\n",
            "20/20 [==============================] - 0s 1ms/step - loss: 0.3033 - accuracy: 0.8658\n",
            "Epoch 964/1000\n",
            "20/20 [==============================] - 0s 1ms/step - loss: 0.3025 - accuracy: 0.8691\n",
            "Epoch 965/1000\n",
            "20/20 [==============================] - 0s 1ms/step - loss: 0.3022 - accuracy: 0.8642\n",
            "Epoch 966/1000\n",
            "20/20 [==============================] - 0s 1ms/step - loss: 0.3010 - accuracy: 0.8691\n",
            "Epoch 967/1000\n",
            "20/20 [==============================] - 0s 1ms/step - loss: 0.3017 - accuracy: 0.8691\n",
            "Epoch 968/1000\n",
            "20/20 [==============================] - 0s 1ms/step - loss: 0.3006 - accuracy: 0.8658\n",
            "Epoch 969/1000\n",
            "20/20 [==============================] - 0s 1ms/step - loss: 0.3008 - accuracy: 0.8674\n",
            "Epoch 970/1000\n",
            "20/20 [==============================] - 0s 1ms/step - loss: 0.3012 - accuracy: 0.8658\n",
            "Epoch 971/1000\n",
            "20/20 [==============================] - 0s 1ms/step - loss: 0.3020 - accuracy: 0.8723\n",
            "Epoch 972/1000\n",
            "20/20 [==============================] - 0s 1ms/step - loss: 0.3022 - accuracy: 0.8674\n",
            "Epoch 973/1000\n",
            "20/20 [==============================] - 0s 1ms/step - loss: 0.3006 - accuracy: 0.8691\n",
            "Epoch 974/1000\n",
            "20/20 [==============================] - 0s 1ms/step - loss: 0.3017 - accuracy: 0.8674\n",
            "Epoch 975/1000\n",
            "20/20 [==============================] - 0s 1ms/step - loss: 0.2999 - accuracy: 0.8707\n",
            "Epoch 976/1000\n",
            "20/20 [==============================] - 0s 1ms/step - loss: 0.3004 - accuracy: 0.8674\n",
            "Epoch 977/1000\n",
            "20/20 [==============================] - 0s 1ms/step - loss: 0.3004 - accuracy: 0.8674\n",
            "Epoch 978/1000\n",
            "20/20 [==============================] - 0s 1ms/step - loss: 0.3020 - accuracy: 0.8691\n",
            "Epoch 979/1000\n",
            "20/20 [==============================] - 0s 1ms/step - loss: 0.3015 - accuracy: 0.8642\n",
            "Epoch 980/1000\n",
            "20/20 [==============================] - 0s 1ms/step - loss: 0.3001 - accuracy: 0.8658\n",
            "Epoch 981/1000\n",
            "20/20 [==============================] - 0s 2ms/step - loss: 0.2998 - accuracy: 0.8674\n",
            "Epoch 982/1000\n",
            "20/20 [==============================] - 0s 1ms/step - loss: 0.2995 - accuracy: 0.8658\n",
            "Epoch 983/1000\n",
            "20/20 [==============================] - 0s 1ms/step - loss: 0.2996 - accuracy: 0.8674\n",
            "Epoch 984/1000\n",
            "20/20 [==============================] - 0s 2ms/step - loss: 0.2993 - accuracy: 0.8691\n",
            "Epoch 985/1000\n",
            "20/20 [==============================] - 0s 1ms/step - loss: 0.2991 - accuracy: 0.8658\n",
            "Epoch 986/1000\n",
            "20/20 [==============================] - 0s 2ms/step - loss: 0.2999 - accuracy: 0.8674\n",
            "Epoch 987/1000\n",
            "20/20 [==============================] - 0s 1ms/step - loss: 0.3002 - accuracy: 0.8642\n",
            "Epoch 988/1000\n",
            "20/20 [==============================] - 0s 1ms/step - loss: 0.3003 - accuracy: 0.8674\n",
            "Epoch 989/1000\n",
            "20/20 [==============================] - 0s 1ms/step - loss: 0.3015 - accuracy: 0.8674\n",
            "Epoch 990/1000\n",
            "20/20 [==============================] - 0s 1ms/step - loss: 0.3015 - accuracy: 0.8707\n",
            "Epoch 991/1000\n",
            "20/20 [==============================] - 0s 1ms/step - loss: 0.2997 - accuracy: 0.8674\n",
            "Epoch 992/1000\n",
            "20/20 [==============================] - 0s 1ms/step - loss: 0.3000 - accuracy: 0.8642\n",
            "Epoch 993/1000\n",
            "20/20 [==============================] - 0s 1ms/step - loss: 0.3016 - accuracy: 0.8707\n",
            "Epoch 994/1000\n",
            "20/20 [==============================] - 0s 1ms/step - loss: 0.2996 - accuracy: 0.8707\n",
            "Epoch 995/1000\n",
            "20/20 [==============================] - 0s 1ms/step - loss: 0.2991 - accuracy: 0.8691\n",
            "Epoch 996/1000\n",
            "20/20 [==============================] - 0s 1ms/step - loss: 0.2991 - accuracy: 0.8674\n",
            "Epoch 997/1000\n",
            "20/20 [==============================] - 0s 1ms/step - loss: 0.2995 - accuracy: 0.8691\n",
            "Epoch 998/1000\n",
            "20/20 [==============================] - 0s 1ms/step - loss: 0.2985 - accuracy: 0.8691\n",
            "Epoch 999/1000\n",
            "20/20 [==============================] - 0s 1ms/step - loss: 0.2989 - accuracy: 0.8707\n",
            "Epoch 1000/1000\n",
            "20/20 [==============================] - 0s 1ms/step - loss: 0.2985 - accuracy: 0.8707\n"
          ],
          "name": "stdout"
        }
      ]
    },
    {
      "cell_type": "markdown",
      "metadata": {
        "id": "ZyUKghcfef52",
        "colab_type": "text"
      },
      "source": [
        "## Part 5.8 - Making the predictions"
      ]
    },
    {
      "cell_type": "code",
      "metadata": {
        "id": "S5bNZjUSejfc",
        "colab_type": "code",
        "colab": {}
      },
      "source": [
        "y_pred = model.predict_classes(X_test)"
      ],
      "execution_count": 107,
      "outputs": []
    },
    {
      "cell_type": "markdown",
      "metadata": {
        "id": "g96Oy5Yvez7I",
        "colab_type": "text"
      },
      "source": [
        "## Part 5.9 - Accuracy Score"
      ]
    },
    {
      "cell_type": "code",
      "metadata": {
        "id": "Cu8eleoderPA",
        "colab_type": "code",
        "colab": {
          "base_uri": "https://localhost:8080/",
          "height": 36
        },
        "outputId": "5f350608-e2aa-4daa-cb30-2f76ad48a9ea"
      },
      "source": [
        "accuracy_score(y_test, y_pred)"
      ],
      "execution_count": 108,
      "outputs": [
        {
          "output_type": "execute_result",
          "data": {
            "text/plain": [
              "0.7973856209150327"
            ]
          },
          "metadata": {
            "tags": []
          },
          "execution_count": 108
        }
      ]
    },
    {
      "cell_type": "markdown",
      "metadata": {
        "id": "4BS323pci8a3",
        "colab_type": "text"
      },
      "source": [
        "# Part 6 - Results"
      ]
    },
    {
      "cell_type": "markdown",
      "metadata": {
        "id": "CDj8d94Nfz8U",
        "colab_type": "text"
      },
      "source": [
        "- There are **2 hidden layers** (1st hidden layers has *7 units*, activation function as *relu* and the 2nd hidden layer has *10 units* and activation function as *relu*), the **output layer** (having activation function *'sigmoid'*) and **compiling** with *adam* optimizer and *binary_crossentropy* loss. Then **trained** the model with *batch_size* = 32 and *epochs* = 1000. This model givies the **accuracy score** around <u style = \"color : red\">**79.73%**</u>."
      ]
    },
    {
      "cell_type": "code",
      "metadata": {
        "id": "UWYw-qtzBzst",
        "colab_type": "code",
        "colab": {}
      },
      "source": [
        ""
      ],
      "execution_count": null,
      "outputs": []
    }
  ]
}